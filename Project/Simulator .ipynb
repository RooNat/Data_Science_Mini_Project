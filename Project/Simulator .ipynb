{
 "cells": [
  {
   "cell_type": "markdown",
   "metadata": {
    "pycharm": {
     "name": "#%% md\n"
    }
   },
   "source": [
    "A simple Simulator to test our LSTM model"
   ]
  },
  {
   "cell_type": "code",
   "execution_count": null,
   "metadata": {
    "pycharm": {
     "name": "#%%\n"
    }
   },
   "outputs": [],
   "source": [
    "import pandas as pd\n",
    "import numpy as np\n",
    "import datetime as dt\n",
    "import math\n",
    "import warnings\n",
    "\n",
    "warnings.filterwarnings(\"ignore\")"
   ]
  },
  {
   "cell_type": "code",
   "execution_count": null,
   "metadata": {
    "pycharm": {
     "name": "#%%\n"
    }
   },
   "outputs": [],
   "source": [
    "# Read in the CSV file containing mid-price data\n",
    "data = pd.read_csv(\"your_file.csv\")"
   ]
  },
  {
   "cell_type": "code",
   "execution_count": null,
   "metadata": {
    "pycharm": {
     "name": "#%%\n"
    }
   },
   "outputs": [],
   "source": [
    "# Rename the \"Time\" column to \"Date\" and convert to datetime format\n",
    "data = data.rename(columns={\"Time\": \"Date\"})\n",
    "data[\"Date\"] = pd.to_datetime(data[\"Date\"], format=\"%Y-%m-%d %H:%M:%S.%f\")"
   ]
  },
  {
   "cell_type": "code",
   "execution_count": null,
   "metadata": {
    "pycharm": {
     "name": "#%%\n"
    }
   },
   "outputs": [],
   "source": [
    "# Set the \"Date\" column as the index\n",
    "data = data.set_index(\"Date\")"
   ]
  },
  {
   "cell_type": "code",
   "execution_count": null,
   "metadata": {
    "pycharm": {
     "name": "#%%\n"
    }
   },
   "outputs": [],
   "source": [
    "# Extract the mid-price column and create a new DataFrame\n",
    "midprice = data[[\"Mid_Price\"]]"
   ]
  },
  {
   "cell_type": "code",
   "execution_count": null,
   "metadata": {
    "pycharm": {
     "name": "#%%\n"
    }
   },
   "outputs": [],
   "source": [
    "# Define the list of tickers\n",
    "tickers = midprice.columns.tolist()"
   ]
  },
  {
   "cell_type": "code",
   "execution_count": null,
   "metadata": {
    "pycharm": {
     "name": "#%%\n"
    }
   },
   "outputs": [],
   "source": [
    "# Define the simulation start and end dates, initial amount of money, etc.\n",
    "today = dt.date(2000, 1, 15)\n",
    "simend = dt.date(2019, 12, 31)\n",
    "transactionid = 0\n",
    "money = 1000000\n",
    "portfolio = {}\n",
    "activelog = []\n",
    "transactionlog = []"
   ]
  },
  {
   "cell_type": "code",
   "execution_count": null,
   "metadata": {
    "pycharm": {
     "name": "#%%\n"
    }
   },
   "outputs": [],
   "source": [
    "# Define the modified getprice() function\n",
    "def getprice(date, ticker):\n",
    "    global midprice\n",
    "    return midprice.loc[date][ticker]"
   ]
  },
  {
   "cell_type": "code",
   "execution_count": null,
   "metadata": {
    "pycharm": {
     "name": "#%%\n"
    }
   },
   "outputs": [],
   "source": [
    "def transaction(id, ticker, amount, price, type, info):\n",
    "    global transactionid\n",
    "    if type == \"buy\":\n",
    "        exp_date = today + dt.timedelta(days=14)\n",
    "        transactionid += 1\n",
    "    else:\n",
    "        exp_date = today\n",
    "    if type == \"sell\":\n",
    "        data = {\"id\": id, \"ticker\": ticker, \"amount\": amount, \"price\": price, \"date\": today, \"type\": type,\n",
    "                \"exp_date\": exp_date, \"info\": info}\n",
    "    elif type == \"buy\":\n",
    "        data = {\"id\": transactionid, \"ticker\": ticker, \"amount\": amount, \"price\": price, \"date\": today, \"type\": type,\n",
    "                \"exp_date\": exp_date, \"info\": info}\n",
    "        activelog.append(data)\n",
    "    transactionlog.append(data)\n",
    "\n",
    "\n",
    "def buy(interestlst, allocated_money):\n",
    "    global money, portfolio\n",
    "    for item in interestlst:\n",
    "        price = getprice(today, item)\n",
    "        if not np.isnan(price):\n",
    "            quantity = math.floor(allocated_money/price)\n",
    "            money -= quantity*price\n",
    "            portfolio[item] += quantity\n",
    "            transaction(0, item, quantity, price, \"buy\", \"\")\n",
    "\n",
    "\n",
    "def sell():\n",
    "    global money, portfolio, prices, today\n",
    "    itemstoremove = []\n",
    "    for i in range(len(activelog)):\n",
    "        log = activelog[i]\n",
    "        if log[\"exp_date\"] <= today and log[\"type\"] == \"buy\":\n",
    "            tickprice = getprice(today, log[\"ticker\"])\n",
    "            if not np.isnan(tickprice):\n",
    "                money += log[\"amount\"]*tickprice\n",
    "                portfolio[log[\"ticker\"]] -= log[\"amount\"]\n",
    "                transaction(log[\"id\"], log[\"ticker\"], log[\"amount\"], tickprice, \"sell\", log[\"info\"])\n",
    "                itemstoremove.append(i)\n",
    "            else:\n",
    "                log[\"exp_date\"] += dt.timedelta(days=1)\n",
    "    itemstoremove.reverse()\n",
    "    for elem in itemstoremove:\n",
    "        activelog.remove(activelog[elem])\n",
    "\n",
    "\n",
    "def simulation():\n",
    "    global today, volumechanges, money\n",
    "    start_date = today - dt.timedelta(days=14)\n",
    "    series = volumechanges.loc[start_date:today].mean()\n",
    "    interestlst = series[series > 100].index.tolist()\n",
    "    sell()\n",
    "    if len(interestlst) > 0:\n",
    "        #moneyToAllocate = 500000/len(interestlst)\n",
    "        moneyToAllocate = currentvalue()/(2*len(interestlst))\n",
    "        buy(interestlst, moneyToAllocate)"
   ]
  },
  {
   "cell_type": "code",
   "execution_count": null,
   "metadata": {
    "pycharm": {
     "name": "#%%\n"
    }
   },
   "outputs": [],
   "source": [
    "def getindices():\n",
    "    global tickers\n",
    "    f = open(\"symbols.txt\", \"r\")\n",
    "    for line in f:\n",
    "        tickers.append(line.strip())\n",
    "    f.close()\n",
    "\n",
    "\n",
    "def tradingday():\n",
    "    global prices, today\n",
    "    return np.datetime64(today) in list(prices.index.values)\n",
    "\n",
    "\n",
    "def currentvalue():\n",
    "    global money, portfolio, today, prices\n",
    "    value = money\n",
    "    for ticker in tickers:\n",
    "        tickprice = getprice(today, ticker)\n",
    "        if not np.isnan(tickprice):\n",
    "            value += portfolio[ticker]*tickprice\n",
    "    return int(value*100)/100"
   ]
  },
  {
   "cell_type": "code",
   "execution_count": null,
   "metadata": {
    "pycharm": {
     "name": "#%%\n"
    }
   },
   "outputs": [],
   "source": [
    "# Modify the main() function to use the new midprices DataFrame\n",
    "def main():\n",
    "    global today\n",
    "    for ticker in tickers:\n",
    "        portfolio[ticker] = 0\n",
    "    while today < simend:\n",
    "        while not tradingday():\n",
    "            today += dt.timedelta(days=1)\n",
    "        simulation()\n",
    "        currentpvalue = currentvalue()\n",
    "        print(currentpvalue, today)\n",
    "        today += dt.timedelta(days=7)"
   ]
  },
  {
   "cell_type": "code",
   "execution_count": null,
   "metadata": {
    "pycharm": {
     "name": "#%%\n"
    }
   },
   "outputs": [],
   "source": [
    "main()"
   ]
  }
 ],
 "metadata": {
  "kernelspec": {
   "display_name": "Python 3",
   "language": "python",
   "name": "python3"
  },
  "language_info": {
   "codemirror_mode": {
    "name": "ipython",
    "version": 3
   },
   "file_extension": ".py",
   "mimetype": "text/x-python",
   "name": "python",
   "nbconvert_exporter": "python",
   "pygments_lexer": "ipython3",
   "version": "3.7.4"
  }
 },
 "nbformat": 4,
 "nbformat_minor": 2
}