{
 "cells": [
  {
   "attachments": {},
   "cell_type": "markdown",
   "metadata": {
    "pycharm": {
     "name": "#%% md\n"
    }
   },
   "source": [
    "# Data wrangling"
   ]
  },
  {
   "cell_type": "code",
   "execution_count": 43,
   "metadata": {
    "pycharm": {
     "name": "#%%\n"
    }
   },
   "outputs": [],
   "source": [
    "import pandas as pd\n",
    "import numpy as np"
   ]
  },
  {
   "cell_type": "code",
   "execution_count": 44,
   "metadata": {
    "pycharm": {
     "name": "#%%\n"
    }
   },
   "outputs": [
    {
     "data": {
      "text/html": [
       "<div>\n",
       "<style scoped>\n",
       "    .dataframe tbody tr th:only-of-type {\n",
       "        vertical-align: middle;\n",
       "    }\n",
       "\n",
       "    .dataframe tbody tr th {\n",
       "        vertical-align: top;\n",
       "    }\n",
       "\n",
       "    .dataframe thead th {\n",
       "        text-align: right;\n",
       "    }\n",
       "</style>\n",
       "<table border=\"1\" class=\"dataframe\">\n",
       "  <thead>\n",
       "    <tr style=\"text-align: right;\">\n",
       "      <th></th>\n",
       "      <th>Date</th>\n",
       "      <th>Encode</th>\n",
       "      <th>Time</th>\n",
       "      <th>Price</th>\n",
       "      <th>Qty</th>\n",
       "      <th>State</th>\n",
       "    </tr>\n",
       "  </thead>\n",
       "  <tbody>\n",
       "    <tr>\n",
       "      <th>0</th>\n",
       "      <td>TstUoB_2024-01-02</td>\n",
       "      <td>Exch0Lit</td>\n",
       "      <td>5.673</td>\n",
       "      <td>283</td>\n",
       "      <td>4</td>\n",
       "      <td></td>\n",
       "    </tr>\n",
       "    <tr>\n",
       "      <th>1</th>\n",
       "      <td>TstUoB_2024-01-02</td>\n",
       "      <td>Exch0Lit</td>\n",
       "      <td>9.300</td>\n",
       "      <td>282</td>\n",
       "      <td>5</td>\n",
       "      <td></td>\n",
       "    </tr>\n",
       "    <tr>\n",
       "      <th>2</th>\n",
       "      <td>TstUoB_2024-01-02</td>\n",
       "      <td>Exch0Lit</td>\n",
       "      <td>14.911</td>\n",
       "      <td>278</td>\n",
       "      <td>5</td>\n",
       "      <td></td>\n",
       "    </tr>\n",
       "    <tr>\n",
       "      <th>3</th>\n",
       "      <td>TstUoB_2024-01-02</td>\n",
       "      <td>Exch0Lit</td>\n",
       "      <td>15.004</td>\n",
       "      <td>284</td>\n",
       "      <td>1</td>\n",
       "      <td></td>\n",
       "    </tr>\n",
       "    <tr>\n",
       "      <th>4</th>\n",
       "      <td>TstUoB_2024-01-02</td>\n",
       "      <td>Exch0Lit</td>\n",
       "      <td>15.004</td>\n",
       "      <td>284</td>\n",
       "      <td>2</td>\n",
       "      <td></td>\n",
       "    </tr>\n",
       "    <tr>\n",
       "      <th>5</th>\n",
       "      <td>TstUoB_2024-01-02</td>\n",
       "      <td>Exch0Lit</td>\n",
       "      <td>18.197</td>\n",
       "      <td>285</td>\n",
       "      <td>1</td>\n",
       "      <td></td>\n",
       "    </tr>\n",
       "    <tr>\n",
       "      <th>6</th>\n",
       "      <td>TstUoB_2024-01-02</td>\n",
       "      <td>Exch0Lit</td>\n",
       "      <td>20.553</td>\n",
       "      <td>285</td>\n",
       "      <td>2</td>\n",
       "      <td></td>\n",
       "    </tr>\n",
       "    <tr>\n",
       "      <th>7</th>\n",
       "      <td>TstUoB_2024-01-02</td>\n",
       "      <td>Exch0Lit</td>\n",
       "      <td>20.646</td>\n",
       "      <td>285</td>\n",
       "      <td>1</td>\n",
       "      <td></td>\n",
       "    </tr>\n",
       "    <tr>\n",
       "      <th>8</th>\n",
       "      <td>TstUoB_2024-01-02</td>\n",
       "      <td>Exch0Lit</td>\n",
       "      <td>21.235</td>\n",
       "      <td>286</td>\n",
       "      <td>2</td>\n",
       "      <td></td>\n",
       "    </tr>\n",
       "    <tr>\n",
       "      <th>9</th>\n",
       "      <td>TstUoB_2024-01-02</td>\n",
       "      <td>Exch0Lit</td>\n",
       "      <td>21.421</td>\n",
       "      <td>286</td>\n",
       "      <td>1</td>\n",
       "      <td></td>\n",
       "    </tr>\n",
       "  </tbody>\n",
       "</table>\n",
       "</div>"
      ],
      "text/plain": [
       "                Date     Encode    Time  Price  Qty State\n",
       "0  TstUoB_2024-01-02   Exch0Lit   5.673    283    4      \n",
       "1  TstUoB_2024-01-02   Exch0Lit   9.300    282    5      \n",
       "2  TstUoB_2024-01-02   Exch0Lit  14.911    278    5      \n",
       "3  TstUoB_2024-01-02   Exch0Lit  15.004    284    1      \n",
       "4  TstUoB_2024-01-02   Exch0Lit  15.004    284    2      \n",
       "5  TstUoB_2024-01-02   Exch0Lit  18.197    285    1      \n",
       "6  TstUoB_2024-01-02   Exch0Lit  20.553    285    2      \n",
       "7  TstUoB_2024-01-02   Exch0Lit  20.646    285    1      \n",
       "8  TstUoB_2024-01-02   Exch0Lit  21.235    286    2      \n",
       "9  TstUoB_2024-01-02   Exch0Lit  21.421    286    1      "
      ]
     },
     "execution_count": 44,
     "metadata": {},
     "output_type": "execute_result"
    }
   ],
   "source": [
    "columns_name=['Date','Encode','Time','Price','Qty']\n",
    "# read the single file\n",
    "#/Users/yujiewang/MyProjects/Data Science/Data Science Mini-project/Project/Dataset/HSBC_Set01/Tapes\n",
    "date_01_02=pd.read_csv('./Dataset/TstUoB_2024-01-02tapes.csv',names=columns_name,header=None)\n",
    "date_01_02[\"State\"]=\" \"\n",
    "data_new=date_01_02.head(10)\n",
    "data_new"
   ]
  },
  {
   "cell_type": "code",
   "execution_count": 45,
   "metadata": {
    "pycharm": {
     "name": "#%%\n"
    }
   },
   "outputs": [],
   "source": [
    "# read the single file\n",
    "with open('./Dataset/TstUoB_2024-01-02LOBs.txt','r') as f:\n",
    "    lines=[]\n",
    "    for line in f:\n",
    "        lines.append(eval(line.strip('\\n')))"
   ]
  },
  {
   "cell_type": "code",
   "execution_count": 46,
   "metadata": {
    "pycharm": {
     "name": "#%%\n"
    }
   },
   "outputs": [
    {
     "name": "stderr",
     "output_type": "stream",
     "text": [
      "/var/folders/vp/8_rd4_c56g3dpqb1167z6tqr0000gn/T/ipykernel_21462/1918146448.py:2: VisibleDeprecationWarning: Creating an ndarray from ragged nested sequences (which is a list-or-tuple of lists-or-tuples-or ndarrays with different lengths or shapes) is deprecated. If you meant to do this, you must specify 'dtype=object' when creating the ndarray.\n",
      "  test_lines=np.array(lines)\n"
     ]
    }
   ],
   "source": [
    "# list to array\n",
    "test_lines=np.array(lines)"
   ]
  },
  {
   "attachments": {},
   "cell_type": "markdown",
   "metadata": {
    "pycharm": {
     "name": "#%% md\n"
    }
   },
   "source": [
    "***Reference:*** https://www.geeksforgeeks.org/python-convert-a-list-to-dictionary/"
   ]
  },
  {
   "cell_type": "code",
   "execution_count": 47,
   "metadata": {
    "pycharm": {
     "name": "#%%\n"
    }
   },
   "outputs": [],
   "source": [
    "# Convert a list to dictionary\n",
    "def Convert(a):\n",
    "    it = iter(a)\n",
    "    res_dct = dict(zip(it, it))\n",
    "    return res_dct"
   ]
  },
  {
   "cell_type": "code",
   "execution_count": 48,
   "metadata": {
    "pycharm": {
     "name": "#%%\n"
    }
   },
   "outputs": [],
   "source": [
    "for i in test_lines:\n",
    "    i[0]=[i[0],i[1]]\n",
    "# df=pd.DataFrame(test_lines,columns=['time','bid','ask'],dtype=float)"
   ]
  },
  {
   "cell_type": "code",
   "execution_count": 49,
   "metadata": {
    "pycharm": {
     "name": "#%%\n"
    }
   },
   "outputs": [],
   "source": [
    "test_lines=np.delete(test_lines, 1, 1) "
   ]
  },
  {
   "cell_type": "code",
   "execution_count": 50,
   "metadata": {
    "pycharm": {
     "name": "#%%\n"
    }
   },
   "outputs": [
    {
     "name": "stdout",
     "output_type": "stream",
     "text": [
      "<class 'numpy.ndarray'>\n"
     ]
    }
   ],
   "source": [
    "print(type(test_lines))"
   ]
  },
  {
   "cell_type": "code",
   "execution_count": 51,
   "metadata": {
    "pycharm": {
     "name": "#%%\n"
    }
   },
   "outputs": [
    {
     "data": {
      "text/plain": [
       "array([[list(['time', 0.031]), list(['bid', []]), list(['ask', []])],\n",
       "       [list(['time', 0.062]), list(['bid', []]), list(['ask', []])],\n",
       "       [list(['time', 0.093]), list(['bid', []]), list(['ask', []])]],\n",
       "      dtype=object)"
      ]
     },
     "execution_count": 51,
     "metadata": {},
     "output_type": "execute_result"
    }
   ],
   "source": [
    "test_lines[1:4]"
   ]
  },
  {
   "cell_type": "code",
   "execution_count": 52,
   "metadata": {
    "pycharm": {
     "name": "#%%\n"
    }
   },
   "outputs": [],
   "source": [
    "for i in test_lines:\n",
    "    i[0]=Convert(i[0])\n",
    "    i[1]=Convert(i[1])\n",
    "    i[2]=Convert(i[2])"
   ]
  },
  {
   "attachments": {},
   "cell_type": "markdown",
   "metadata": {
    "pycharm": {
     "name": "#%% md\n"
    }
   },
   "source": [
    "***Reference:*** https://towardsdatascience.com/merge-dictionaries-in-python-d4e9ce137374#:~:text=Python%203.9%20has%20introduced%20the,a%20single%20line%20of%20code.&text=We%20can%20also%20merge%20the,update%20operator%20(%7C%3D)."
   ]
  },
  {
   "cell_type": "code",
   "execution_count": 22,
   "metadata": {
    "pycharm": {
     "name": "#%%\n"
    }
   },
   "outputs": [
    {
     "name": "stdout",
     "output_type": "stream",
     "text": [
      "[{'time': 0.031, 'bid': [], 'ask': []} {'bid': []} {'ask': []}]\n"
     ]
    }
   ],
   "source": [
    "for i in test_lines:\n",
    "    i[0]=i[0]|i[1]|i[2]\n",
    "\n",
    "print(test_lines[1])"
   ]
  },
  {
   "cell_type": "code",
   "execution_count": 23,
   "metadata": {
    "pycharm": {
     "name": "#%%\n"
    }
   },
   "outputs": [],
   "source": [
    "test_lines=np.delete(test_lines,[1,2],1)"
   ]
  },
  {
   "cell_type": "code",
   "execution_count": 24,
   "metadata": {
    "pycharm": {
     "name": "#%%\n"
    }
   },
   "outputs": [
    {
     "name": "stdout",
     "output_type": "stream",
     "text": [
      "[{'time': 0.031, 'bid': [], 'ask': []}]\n"
     ]
    }
   ],
   "source": [
    "print(test_lines[1])"
   ]
  },
  {
   "cell_type": "code",
   "execution_count": 25,
   "metadata": {
    "pycharm": {
     "name": "#%%\n"
    }
   },
   "outputs": [],
   "source": [
    "data_test=test_lines.flatten()"
   ]
  },
  {
   "cell_type": "code",
   "execution_count": 26,
   "metadata": {
    "pycharm": {
     "name": "#%%\n"
    }
   },
   "outputs": [
    {
     "name": "stdout",
     "output_type": "stream",
     "text": [
      "{'time': 0.031, 'bid': [], 'ask': []}\n"
     ]
    }
   ],
   "source": [
    "print(data_test[1])"
   ]
  },
  {
   "cell_type": "code",
   "execution_count": 27,
   "metadata": {
    "pycharm": {
     "name": "#%%\n"
    }
   },
   "outputs": [],
   "source": [
    "data_test2=data_test.tolist()"
   ]
  },
  {
   "cell_type": "code",
   "execution_count": 28,
   "metadata": {
    "pycharm": {
     "name": "#%%\n"
    }
   },
   "outputs": [
    {
     "name": "stdout",
     "output_type": "stream",
     "text": [
      "{'time': 0.031, 'bid': [], 'ask': []}\n"
     ]
    }
   ],
   "source": [
    "print(data_test2[1])"
   ]
  },
  {
   "cell_type": "code",
   "execution_count": 50,
   "metadata": {
    "pycharm": {
     "name": "#%%\n"
    }
   },
   "outputs": [],
   "source": [
    "df=pd.DataFrame(data_test2).rename(columns={\"time\":\"Time\"})\n",
    "df3000=df.head(3000)"
   ]
  },
  {
   "attachments": {},
   "cell_type": "markdown",
   "metadata": {
    "pycharm": {
     "name": "#%% md\n"
    }
   },
   "source": [
    "***Reference:*** https://pandas.pydata.org/docs/user_guide/merging.html"
   ]
  },
  {
   "cell_type": "code",
   "execution_count": 64,
   "metadata": {
    "pycharm": {
     "name": "#%%\n"
    }
   },
   "outputs": [],
   "source": [
    "result = pd.merge(date_01_02,df, on='Time', how=\"inner\")"
   ]
  },
  {
   "cell_type": "code",
   "execution_count": 65,
   "metadata": {
    "pycharm": {
     "name": "#%%\n"
    }
   },
   "outputs": [],
   "source": [
    "def check_state(bid,ask):\n",
    "    if bid==1 and ask==0:\n",
    "        return 'bid'\n",
    "    elif bid==0 and ask==1:\n",
    "        return 'ask'\n",
    "    elif bid==1 and ask==1:\n",
    "        return 'bid/ask'\n",
    "    else:\n",
    "        return 'Nan'\n",
    "    \n",
    "    \n",
    "for index, rows in result.iterrows():\n",
    "    # if index<10:\n",
    "    #     print(rows.bid)\n",
    "    bid_in=0\n",
    "    ask_in=0\n",
    "    match_array=np.array([rows.Price,rows.Qty])\n",
    "    bid_array=np.array(rows.bid)\n",
    "    ask_array=np.array(rows.ask)\n",
    "    for i in bid_array:\n",
    "        if np.array_equal(match_array,i):\n",
    "            bid_in=1\n",
    "            break\n",
    "        elif rows.Price==i[0]:\n",
    "            index_df=df[df['Time']==rows.Time].index.values\n",
    "            df_bid=df.loc[index_df[0]+1][\"bid\"]\n",
    "            if np.any(np.isin(df_bid,rows.Price)):\n",
    "                for k in df_bid:\n",
    "                    if k[0]==i[0] and k[1]<i[1]:\n",
    "                        bid_in=1\n",
    "                        break\n",
    "            else:\n",
    "                bid_in=1\n",
    "                break\n",
    "\n",
    "    for j in ask_array:\n",
    "        if np.array_equal(match_array,j):\n",
    "            ask_in=1\n",
    "            break\n",
    "        elif rows.Price==j[0]:\n",
    "            index_df=df[df['Time']==rows.Time].index.values\n",
    "            df_ask=df.loc[index_df[0]+1][\"ask\"]\n",
    "            if np.any(np.isin(df_ask,rows.Price)):\n",
    "                for k in df_ask:\n",
    "                    if k[0]==j[0] and k[1]<j[1]:\n",
    "                        ask_in=1\n",
    "                        break\n",
    "            else:\n",
    "                ask_in=1\n",
    "                break\n",
    "    result.at[index,'State']=check_state(bid_in,ask_in)\n",
    "\n"
   ]
  },
  {
   "cell_type": "code",
   "execution_count": 66,
   "metadata": {
    "pycharm": {
     "name": "#%%\n"
    }
   },
   "outputs": [],
   "source": [
    "result.to_csv(\"./Processed_data/2024-01-02tapes.csv\")"
   ]
  }
 ],
 "metadata": {
  "kernelspec": {
   "display_name": "base",
   "language": "python",
   "name": "python3"
  },
  "language_info": {
   "codemirror_mode": {
    "name": "ipython",
    "version": 3
   },
   "file_extension": ".py",
   "mimetype": "text/x-python",
   "name": "python",
   "nbconvert_exporter": "python",
   "pygments_lexer": "ipython3",
   "version": "3.9.12"
  },
  "orig_nbformat": 4,
  "vscode": {
   "interpreter": {
    "hash": "531a32d43b6b4a72574c344c8d9a7972976cda1ae5ac9990fb3d5918c7e19967"
   }
  }
 },
 "nbformat": 4,
 "nbformat_minor": 2
}