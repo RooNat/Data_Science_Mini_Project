{
 "cells": [
  {
   "cell_type": "markdown",
   "source": [
    "# Mid-Price-Data"
   ],
   "metadata": {
    "collapsed": false,
    "pycharm": {
     "name": "#%% md\n"
    }
   }
  },
  {
   "cell_type": "code",
   "execution_count": null,
   "metadata": {
    "collapsed": true,
    "pycharm": {
     "name": "#%%\n"
    }
   },
   "outputs": [],
   "source": [
    "import numpy as np\n",
    "import pandas as pd\n",
    "import matplotlib.pyplot as plt\n",
    "import tensorflow as tf\n",
    "from tensorflow.keras.models import Sequential\n",
    "from tensorflow.keras.layers import *\n",
    "from tensorflow.keras.callbacks import ModelCheckpoint\n",
    "from tensorflow.keras.losses import MeanSquaredError\n",
    "from tensorflow.keras.metrics import RootMeanSquaredError\n",
    "from tensorflow.keras.optimizers import Adam\n",
    "from keras.layers import Input, Dense, LSTM, TimeDistributed, GRU, SimpleRNN\n",
    "from keras.models import Model\n",
    "from sklearn.pipeline import Pipeline\n",
    "from sklearn.linear_model import LinearRegression\n",
    "from sklearn.preprocessing import StandardScaler\n",
    "from sklearn.metrics import mean_absolute_error, mean_squared_error\n",
    "from sklearn.metrics import confusion_matrix\n",
    "from sklearn.metrics import classification_report\n",
    "from sklearn.metrics import roc_curve, auc"
   ]
  },
  {
   "cell_type": "markdown",
   "source": [
    "## Data Pre-Processing"
   ],
   "metadata": {
    "collapsed": false,
    "pycharm": {
     "name": "#%% md\n"
    }
   }
  },
  {
   "cell_type": "markdown",
   "source": [
    "read the data"
   ],
   "metadata": {
    "collapsed": false,
    "pycharm": {
     "name": "#%% md\n"
    }
   }
  },
  {
   "cell_type": "code",
   "execution_count": null,
   "outputs": [],
   "source": [
    "def read_data(file):\n",
    "    data_original=pd.read_csv(file, header=[0,1,2])\n",
    "    data_original=data_original[1:]\n",
    "    data_original.rename(columns={'Unnamed: 0_level_0':'Time','Unnamed: 0_level_1': '','Unnamed: 0_level_2': '','Unnamed: 3_level_1':'','Unnamed: 3_level_2':''},inplace=True),\n",
    "    data_original.rename(columns={'Unnamed: 0_level_0':'Time','Unnamed: 0_level_1': '','Unnamed: 0_level_2': '','Unnamed: 3_level_1':'','Unnamed: 3_level_2':'','Unnamed: 2_level_2':'','Unnamed: 2_level_1':'','Unnamed: 4_level_2':'','Unnamed: 4_level_1':''},inplace=True),\n",
    "    return data_original"
   ],
   "metadata": {
    "collapsed": false,
    "pycharm": {
     "name": "#%%\n"
    }
   }
  },
  {
   "cell_type": "markdown",
   "source": [
    "Only keep the columns"
   ],
   "metadata": {
    "collapsed": false,
    "pycharm": {
     "name": "#%% md\n"
    }
   }
  },
  {
   "cell_type": "code",
   "execution_count": null,
   "outputs": [],
   "source": [
    "def keep_columns(data_original):\n",
    "    data=data_original.loc[:,['Time','level1','level2','level3','level4','level5','Quoted_spread','Weighted_Mid_Price','Mid_Price']]\n",
    "    data.columns = data.columns.map('_'.join)\n",
    "    data.rename(columns={'Time__':'Time','Mid_Price__':'Mid_Price','Weighted_Mid_Price__':'Weighted_Mid_Price','Quoted_spread__':'Quoted_spread'},inplace=True)\n",
    "    return data"
   ],
   "metadata": {
    "collapsed": false,
    "pycharm": {
     "name": "#%%\n"
    }
   }
  },
  {
   "cell_type": "markdown",
   "source": [
    "Only keep the rows"
   ],
   "metadata": {
    "collapsed": false,
    "pycharm": {
     "name": "#%% md\n"
    }
   }
  },
  {
   "cell_type": "code",
   "execution_count": null,
   "outputs": [],
   "source": [
    "def keep_rows(data):\n",
    "    min_index=0\n",
    "    max_index=0\n",
    "    last_value = data['Time'].iloc[-1]\n",
    "    for index, row in data.iterrows():\n",
    "        if pd.to_numeric(row['Time'])>3600:\n",
    "            min_index=index\n",
    "            break\n",
    "    for index, row in data.iterrows():\n",
    "        if pd.to_numeric(row['Time'])>last_value-3600:\n",
    "            max_index=index\n",
    "            break\n",
    "\n",
    "    data=data[min_index:max_index]\n",
    "    return data"
   ],
   "metadata": {
    "collapsed": false,
    "pycharm": {
     "name": "#%%\n"
    }
   }
  },
  {
   "cell_type": "markdown",
   "source": [
    "Remove the level1 null rows"
   ],
   "metadata": {
    "collapsed": false,
    "pycharm": {
     "name": "#%% md\n"
    }
   }
  },
  {
   "cell_type": "code",
   "execution_count": null,
   "outputs": [],
   "source": [
    "def romove_rows(data):\n",
    "    level1_df=data.iloc[:,1:5]\n",
    "    has_na = level1_df.isna().any(axis=1)\n",
    "    # find the row index for the null values\n",
    "    row_numbers = has_na.where(has_na).dropna().index\n",
    "    data=data.drop(row_numbers)\n",
    "    df_sub=data.drop(columns=['Time'])\n",
    "    sub_columns=df_sub.columns\n",
    "    data.drop_duplicates(subset=sub_columns, keep='first', inplace=True)\n",
    "    return data"
   ],
   "metadata": {
    "collapsed": false,
    "pycharm": {
     "name": "#%%\n"
    }
   }
  },
  {
   "cell_type": "markdown",
   "source": [
    "generate the fake prices"
   ],
   "metadata": {
    "collapsed": false,
    "pycharm": {
     "name": "#%% md\n"
    }
   }
  },
  {
   "cell_type": "code",
   "execution_count": null,
   "outputs": [],
   "source": [
    "import re\n",
    "def fake_price(data):\n",
    "    null_in = data.isna().any(axis=1)\n",
    "    null_rows = null_in.where(null_in).dropna().index\n",
    "    for i in null_rows:\n",
    "        row=data.loc[i,:]\n",
    "        Bid_null=[]\n",
    "        Ask_null=[]\n",
    "        for j in range(5):\n",
    "            v_col_Bid='level'+str(j+1)+'_Bid_Volume'\n",
    "            v_col_Ask='level'+str(j+1)+'_Ask_Volume'\n",
    "            p_col_Bid='level'+str(j+1)+'_Bid_Price'\n",
    "            p_col_Ask='level'+str(j+1)+'_Ask_Price'\n",
    "            if pd.isnull(row[v_col_Bid]):\n",
    "                row[v_col_Bid]=0\n",
    "                data.at[i,v_col_Bid]=0\n",
    "            if pd.isnull(row[v_col_Ask]):\n",
    "                row[v_col_Ask]=0\n",
    "                data.at[i,v_col_Ask]=0\n",
    "            if pd.isnull(row[p_col_Bid]):\n",
    "                Bid_null.append(p_col_Bid)\n",
    "            if pd.isnull(row[p_col_Ask]):\n",
    "                Ask_null.append(p_col_Ask)\n",
    "        # For Bid\n",
    "        if len(Bid_null) >0:\n",
    "            if Bid_null[0]=='level2_Bid_Price':\n",
    "                diff=row['level1_Bid_Price']/5\n",
    "                for k in Bid_null:\n",
    "                    digit = re.findall(r'\\d+', k)\n",
    "                    n=int(digit[0])\n",
    "                    bidff= row['level1_Bid_Price'] - diff* (n-1)\n",
    "                    data.at[i,k]=bidff\n",
    "            else:\n",
    "                digit = re.findall(r'\\d+', Bid_null[0])\n",
    "                null_first=int(digit[0])\n",
    "                p_col_Bid1='level'+str(null_first-1)+'_Bid_Price'\n",
    "                p_col_Bid2='level'+str(null_first-2)+'_Bid_Price'\n",
    "                diff=abs(row[p_col_Bid1]-row[p_col_Bid2])\n",
    "                for k in Bid_null:\n",
    "                    d=re.findall(r'\\d+', k)\n",
    "                    n=int(d[0])\n",
    "                    ti=2\n",
    "                    bidff=row[p_col_Bid1]-(diff/ti)*(n-1)\n",
    "                    while bidff<=0:\n",
    "                        ti=ti+1\n",
    "                        bidff=row[p_col_Bid1]-(diff/ti)*(n-1)\n",
    "                    data.at[i,k]=bidff\n",
    "        if len(Ask_null) >0:\n",
    "            # For Ask\n",
    "            if Ask_null[0]=='level2_Ask_Price':\n",
    "                diff=row['level1_Ask_Price']/5\n",
    "                for k in Ask_null:\n",
    "                    digit = re.findall(r'\\d+', k)\n",
    "                    n=int(digit[0])\n",
    "                    askff= row['level1_Ask_Price'] + diff* (n-1)\n",
    "                    data.at[i,k]=askff\n",
    "            else:\n",
    "                digit = re.findall(r'\\d+', Ask_null[0])\n",
    "                null_first=int(digit[0])\n",
    "                p_col_Ask1='level'+str(null_first-1)+'_Ask_Price'\n",
    "                p_col_Ask2='level'+str(null_first-2)+'_Ask_Price'\n",
    "                diff=abs(row[p_col_Ask2]-row[p_col_Ask1])\n",
    "                for k in Ask_null:\n",
    "                    d=re.findall(r'\\d+', k)\n",
    "                    n=int(d[0])\n",
    "                    askff=row[p_col_Ask1] + (diff/2)*(n-1)\n",
    "                    data.at[i,k]=askff\n",
    "    return data"
   ],
   "metadata": {
    "collapsed": false,
    "pycharm": {
     "name": "#%%\n"
    }
   }
  },
  {
   "cell_type": "markdown",
   "source": [
    "Time intervals"
   ],
   "metadata": {
    "collapsed": false,
    "pycharm": {
     "name": "#%% md\n"
    }
   }
  },
  {
   "cell_type": "code",
   "execution_count": null,
   "outputs": [],
   "source": [
    "def time_intervals(data):\n",
    "    data_Time=data.loc[:,'Time']\n",
    "    data.loc[:,'Time']=data_Time.diff().dropna()\n",
    "    data.dropna(inplace=True)\n",
    "    # Reset the index\n",
    "    data=data.reset_index(drop=True)\n",
    "    return data"
   ],
   "metadata": {
    "collapsed": false,
    "pycharm": {
     "name": "#%%\n"
    }
   }
  },
  {
   "cell_type": "markdown",
   "source": [
    "Run all of the files"
   ],
   "metadata": {
    "collapsed": false,
    "pycharm": {
     "name": "#%% md\n"
    }
   }
  },
  {
   "cell_type": "code",
   "execution_count": 1,
   "outputs": [
    {
     "ename": "NameError",
     "evalue": "name 'pd' is not defined",
     "output_type": "error",
     "traceback": [
      "\u001B[0;31m---------------------------------------------------------------------------\u001B[0m",
      "\u001B[0;31mNameError\u001B[0m                                 Traceback (most recent call last)",
      "Cell \u001B[0;32mIn[1], line 3\u001B[0m\n\u001B[1;32m      1\u001B[0m folder_path\u001B[38;5;241m=\u001B[39m\u001B[38;5;124m\"\u001B[39m\u001B[38;5;124m./Dataset/HSBC_Set01/LOBs_Benchmark_new/\u001B[39m\u001B[38;5;124m\"\u001B[39m\n\u001B[1;32m      2\u001B[0m new_folder_path\u001B[38;5;241m=\u001B[39m\u001B[38;5;124m\"\u001B[39m\u001B[38;5;124m./LOBs_Benchmark/\u001B[39m\u001B[38;5;124m\"\u001B[39m\n\u001B[0;32m----> 3\u001B[0m LOBdata \u001B[38;5;241m=\u001B[39m \u001B[43mpd\u001B[49m\u001B[38;5;241m.\u001B[39mDataFrame()\n\u001B[1;32m      4\u001B[0m \u001B[38;5;28;01mfor\u001B[39;00m filename \u001B[38;5;129;01min\u001B[39;00m os\u001B[38;5;241m.\u001B[39mlistdir(folder_path):\n\u001B[1;32m      5\u001B[0m     \u001B[38;5;28;01mif\u001B[39;00m filename\u001B[38;5;241m.\u001B[39mendswith(\u001B[38;5;124m\"\u001B[39m\u001B[38;5;124m.csv\u001B[39m\u001B[38;5;124m\"\u001B[39m):\n",
      "\u001B[0;31mNameError\u001B[0m: name 'pd' is not defined"
     ]
    }
   ],
   "source": [
    "folder_path=\"./Dataset/HSBC_Set01/LOBs_Benchmark_new/\"\n",
    "new_folder_path=\"./LOBs_Benchmark/\"\n",
    "LOBdata = pd.DataFrame()\n",
    "for filename in os.listdir(folder_path):\n",
    "    if filename.endswith(\".csv\"):\n",
    "        name = os.path.splitext(filename)[0]\n",
    "        file_path=os.path.join(folder_path, filename)\n",
    "        data= read_data(file)\n",
    "        data=keep_columns(data)\n",
    "        data=keep_rows(data)\n",
    "        data=romove_rows(data)\n",
    "        data=fake_price(data)\n",
    "        data=time_intervals(data)\n",
    "        # Use scaled data\n",
    "        data['Next_mid']=data.Mid_Price.shift(-1)\n",
    "        data.dropna(axis=0, inplace=True) #drop the last row which is now Nan\n",
    "        data['Price_move'] = data.Next_mid - data.Mid_Price\n",
    "        data['up_or_down'] = np.where(data['Price_move']<0, 0, 1) #for now defining Price_move=0 as 1\n",
    "        LOBdata=pd.concat([LOBdata, data], axis=0)\n",
    "\n",
    "LOBdata.to_csv(os.path.join(new_folder_path+'processed_data.csv'),index=False)"
   ],
   "metadata": {
    "collapsed": false,
    "pycharm": {
     "name": "#%%\n"
    }
   }
  }
 ],
 "metadata": {
  "kernelspec": {
   "display_name": "Python 3",
   "language": "python",
   "name": "python3"
  },
  "language_info": {
   "codemirror_mode": {
    "name": "ipython",
    "version": 2
   },
   "file_extension": ".py",
   "mimetype": "text/x-python",
   "name": "python",
   "nbconvert_exporter": "python",
   "pygments_lexer": "ipython2",
   "version": "2.7.6"
  }
 },
 "nbformat": 4,
 "nbformat_minor": 0
}