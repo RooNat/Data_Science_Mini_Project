{
 "cells": [
  {
   "cell_type": "code",
   "execution_count": 1,
   "metadata": {
    "colab": {
     "base_uri": "https://localhost:8080/",
     "height": 122
    },
    "colab_type": "code",
    "collapsed": true,
    "id": "SSIXGC39y2jy",
    "outputId": "edb92df7-c843-424e-9314-1f0b539c55c4",
    "pycharm": {
     "name": "#%%\n"
    }
   },
   "outputs": [
    {
     "name": "stdout",
     "output_type": "stream",
     "text": [
      "Go to this URL in a browser: https://accounts.google.com/o/oauth2/auth?client_id=947318989803-6bn6qk8qdgf4n4g3pfee6491hc0brc4i.apps.googleusercontent.com&redirect_uri=urn%3Aietf%3Awg%3Aoauth%3A2.0%3Aoob&scope=email%20https%3A%2F%2Fwww.googleapis.com%2Fauth%2Fdocs.test%20https%3A%2F%2Fwww.googleapis.com%2Fauth%2Fdrive%20https%3A%2F%2Fwww.googleapis.com%2Fauth%2Fdrive.photos.readonly%20https%3A%2F%2Fwww.googleapis.com%2Fauth%2Fpeopleapi.readonly&response_type=code\n",
      "\n",
      "Enter your authorization code:\n",
      "··········\n",
      "Mounted at /content/gdrive\n"
     ]
    }
   ],
   "source": [
    "from google.colab import drive\n",
    "drive.mount('/content/gdrive',force_remount=True)"
   ]
  },
  {
   "cell_type": "code",
   "execution_count": 0,
   "metadata": {
    "colab": {},
    "colab_type": "code",
    "id": "bG6d00YGy47T",
    "pycharm": {
     "name": "#%%\n"
    }
   },
   "outputs": [],
   "source": [
    "!unzip -q \"/content/gdrive/My Drive/INTC_2015-01-01_2015-01-31_10.zip\" -d \"/content/gdrive/My Drive/thesis/data/\""
   ]
  },
  {
   "cell_type": "code",
   "execution_count": 0,
   "metadata": {
    "colab": {},
    "colab_type": "code",
    "id": "0vB-CUZLyusS",
    "pycharm": {
     "name": "#%%\n"
    }
   },
   "outputs": [],
   "source": [
    "import glob\n",
    "import json\n",
    "import os\n",
    "import numpy as np\n",
    "import pandas as pd\n",
    "from matplotlib import pyplot as plt\n",
    "from sklearn.model_selection import train_test_split\n",
    "from sklearn.metrics import classification_report, confusion_matrix\n",
    "from sklearn.preprocessing import OneHotEncoder\n",
    "from scipy.stats import zscore\n",
    "from tensorflow import keras"
   ]
  },
  {
   "cell_type": "code",
   "execution_count": 0,
   "metadata": {
    "colab": {},
    "colab_type": "code",
    "id": "_rSSZgMryusV",
    "pycharm": {
     "name": "#%%\n"
    }
   },
   "outputs": [],
   "source": [
    "# Constants\n",
    "# batch size for model\n",
    "BATCH_SIZE = 100\n",
    "\n",
    "# number of epochs\n",
    "EPOCHS = 100\n",
    "\n",
    "# learning rate and epsilon for ADAM optimizer\n",
    "LEARNING_RATE = 0.01\n",
    "EPSILON = 1\n",
    "\n",
    "# path where data is stored\n",
    "stock = \"INTC\"\n",
    "STOCK_PATH = \"{}_2015-01-01_2015-01-31_10\".format(stock)\n",
    "DATA_PATH = \"/content/gdrive/My Drive/thesis/data/\"\n",
    "PATH = DATA_PATH+STOCK_PATH\n",
    "\n",
    "# prediction horizon\n",
    "K = 50 \n",
    "\n",
    "# threshold to decide which category midprice direction falls in (up, down, stationary)\n",
    "ALPHA = 0.001\n",
    "\n",
    "# bool flag to decide if data needs to be written\n",
    "write_data = True"
   ]
  },
  {
   "cell_type": "code",
   "execution_count": 0,
   "metadata": {
    "colab": {},
    "colab_type": "code",
    "id": "ad8sQTsGy-Qq",
    "pycharm": {
     "name": "#%%\n"
    }
   },
   "outputs": [],
   "source": [
    "# Static objects\n",
    "# instantiate one hot encoder here so that all classes will always map to the same labels\n",
    "onehot_encoder = OneHotEncoder(sparse=False)\n",
    "\n",
    "# column names\n",
    "levels = 10\n",
    "nums = map(str, range(1,levels+1))\n",
    "col_names = [y + x for x in nums for y in ['ask_price_', 'ask_size_', 'bid_price_', 'bid_size_']]\n",
    "\n",
    "# first 10 days are used to train, 6 for val and 4 for test (TSLA and INTC each have 20 working days of data)\n",
    "days = list(range(20))\n",
    "train_days = days[:10]\n",
    "val_days = days[10:16]\n",
    "test_days = days[16:20]"
   ]
  },
  {
   "cell_type": "markdown",
   "metadata": {
    "colab_type": "text",
    "id": "SG_Th8XxyusX",
    "pycharm": {
     "name": "#%% md\n"
    }
   },
   "source": [
    "## Preprocess the data"
   ]
  },
  {
   "cell_type": "code",
   "execution_count": 5,
   "metadata": {
    "colab": {
     "base_uri": "https://localhost:8080/",
     "height": 34
    },
    "colab_type": "code",
    "id": "MxYB43N-yusY",
    "outputId": "dcd86d63-4fc2-4ca3-df9f-d4c5aef429b9",
    "scrolled": true,
    "pycharm": {
     "name": "#%%\n"
    }
   },
   "outputs": [
    {
     "name": "stdout",
     "output_type": "stream",
     "text": [
      "Number of files: 20\n"
     ]
    }
   ],
   "source": [
    "all_files = glob.glob(PATH + \"/*orderbook_10.csv\")\n",
    "all_files.sort()\n",
    "print(\"Number of files:\",len(all_files))\n",
    "\n",
    "def read_data(days, data_type):\n",
    "    dfs = []\n",
    "    print(\"Reading {}\".format(data_type))\n",
    "    for filename in [all_files[i] for i in days]:\n",
    "        df = pd.read_csv(filename, index_col=None, header=None, names=col_names)\n",
    "        dfs.append(df)\n",
    "    data = pd.concat(dfs, axis=0, ignore_index=True)\n",
    "    return data"
   ]
  },
  {
   "cell_type": "code",
   "execution_count": 0,
   "metadata": {
    "colab": {},
    "colab_type": "code",
    "id": "4rRVjXw5yusb",
    "pycharm": {
     "name": "#%%\n"
    }
   },
   "outputs": [],
   "source": [
    "# smoothed labelling of the midprice/ K is the prediction horizon\n",
    "def smooth_midprice_using_k_lookahead(data, k):\n",
    "    normalised_data = data.apply(zscore)\n",
    "    normalised_data['midprice'] = (normalised_data.ask_price_1+normalised_data.bid_price_1)/2\n",
    "    # mean of previous k mid-prices\n",
    "    normalised_data['m_minus'] = normalised_data['midprice'].rolling(window=k).mean()\n",
    "    # mean of next k mid-prices\n",
    "    normalised_data['m_plus'] = normalised_data['midprice'][::-1].rolling(window=k).mean()[::-1]\n",
    "    return normalised_data"
   ]
  },
  {
   "cell_type": "code",
   "execution_count": 0,
   "metadata": {
    "colab": {},
    "colab_type": "code",
    "id": "tAH2ISsF5IbP",
    "pycharm": {
     "name": "#%%\n"
    }
   },
   "outputs": [],
   "source": [
    "# label the smoothed mid-prices based on a threshold/ ALPHA is the threshold \n",
    "def create_midprice_labels(normalised_data):\n",
    "    normalised_data['change'] = (normalised_data.m_plus - normalised_data.m_minus)/normalised_data.m_minus\n",
    "    # assign categories up, down, stationary\n",
    "    normalised_data['label'] = pd.cut(normalised_data.change, bins=[-np.inf, -ALPHA, ALPHA, np.inf], \n",
    "                                    labels=['down', 'stationary', 'up'])\n",
    "    # drop all unlabelled values (will be first and last k values as they have no m_minus/m_plus value)\n",
    "    normalised_data.dropna(inplace=True)\n",
    "    return normalised_data"
   ]
  },
  {
   "cell_type": "code",
   "execution_count": 0,
   "metadata": {
    "colab": {},
    "colab_type": "code",
    "id": "fNWgFAtlyusd",
    "pycharm": {
     "name": "#%%\n"
    }
   },
   "outputs": [],
   "source": [
    "def reshape_and_categorise_data(normalised_data):\n",
    "    n = len(normalised_data) - len(normalised_data)%100\n",
    "    data = normalised_data[:n]\n",
    "    \n",
    "    # reshape input data into the shape of (batches, 100, 40, 1) as one input has 100 timesteps with 40 features\n",
    "    input_data = data[col_names]\n",
    "    input_array = input_data.to_numpy().reshape(n//100,100,40,1)\n",
    "    \n",
    "    # choose every 100th value as the output label/ 100 timesteps predict the 100th price move direction\n",
    "    output_data = data.label.to_numpy()[::-100][::-1]\n",
    "    \n",
    "    # encode labels to vectors\n",
    "    integer_encoded = output_data.reshape(len(output_data), 1)\n",
    "    output_array = onehot_encoder.fit_transform(integer_encoded)\n",
    "    \n",
    "    return input_array, output_array"
   ]
  },
  {
   "cell_type": "code",
   "execution_count": 0,
   "metadata": {
    "colab": {},
    "colab_type": "code",
    "id": "5Sp8FHlryusf",
    "pycharm": {
     "name": "#%%\n"
    }
   },
   "outputs": [],
   "source": [
    "# data normalisation, smoothing and labelling\n",
    "def preprocess_data(data, k, data_type):\n",
    "    data = smooth_midprice_using_k_lookahead(data, k)\n",
    "    data = create_midprice_labels(data)\n",
    "    X, y = reshape_and_categorise_data(data)\n",
    "    print(\"{} input shape:\".format(data_type), X.shape)\n",
    "    print(\"{} output shape:\".format(data_type), y.shape)\n",
    "    return X, y"
   ]
  },
  {
   "cell_type": "code",
   "execution_count": 0,
   "metadata": {
    "colab": {},
    "colab_type": "code",
    "id": "8pVQfvHIzgVr",
    "pycharm": {
     "name": "#%%\n"
    }
   },
   "outputs": [],
   "source": [
    "# mapping of labels to one hot encoding\n",
    "def get_mapping(write_data):\n",
    "    if write_data:\n",
    "        encodings = [[1,0,0],[0,0,1],[0,1,0]]\n",
    "        mapping = {str(np.argmax(key)):onehot_encoder.inverse_transform([key]).tolist()[0][0] for key in encodings}\n",
    "        with open('/content/gdrive/My Drive/thesis/data/mapping.txt', 'w') as file: \n",
    "            file.write(json.dumps(mapping))\n",
    "        return mapping\n",
    "    else:\n",
    "        with open('/content/gdrive/My Drive/thesis/data/mapping.txt', 'r') as f: \n",
    "            mapping = f.read()\n",
    "        return mapping"
   ]
  },
  {
   "cell_type": "code",
   "execution_count": 12,
   "metadata": {
    "colab": {
     "base_uri": "https://localhost:8080/",
     "height": 187
    },
    "colab_type": "code",
    "id": "5JljaJ0Ryush",
    "outputId": "da940223-95e2-464a-80be-e80e8824dd4f",
    "pycharm": {
     "name": "#%%\n"
    }
   },
   "outputs": [
    {
     "name": "stdout",
     "output_type": "stream",
     "text": [
      "Reading Training\n",
      "Reading Validation\n",
      "Reading Test\n",
      "Training input shape: (99456, 100, 40, 1)\n",
      "Training output shape: (99456, 3)\n",
      "Validation input shape: (48626, 100, 40, 1)\n",
      "Validation output shape: (48626, 3)\n",
      "Test input shape: (38747, 100, 40, 1)\n",
      "Test output shape: (38747, 3)\n",
      "All data written to file.\n"
     ]
    }
   ],
   "source": [
    "if write_data:\n",
    "    train_data = read_data(train_days, data_type=\"Training\")\n",
    "    test_data = read_data(test_days, data_type=\"Validation\")\n",
    "    val_data = read_data(val_days, data_type=\"Test\")\n",
    "\n",
    "    X_train, y_train = preprocess_data(train_data, k=K, data_type=\"Training\")\n",
    "    X_val, y_val = preprocess_data(val_data, k=K, data_type=\"Validation\")\n",
    "    X_test, y_test = preprocess_data(test_data, k=K, data_type=\"Test\")\n",
    "\n",
    "    np.save(file=\"{}{}_X_train.npy\".format(DATA_PATH, stock), arr=X_train)\n",
    "    np.save(file=\"{}{}_y_train.npy\".format(DATA_PATH, stock), arr=y_train)\n",
    "    np.save(file=\"{}{}_X_val.npy\".format(DATA_PATH, stock), arr=X_val)\n",
    "    np.save(file=\"{}{}_y_val.npy\".format(DATA_PATH, stock), arr=y_val)\n",
    "    np.save(file=\"{}{}_X_test.npy\".format(DATA_PATH, stock), arr=X_test)\n",
    "    np.save(file=\"{}{}_y_test.npy\".format(DATA_PATH, stock), arr=y_test)\n",
    "    print(\"All data written to file.\")\n",
    "else:\n",
    "    X_train = np.load(\"{}{}_X_train.npy\".format(DATA_PATH, stock))\n",
    "    print(\"Training input shape:\", X_train.shape)\n",
    "    y_train = np.load(\"{}{}_y_train.npy\".format(DATA_PATH, stock))\n",
    "    print(\"Training output shape:\", y_train.shape)\n",
    "    X_val = np.load(\"{}{}_X_val.npy\".format(DATA_PATH, stock))\n",
    "    print(\"Validation input shape:\", X_val.shape)\n",
    "    y_val = np.load(\"{}{}_y_val.npy\".format(DATA_PATH, stock))\n",
    "    print(\"Validation output shape:\", y_val.shape)\n",
    "    X_test = np.load(\"{}{}_X_test.npy\".format(DATA_PATH, stock))\n",
    "    print(\"Test input shape:\", X_test.shape)\n",
    "    y_test = np.load(\"{}{}_y_test.npy\".format(DATA_PATH, stock))\n",
    "    print(\"Test output shape:\", y_test.shape)\n",
    "    print(\"All data loaded.\")"
   ]
  },
  {
   "cell_type": "code",
   "execution_count": 13,
   "metadata": {
    "colab": {
     "base_uri": "https://localhost:8080/",
     "height": 34
    },
    "colab_type": "code",
    "id": "yesGART0yusj",
    "outputId": "c5f10823-f8d3-420c-e793-e49900f09166",
    "pycharm": {
     "name": "#%%\n"
    }
   },
   "outputs": [
    {
     "name": "stdout",
     "output_type": "stream",
     "text": [
      "{'0': 'down', '2': 'up', '1': 'stationary'}\n"
     ]
    }
   ],
   "source": [
    "mapping = get_mapping(write_data)\n",
    "print(mapping)"
   ]
  },
  {
   "cell_type": "markdown",
   "metadata": {
    "colab_type": "text",
    "id": "lsT0x1iSyusl",
    "pycharm": {
     "name": "#%% md\n"
    }
   },
   "source": [
    "### Build and compile the model"
   ]
  },
  {
   "cell_type": "code",
   "execution_count": 14,
   "metadata": {
    "colab": {
     "base_uri": "https://localhost:8080/",
     "height": 666
    },
    "colab_type": "code",
    "id": "d36pis6myusm",
    "outputId": "cfbe665b-c876-4c40-8321-245ab6918bcb",
    "pycharm": {
     "name": "#%%\n"
    }
   },
   "outputs": [
    {
     "name": "stdout",
     "output_type": "stream",
     "text": [
      "WARNING:tensorflow:From /usr/local/lib/python3.6/dist-packages/tensorflow/python/ops/init_ops.py:1251: calling VarianceScaling.__init__ (from tensorflow.python.ops.init_ops) with dtype is deprecated and will be removed in a future version.\n",
      "Instructions for updating:\n",
      "Call initializer instance with the dtype argument instead of passing it to the constructor\n",
      "Model: \"sequential\"\n",
      "_________________________________________________________________\n",
      "Layer (type)                 Output Shape              Param #   \n",
      "=================================================================\n",
      "conv2d (Conv2D)              (None, 100, 20, 16)       48        \n",
      "_________________________________________________________________\n",
      "leaky_re_lu (LeakyReLU)      (None, 100, 20, 16)       0         \n",
      "_________________________________________________________________\n",
      "conv2d_1 (Conv2D)            (None, 97, 20, 32)        2080      \n",
      "_________________________________________________________________\n",
      "conv2d_2 (Conv2D)            (None, 97, 10, 16)        1040      \n",
      "_________________________________________________________________\n",
      "leaky_re_lu_1 (LeakyReLU)    (None, 97, 10, 16)        0         \n",
      "_________________________________________________________________\n",
      "conv2d_3 (Conv2D)            (None, 94, 10, 32)        2080      \n",
      "_________________________________________________________________\n",
      "conv2d_4 (Conv2D)            (None, 94, 1, 16)         5136      \n",
      "_________________________________________________________________\n",
      "conv2d_5 (Conv2D)            (None, 91, 1, 32)         2080      \n",
      "_________________________________________________________________\n",
      "max_pooling2d (MaxPooling2D) (None, 30, 1, 32)         0         \n",
      "_________________________________________________________________\n",
      "time_distributed (TimeDistri (None, 30, 32)            0         \n",
      "_________________________________________________________________\n",
      "simple_rnn (SimpleRNN)       (None, 100)               13300     \n",
      "_________________________________________________________________\n",
      "dropout (Dropout)            (None, 100)               0         \n",
      "_________________________________________________________________\n",
      "dense (Dense)                (None, 3)                 303       \n",
      "=================================================================\n",
      "Total params: 26,067\n",
      "Trainable params: 26,067\n",
      "Non-trainable params: 0\n",
      "_________________________________________________________________\n"
     ]
    }
   ],
   "source": [
    "def create_model():\n",
    "    # convolutional layers\n",
    "    model = keras.Sequential()\n",
    "    model.add(keras.layers.Conv2D(filters=16, kernel_size=(1,2), input_shape=(100,40,1), strides=(1, 2)))\n",
    "    model.add(keras.layers.LeakyReLU(alpha=0.01))\n",
    "    model.add(keras.layers.Conv2D(filters=32, kernel_size=(4,1)))\n",
    "#     model.add(keras.layers.Conv2D(filters=16, kernel_size=(4,1)))\n",
    "    \n",
    "    model.add(keras.layers.Conv2D(filters=16, kernel_size=(1,2), strides=(1, 2)))\n",
    "    model.add(keras.layers.LeakyReLU(alpha=0.01))\n",
    "    model.add(keras.layers.Conv2D(filters=32, kernel_size=(4,1)))\n",
    "#     model.add(keras.layers.Conv2D(filters=16, kernel_size=(4,1)))\n",
    "    \n",
    "    model.add(keras.layers.Conv2D(filters=16, kernel_size=(1,10), input_shape=(100,10,1)))\n",
    "    model.add(keras.layers.Conv2D(filters=32, kernel_size=(4,1)))\n",
    "#     model.add(keras.layers.Conv2D(filters=16, kernel_size=(4,1)))\n",
    "    \n",
    "    model.add(keras.layers.MaxPooling2D(pool_size=(3,1)))\n",
    "    model.add(keras.layers.TimeDistributed(keras.layers.Flatten()))\n",
    "\n",
    "    # lstm layer\n",
    "    model.add(keras.layers.SimpleRNN(100))\n",
    "    model.add(keras.layers.Dropout(0.50))\n",
    "    model.add(keras.layers.Dense(3,activation='softmax'))\n",
    "    # compile model and summarize\n",
    "    adam = keras.optimizers.Adam(lr=LEARNING_RATE, epsilon=1)\n",
    "    model.compile(optimizer=adam, loss='categorical_crossentropy', metrics=['accuracy'])\n",
    "    model.summary()\n",
    "    return model\n",
    "model = create_model()"
   ]
  },
  {
   "cell_type": "code",
   "execution_count": 16,
   "metadata": {
    "colab": {
     "base_uri": "https://localhost:8080/",
     "height": 1000
    },
    "colab_type": "code",
    "id": "jQ5i_7ssyuso",
    "outputId": "318a9227-e0d6-45b2-85f7-d1caf86d9dc5",
    "pycharm": {
     "name": "#%%\n"
    }
   },
   "outputs": [
    {
     "name": "stdout",
     "output_type": "stream",
     "text": [
      "Batch size:100, Prediction horizon(K):50, Learning Rate:0.01\n",
      "Train on 99456 samples, validate on 48626 samples\n",
      "Epoch 1/100\n",
      "99456/99456 [==============================] - 203s 2ms/sample - loss: 0.9525 - acc: 0.5589 - val_loss: 0.9272 - val_acc: 0.5699\n",
      "Epoch 2/100\n",
      "99456/99456 [==============================] - 203s 2ms/sample - loss: 0.8679 - acc: 0.6104 - val_loss: 0.8385 - val_acc: 0.6305\n",
      "Epoch 3/100\n",
      "99456/99456 [==============================] - 204s 2ms/sample - loss: 0.7811 - acc: 0.6720 - val_loss: 0.7580 - val_acc: 0.6852\n",
      "Epoch 4/100\n",
      "99456/99456 [==============================] - 200s 2ms/sample - loss: 0.7292 - acc: 0.7057 - val_loss: 0.7148 - val_acc: 0.7069\n",
      "Epoch 5/100\n",
      "99456/99456 [==============================] - 197s 2ms/sample - loss: 0.6800 - acc: 0.7306 - val_loss: 0.7142 - val_acc: 0.7074\n",
      "Epoch 6/100\n",
      "99456/99456 [==============================] - 196s 2ms/sample - loss: 0.6496 - acc: 0.7433 - val_loss: 0.6827 - val_acc: 0.7253\n",
      "Epoch 7/100\n",
      "99456/99456 [==============================] - 204s 2ms/sample - loss: 0.6285 - acc: 0.7513 - val_loss: 0.6430 - val_acc: 0.7422\n",
      "Epoch 8/100\n",
      "99456/99456 [==============================] - 198s 2ms/sample - loss: 0.6134 - acc: 0.7567 - val_loss: 0.6511 - val_acc: 0.7398\n",
      "Epoch 9/100\n",
      "99456/99456 [==============================] - 199s 2ms/sample - loss: 0.6025 - acc: 0.7614 - val_loss: 0.6438 - val_acc: 0.7405\n",
      "Epoch 10/100\n",
      "99456/99456 [==============================] - 199s 2ms/sample - loss: 0.5936 - acc: 0.7642 - val_loss: 0.6399 - val_acc: 0.7435\n",
      "Epoch 11/100\n",
      "99456/99456 [==============================] - 196s 2ms/sample - loss: 0.5854 - acc: 0.7671 - val_loss: 0.6311 - val_acc: 0.7484\n",
      "Epoch 12/100\n",
      "99456/99456 [==============================] - 195s 2ms/sample - loss: 0.5801 - acc: 0.7693 - val_loss: 0.5977 - val_acc: 0.7603\n",
      "Epoch 13/100\n",
      "99456/99456 [==============================] - 203s 2ms/sample - loss: 0.5734 - acc: 0.7718 - val_loss: 0.6248 - val_acc: 0.7509\n",
      "Epoch 14/100\n",
      "99456/99456 [==============================] - 198s 2ms/sample - loss: 0.5681 - acc: 0.7734 - val_loss: 0.6026 - val_acc: 0.7606\n",
      "Epoch 15/100\n",
      "99456/99456 [==============================] - 198s 2ms/sample - loss: 0.5658 - acc: 0.7749 - val_loss: 0.6055 - val_acc: 0.7559\n",
      "Epoch 16/100\n",
      "99456/99456 [==============================] - 197s 2ms/sample - loss: 0.5623 - acc: 0.7757 - val_loss: 0.5909 - val_acc: 0.7646\n",
      "Epoch 17/100\n",
      "99456/99456 [==============================] - 197s 2ms/sample - loss: 0.5571 - acc: 0.7791 - val_loss: 0.6014 - val_acc: 0.7579\n",
      "Epoch 18/100\n",
      "99456/99456 [==============================] - 196s 2ms/sample - loss: 0.5536 - acc: 0.7790 - val_loss: 0.5929 - val_acc: 0.7597\n",
      "Epoch 19/100\n",
      "99456/99456 [==============================] - 197s 2ms/sample - loss: 0.5507 - acc: 0.7802 - val_loss: 0.5789 - val_acc: 0.7672\n",
      "Epoch 20/100\n",
      "99456/99456 [==============================] - 196s 2ms/sample - loss: 0.5459 - acc: 0.7816 - val_loss: 0.5899 - val_acc: 0.7630\n",
      "Epoch 21/100\n",
      "99456/99456 [==============================] - 196s 2ms/sample - loss: 0.5445 - acc: 0.7825 - val_loss: 0.5967 - val_acc: 0.7593\n",
      "Epoch 22/100\n",
      "99456/99456 [==============================] - 197s 2ms/sample - loss: 0.5435 - acc: 0.7821 - val_loss: 0.5805 - val_acc: 0.7672\n",
      "Epoch 23/100\n",
      "99456/99456 [==============================] - 195s 2ms/sample - loss: 0.5393 - acc: 0.7855 - val_loss: 0.5930 - val_acc: 0.7620\n",
      "Epoch 24/100\n",
      "99456/99456 [==============================] - 197s 2ms/sample - loss: 0.5379 - acc: 0.7839 - val_loss: 0.5994 - val_acc: 0.7575\n",
      "Epoch 25/100\n",
      "99456/99456 [==============================] - 204s 2ms/sample - loss: 0.5358 - acc: 0.7853 - val_loss: 0.5754 - val_acc: 0.7697\n",
      "Epoch 26/100\n",
      "99456/99456 [==============================] - 195s 2ms/sample - loss: 0.5320 - acc: 0.7873 - val_loss: 0.5838 - val_acc: 0.7662\n",
      "Epoch 27/100\n",
      "99456/99456 [==============================] - 195s 2ms/sample - loss: 0.5320 - acc: 0.7865 - val_loss: 0.5684 - val_acc: 0.7714\n",
      "Epoch 28/100\n",
      "99456/99456 [==============================] - 196s 2ms/sample - loss: 0.5296 - acc: 0.7867 - val_loss: 0.5727 - val_acc: 0.7721\n",
      "Epoch 29/100\n",
      "99456/99456 [==============================] - 196s 2ms/sample - loss: 0.5283 - acc: 0.7884 - val_loss: 0.5769 - val_acc: 0.7679\n",
      "Epoch 30/100\n",
      "99456/99456 [==============================] - 195s 2ms/sample - loss: 0.5262 - acc: 0.7885 - val_loss: 0.5699 - val_acc: 0.7709\n",
      "Epoch 31/100\n",
      "99456/99456 [==============================] - 196s 2ms/sample - loss: 0.5248 - acc: 0.7903 - val_loss: 0.6109 - val_acc: 0.7600\n",
      "Epoch 32/100\n",
      "99456/99456 [==============================] - 196s 2ms/sample - loss: 0.5230 - acc: 0.7912 - val_loss: 0.5639 - val_acc: 0.7744\n",
      "Epoch 33/100\n",
      "99456/99456 [==============================] - 198s 2ms/sample - loss: 0.5201 - acc: 0.7904 - val_loss: 0.5610 - val_acc: 0.7753\n",
      "Epoch 34/100\n",
      "99456/99456 [==============================] - 195s 2ms/sample - loss: 0.5193 - acc: 0.7914 - val_loss: 0.5817 - val_acc: 0.7658\n",
      "Epoch 35/100\n",
      "99456/99456 [==============================] - 194s 2ms/sample - loss: 0.5192 - acc: 0.7922 - val_loss: 0.5552 - val_acc: 0.7786\n",
      "Epoch 36/100\n",
      "99456/99456 [==============================] - 192s 2ms/sample - loss: 0.5180 - acc: 0.7918 - val_loss: 0.5626 - val_acc: 0.7738\n",
      "Epoch 37/100\n",
      "99456/99456 [==============================] - 194s 2ms/sample - loss: 0.5163 - acc: 0.7919 - val_loss: 0.5677 - val_acc: 0.7724\n",
      "Epoch 38/100\n",
      "99456/99456 [==============================] - 194s 2ms/sample - loss: 0.5147 - acc: 0.7940 - val_loss: 0.5644 - val_acc: 0.7733\n",
      "Epoch 39/100\n",
      "99456/99456 [==============================] - 195s 2ms/sample - loss: 0.5142 - acc: 0.7935 - val_loss: 0.5579 - val_acc: 0.7777\n",
      "Epoch 40/100\n",
      "99456/99456 [==============================] - 195s 2ms/sample - loss: 0.5124 - acc: 0.7935 - val_loss: 0.5707 - val_acc: 0.7716\n",
      "Epoch 41/100\n",
      "99456/99456 [==============================] - 196s 2ms/sample - loss: 0.5105 - acc: 0.7950 - val_loss: 0.5690 - val_acc: 0.7733\n",
      "Epoch 42/100\n",
      "99456/99456 [==============================] - 197s 2ms/sample - loss: 0.5104 - acc: 0.7946 - val_loss: 0.5711 - val_acc: 0.7734\n",
      "Epoch 43/100\n",
      "99456/99456 [==============================] - 194s 2ms/sample - loss: 0.5098 - acc: 0.7950 - val_loss: 0.5576 - val_acc: 0.7744\n",
      "Epoch 44/100\n",
      "99456/99456 [==============================] - 196s 2ms/sample - loss: 0.5084 - acc: 0.7961 - val_loss: 0.5585 - val_acc: 0.7774\n",
      "Epoch 45/100\n",
      "99456/99456 [==============================] - 196s 2ms/sample - loss: 0.5068 - acc: 0.7961 - val_loss: 0.5733 - val_acc: 0.7704\n",
      "Epoch 46/100\n",
      "99456/99456 [==============================] - 196s 2ms/sample - loss: 0.5058 - acc: 0.7955 - val_loss: 0.5476 - val_acc: 0.7811\n",
      "Epoch 47/100\n",
      "99456/99456 [==============================] - 195s 2ms/sample - loss: 0.5040 - acc: 0.7979 - val_loss: 0.5546 - val_acc: 0.7782\n",
      "Epoch 48/100\n",
      "99456/99456 [==============================] - 196s 2ms/sample - loss: 0.5034 - acc: 0.7968 - val_loss: 0.5582 - val_acc: 0.7785\n",
      "Epoch 49/100\n",
      "99456/99456 [==============================] - 197s 2ms/sample - loss: 0.5031 - acc: 0.7977 - val_loss: 0.5541 - val_acc: 0.7785\n",
      "Epoch 50/100\n",
      "99456/99456 [==============================] - 195s 2ms/sample - loss: 0.5021 - acc: 0.7988 - val_loss: 0.5729 - val_acc: 0.7717\n",
      "Epoch 51/100\n",
      "99456/99456 [==============================] - 195s 2ms/sample - loss: 0.5020 - acc: 0.7971 - val_loss: 0.5484 - val_acc: 0.7800\n",
      "Epoch 52/100\n",
      "99456/99456 [==============================] - 196s 2ms/sample - loss: 0.5012 - acc: 0.7976 - val_loss: 0.5852 - val_acc: 0.7657\n",
      "Epoch 53/100\n",
      "99456/99456 [==============================] - 196s 2ms/sample - loss: 0.5008 - acc: 0.7979 - val_loss: 0.5596 - val_acc: 0.7748\n",
      "Epoch 54/100\n",
      "99456/99456 [==============================] - 196s 2ms/sample - loss: 0.4993 - acc: 0.7995 - val_loss: 0.5624 - val_acc: 0.7731\n",
      "Epoch 55/100\n",
      "99456/99456 [==============================] - 195s 2ms/sample - loss: 0.4974 - acc: 0.7998 - val_loss: 0.5674 - val_acc: 0.7756\n",
      "Epoch 56/100\n",
      "99456/99456 [==============================] - 196s 2ms/sample - loss: 0.5337 - acc: 0.7868 - val_loss: 0.5802 - val_acc: 0.7682\n",
      "Epoch 57/100\n",
      "99456/99456 [==============================] - 196s 2ms/sample - loss: 0.5110 - acc: 0.7958 - val_loss: 0.5549 - val_acc: 0.7761\n",
      "Epoch 58/100\n",
      "99456/99456 [==============================] - 195s 2ms/sample - loss: 0.5023 - acc: 0.7981 - val_loss: 0.5581 - val_acc: 0.7779\n",
      "Epoch 59/100\n",
      "89500/99456 [=========================>....] - ETA: 17s - loss: 0.4987 - acc: 0.7988Buffered data was truncated after reaching the output size limit."
     ]
    }
   ],
   "source": [
    "# callback = keras.callbacks.EarlyStopping(monitor='val_loss', patience=3)\n",
    "print(\"Batch size:{}, Prediction horizon(K):{}, Learning Rate:{}\".format(BATCH_SIZE, K, LEARNING_RATE))\n",
    "csv_logger = keras.callbacks.CSVLogger('/content/gdrive/My Drive/thesis/105.csv', append=True, separator=',')\n",
    "history = model.fit(X_train, y_train, epochs=EPOCHS, batch_size=BATCH_SIZE, callbacks=[csv_logger], \n",
    "                    validation_data=(X_val, y_val), verbose=1)\n",
    "score, accuracy = model.evaluate(X_test, y_test, batch_size=BATCH_SIZE)\n",
    "print(\"Accuracy is {}%\".format(accuracy*100))"
   ]
  },
  {
   "cell_type": "markdown",
   "metadata": {
    "colab_type": "text",
    "id": "PkMtITd8yusu",
    "pycharm": {
     "name": "#%% md\n"
    }
   },
   "source": [
    "### Evaluate performance"
   ]
  },
  {
   "cell_type": "code",
   "execution_count": 17,
   "metadata": {
    "colab": {
     "base_uri": "https://localhost:8080/",
     "height": 609
    },
    "colab_type": "code",
    "id": "w_aRVyjGyusq",
    "outputId": "65475410-38c7-498f-dbf7-cef3d09f41c3",
    "pycharm": {
     "name": "#%%\n"
    }
   },
   "outputs": [
    {
     "data": {
      "image/png": "[encoded data removed]",
      "text/plain": [
       "<Figure size 1080x720 with 2 Axes>"
      ]
     },
     "metadata": {
      "tags": []
     },
     "output_type": "display_data"
    }
   ],
   "source": [
    "plt.figure(figsize=(15,10))\n",
    "plt.subplot(2,1,1)\n",
    "plt.plot(history.history['loss'],'b--',lw=2,label='train_loss')\n",
    "plt.plot(history.history['val_loss'],'g-',lw=2,label='val_loss')\n",
    "plt.legend()\n",
    "# plt.ylim([.5,1.3])\n",
    "plt.xlabel('Number of epochs')\n",
    "plt.ylabel('Loss')\n",
    "plt.subplot(2,1,2)\n",
    "plt.plot(history.history['acc'],'b--',lw=2,label='train_acc')\n",
    "plt.plot(history.history['val_acc'],'g-',lw=2,label='val_acc')\n",
    "plt.legend()\n",
    "# plt.ylim([.2,1.0])\n",
    "plt.xlabel('Number of epochs')\n",
    "plt.ylabel('Accuracy')\n",
    "plt.show()"
   ]
  },
  {
   "cell_type": "code",
   "execution_count": 23,
   "metadata": {
    "colab": {
     "base_uri": "https://localhost:8080/",
     "height": 238
    },
    "colab_type": "code",
    "id": "Caceyv8uyusu",
    "outputId": "93b636c3-a170-4624-d076-bc8347855d8b",
    "pycharm": {
     "name": "#%%\n"
    }
   },
   "outputs": [
    {
     "name": "stdout",
     "output_type": "stream",
     "text": [
      "              precision    recall  f1-score   support\n",
      "\n",
      "        down       0.69      0.70      0.69      9589\n",
      "  stationary       0.79      0.79      0.79     19224\n",
      "          up       0.71      0.69      0.70      9934\n",
      "\n",
      "    accuracy                           0.74     38747\n",
      "   macro avg       0.73      0.73      0.73     38747\n",
      "weighted avg       0.74      0.74      0.74     38747\n",
      "\n",
      "[[ 6742  2061  1036]\n",
      " [ 2025 15127  2023]\n",
      " [  822  2036  6875]]\n"
     ]
    }
   ],
   "source": [
    "target_names = [mapping[str(i)] for i in range(3)]\n",
    "y_pred = model.predict(X_test)\n",
    "y_pred_bool = np.argmax(y_pred, axis=1)\n",
    "y_test_bool = np.argmax(y_test, axis=1)\n",
    "print(classification_report(y_pred_bool, y_test_bool, target_names=target_names))\n",
    "print(confusion_matrix(y_test_bool, y_pred_bool, labels=[0,1,2]))"
   ]
  },
  {
   "cell_type": "code",
   "execution_count": 24,
   "metadata": {
    "colab": {
     "base_uri": "https://localhost:8080/",
     "height": 34
    },
    "colab_type": "code",
    "id": "WQPWgdpTBtpy",
    "outputId": "6509d44d-d8c6-4526-c696-2ca4e17f5b83",
    "pycharm": {
     "name": "#%%\n"
    }
   },
   "outputs": [
    {
     "name": "stdout",
     "output_type": "stream",
     "text": [
      "Accuracy is 74.18380975723267%\n"
     ]
    }
   ],
   "source": [
    "print(\"Accuracy is {}%\".format(accuracy*100))"
   ]
  },
  {
   "cell_type": "code",
   "execution_count": 0,
   "metadata": {
    "colab": {},
    "colab_type": "code",
    "id": "t-gdT_q8BuLk",
    "pycharm": {
     "name": "#%%\n"
    }
   },
   "outputs": [],
   "source": []
  }
 ],
 "metadata": {
  "colab": {
   "collapsed_sections": [],
   "machine_shape": "hm",
   "name": "ConvRNN-105",
   "provenance": [],
   "toc_visible": true,
   "version": "0.3.2"
  },
  "kernelspec": {
   "display_name": "Python 3",
   "language": "python",
   "name": "python3"
  },
  "language_info": {
   "codemirror_mode": {
    "name": "ipython",
    "version": 3
   },
   "file_extension": ".py",
   "mimetype": "text/x-python",
   "name": "python",
   "nbconvert_exporter": "python",
   "pygments_lexer": "ipython3",
   "version": "3.7.3"
  }
 },
 "nbformat": 4,
 "nbformat_minor": 1
}