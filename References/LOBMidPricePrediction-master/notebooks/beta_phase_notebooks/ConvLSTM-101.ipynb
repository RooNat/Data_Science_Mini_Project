{
 "cells": [
  {
   "cell_type": "code",
   "execution_count": 1,
   "metadata": {
    "pycharm": {
     "name": "#%%\n"
    }
   },
   "outputs": [
    {
     "name": "stderr",
     "output_type": "stream",
     "text": [
      "/users/isys/tpotdar/pyenvs/lob/lib/python3.6/site-packages/h5py-2.7.0-py3.6-linux-x86_64.egg/h5py/__init__.py:34: FutureWarning: Conversion of the second argument of issubdtype from `float` to `np.floating` is deprecated. In future, it will be treated as `np.float64 == np.dtype(float).type`.\n",
      "  from ._conv import register_converters as _register_converters\n"
     ]
    }
   ],
   "source": [
    "import glob\n",
    "import os\n",
    "import numpy as np\n",
    "import pandas as pd\n",
    "from matplotlib import pyplot as plt\n",
    "from sklearn.model_selection import train_test_split\n",
    "from sklearn.metrics import classification_report, confusion_matrix\n",
    "from sklearn.preprocessing import OneHotEncoder, LabelEncoder\n",
    "from scipy.stats import zscore\n",
    "from tensorflow import keras"
   ]
  },
  {
   "cell_type": "code",
   "execution_count": 24,
   "metadata": {
    "pycharm": {
     "name": "#%%\n"
    }
   },
   "outputs": [],
   "source": [
    "# Constants\n",
    "# batch size for model\n",
    "BATCH_SIZE = 100\n",
    "# number of epochs\n",
    "EPOCHS = 100\n",
    "# proportion of validation data\n",
    "VALIDATION_SPLIT = 0.2\n",
    "# learning rate and epsilon for ADAM optimizer\n",
    "LEARNING_RATE = 0.01\n",
    "EPSILON = 1\n",
    "# path where data is stored\n",
    "PATH=\"/users/isys/tpotdar/projects/thesis/data/INTC_2015-01-01_2015-01-31_10\"\n",
    "# prediction horizon\n",
    "K = 50 \n",
    "# threshold to decide which category midprice direction falls in (up, down, stationary)\n",
    "ALPHA = 0.001\n",
    "# first 10 days are used to train, 6 for val and 4 for test (TSLA and INTC each have 20 working days of data)\n",
    "days = list(range(20))\n",
    "train_days = days[:10]\n",
    "val_days = days[10:16]\n",
    "test_days = days[16:20]\n",
    "\n",
    "# Static objects\n",
    "# instantiate one hot encoder here so that all classes will always map to the same labels\n",
    "onehot_encoder = OneHotEncoder(sparse=False)\n",
    "\n",
    "# column names\n",
    "levels = 10\n",
    "nums = map(str, range(1,levels+1))\n",
    "col_names = [y + x for x in nums for y in ['ask_price_', 'ask_size_', 'bid_price_', 'bid_size_']]"
   ]
  },
  {
   "cell_type": "markdown",
   "metadata": {
    "pycharm": {
     "name": "#%% md\n"
    }
   },
   "source": [
    "## Preprocess the data"
   ]
  },
  {
   "cell_type": "code",
   "execution_count": 3,
   "metadata": {
    "scrolled": true,
    "pycharm": {
     "name": "#%%\n"
    }
   },
   "outputs": [
    {
     "name": "stdout",
     "output_type": "stream",
     "text": [
      "Reading\n",
      "Reading\n",
      "Reading\n"
     ]
    }
   ],
   "source": [
    "all_files = glob.glob(PATH + \"/*orderbook_10.csv\")\n",
    "all_files.sort()\n",
    "\n",
    "def read_data(days):\n",
    "    dfs = []\n",
    "    print(\"Reading\")\n",
    "    for filename in [all_files[i] for i in days]:\n",
    "        df = pd.read_csv(filename, index_col=None, header=None, names=col_names)\n",
    "        dfs.append(df)\n",
    "    data = pd.concat(dfs, axis=0, ignore_index=True)\n",
    "    return data\n",
    "\n",
    "train_data = read_data(train_days)\n",
    "test_data = read_data(test_days)\n",
    "val_data = read_data(val_days)"
   ]
  },
  {
   "cell_type": "code",
   "execution_count": 4,
   "metadata": {
    "pycharm": {
     "name": "#%%\n"
    }
   },
   "outputs": [],
   "source": [
    "# smoothed labelling of the midprice/ K is the prediction horizon\n",
    "def smooth_midprice_using_k_lookahead(data, k):\n",
    "    normalised_data = data.apply(zscore)\n",
    "    normalised_data['midprice'] = (normalised_data.ask_price_1+normalised_data.bid_price_1)/2\n",
    "    # mean of previous k mid-prices\n",
    "    normalised_data['m_minus'] = normalised_data['midprice'].rolling(window=k).mean()\n",
    "    # mean of next k mid-prices\n",
    "    normalised_data['m_plus'] = normalised_data['midprice'][::-1].rolling(window=k).mean()[::-1]\n",
    "    return normalised_data"
   ]
  },
  {
   "cell_type": "code",
   "execution_count": 5,
   "metadata": {
    "pycharm": {
     "name": "#%%\n"
    }
   },
   "outputs": [],
   "source": [
    "# label the smoothed mid-prices based on a threshold/ ALPHA is the threshold \n",
    "def create_midprice_labels(normalised_data):\n",
    "    normalised_data['change'] = (normalised_data.m_plus - normalised_data.m_minus)/normalised_data.m_minus\n",
    "    # assign categories up, down, stationary\n",
    "    normalised_data['label'] = pd.cut(normalised_data.change, bins=[-np.inf, -ALPHA, ALPHA, np.inf], \n",
    "                                    labels=['down', 'stationary', 'up'])\n",
    "    # drop all unlabelled values (will be first and last k values as they have no m_minus/m_plus value)\n",
    "    normalised_data.dropna(inplace=True)\n",
    "    return normalised_data"
   ]
  },
  {
   "cell_type": "code",
   "execution_count": 6,
   "metadata": {
    "pycharm": {
     "name": "#%%\n"
    }
   },
   "outputs": [],
   "source": [
    "def reshape_and_categorise_data(normalised_data):\n",
    "    n = len(normalised_data) - len(normalised_data)%100\n",
    "    data = normalised_data[:n]\n",
    "    \n",
    "    # reshape input data into the shape of (batches, 100, 40, 1) as one input has 100 timesteps with 40 features\n",
    "    input_data = data[col_names]\n",
    "    input_array = input_data.values.reshape(n//100,100,40,1)\n",
    "    \n",
    "    # choose every 100th value as the output label/ 100 timesteps predict the 100th price move direction\n",
    "    output_data = data.label.values[::-100][::-1]\n",
    "    \n",
    "    # encode labels to vectors\n",
    "    label_encoder = LabelEncoder()\n",
    "    integer_encoded = label_encoder.fit_transform(output_data)\n",
    "    integer_encoded = integer_encoded.reshape(len(integer_encoded), 1)\n",
    "    output_array = onehot_encoder.fit_transform(integer_encoded)\n",
    "    return input_array, output_array"
   ]
  },
  {
   "cell_type": "code",
   "execution_count": 8,
   "metadata": {
    "pycharm": {
     "name": "#%%\n"
    }
   },
   "outputs": [
    {
     "name": "stdout",
     "output_type": "stream",
     "text": [
      "Training input shape: (99456, 100, 40, 1)\n",
      "Training output shape: (99456, 3)\n",
      "Validation input shape: (48626, 100, 40, 1)\n",
      "Validation output shape: (48626, 3)\n",
      "Test input shape: (38747, 100, 40, 1)\n",
      "Test output shape: (38747, 3)\n"
     ]
    }
   ],
   "source": [
    "# data normalisation, smoothing and labelling\n",
    "def preprocess_data(data, k, data_type):\n",
    "    data = smooth_midprice_using_k_lookahead(data, k)\n",
    "    data = create_midprice_labels(data)\n",
    "    X, y = reshape_and_categorise_data(data)\n",
    "    print(\"{} input shape:\".format(data_type), X.shape)\n",
    "    print(\"{} output shape:\".format(data_type), y.shape)\n",
    "    return X, y\n",
    "\n",
    "X_train, y_train = preprocess_data(train_data, k=K, data_type=\"Training\")\n",
    "X_val, y_val = preprocess_data(val_data, k=K, data_type=\"Validation\")\n",
    "X_test, y_test = preprocess_data(test_data, k=K, data_type=\"Test\")"
   ]
  },
  {
   "cell_type": "code",
   "execution_count": 10,
   "metadata": {
    "pycharm": {
     "name": "#%%\n"
    }
   },
   "outputs": [],
   "source": [
    "# mapping of labels to one hot encoding\n",
    "# encodings = [[1,0,0],[0,0,1],[0,1,0]]\n",
    "# classes = onehot_encoder.inverse_transform(encodings)\n",
    "# print(zip(classes, encodings))\n",
    "# Using np.argmax equates: 0-down, 1-stationary, 2-up"
   ]
  },
  {
   "cell_type": "markdown",
   "metadata": {
    "pycharm": {
     "name": "#%% md\n"
    }
   },
   "source": [
    "### Build and compile the model"
   ]
  },
  {
   "cell_type": "code",
   "execution_count": 19,
   "metadata": {
    "pycharm": {
     "name": "#%%\n"
    }
   },
   "outputs": [
    {
     "name": "stdout",
     "output_type": "stream",
     "text": [
      "_________________________________________________________________\n",
      "Layer (type)                 Output Shape              Param #   \n",
      "=================================================================\n",
      "conv2d_72 (Conv2D)           (None, 100, 20, 16)       48        \n",
      "_________________________________________________________________\n",
      "leaky_re_lu_16 (LeakyReLU)   (None, 100, 20, 16)       0         \n",
      "_________________________________________________________________\n",
      "conv2d_73 (Conv2D)           (None, 97, 20, 16)        1040      \n",
      "_________________________________________________________________\n",
      "conv2d_74 (Conv2D)           (None, 94, 20, 16)        1040      \n",
      "_________________________________________________________________\n",
      "conv2d_75 (Conv2D)           (None, 94, 10, 16)        528       \n",
      "_________________________________________________________________\n",
      "leaky_re_lu_17 (LeakyReLU)   (None, 94, 10, 16)        0         \n",
      "_________________________________________________________________\n",
      "conv2d_76 (Conv2D)           (None, 91, 10, 16)        1040      \n",
      "_________________________________________________________________\n",
      "conv2d_77 (Conv2D)           (None, 88, 10, 16)        1040      \n",
      "_________________________________________________________________\n",
      "conv2d_78 (Conv2D)           (None, 88, 1, 16)         2576      \n",
      "_________________________________________________________________\n",
      "conv2d_79 (Conv2D)           (None, 85, 1, 16)         1040      \n",
      "_________________________________________________________________\n",
      "conv2d_80 (Conv2D)           (None, 82, 1, 16)         1040      \n",
      "_________________________________________________________________\n",
      "max_pooling2d_6 (MaxPooling2 (None, 27, 1, 16)         0         \n",
      "_________________________________________________________________\n",
      "time_distributed_7 (TimeDist (None, 27, 16)            0         \n",
      "_________________________________________________________________\n",
      "lstm_5 (LSTM)                (None, 100)               46800     \n",
      "_________________________________________________________________\n",
      "dropout_1 (Dropout)          (None, 100)               0         \n",
      "_________________________________________________________________\n",
      "dense_4 (Dense)              (None, 3)                 303       \n",
      "=================================================================\n",
      "Total params: 56,495\n",
      "Trainable params: 56,495\n",
      "Non-trainable params: 0\n",
      "_________________________________________________________________\n"
     ]
    }
   ],
   "source": [
    "def create_model():\n",
    "    # convolutional layers\n",
    "    model = keras.Sequential()\n",
    "    model.add(keras.layers.Conv2D(filters=16, kernel_size=(1,2), input_shape=(100,40,1), strides=(1, 2)))\n",
    "    model.add(keras.layers.LeakyReLU(alpha=0.01))\n",
    "    model.add(keras.layers.Conv2D(filters=16, kernel_size=(4,1)))\n",
    "    model.add(keras.layers.Conv2D(filters=16, kernel_size=(4,1)))\n",
    "    \n",
    "    model.add(keras.layers.Conv2D(filters=16, kernel_size=(1,2), strides=(1, 2)))\n",
    "    model.add(keras.layers.LeakyReLU(alpha=0.01))\n",
    "    model.add(keras.layers.Conv2D(filters=16, kernel_size=(4,1)))\n",
    "    model.add(keras.layers.Conv2D(filters=16, kernel_size=(4,1)))\n",
    "    \n",
    "    model.add(keras.layers.Conv2D(filters=16, kernel_size=(1,10), input_shape=(100,10,1)))\n",
    "    model.add(keras.layers.Conv2D(filters=16, kernel_size=(4,1)))\n",
    "    model.add(keras.layers.Conv2D(filters=16, kernel_size=(4,1)))\n",
    "    \n",
    "    model.add(keras.layers.MaxPooling2D(pool_size=(3,1)))\n",
    "    model.add(keras.layers.TimeDistributed(keras.layers.Flatten()))\n",
    "\n",
    "    # lstm layer\n",
    "    model.add(keras.layers.LSTM(100,kernel_regularizer=keras.regularizers.l2(0.01),return_sequences=False,activation='relu'))\n",
    "    model.add(keras.layers.Dropout(0.50))\n",
    "    model.add(keras.layers.Dense(3,activation='softmax'))\n",
    "    # compile model and summarize\n",
    "    adam = keras.optimizers.Adam(lr=LEARNING_RATE, epsilon=1)\n",
    "    model.compile(optimizer=adam, loss='categorical_crossentropy', metrics=['accuracy'])\n",
    "    model.summary()\n",
    "    return model\n",
    "model = create_model()"
   ]
  },
  {
   "cell_type": "code",
   "execution_count": null,
   "metadata": {
    "pycharm": {
     "name": "#%%\n"
    }
   },
   "outputs": [
    {
     "name": "stdout",
     "output_type": "stream",
     "text": [
      "Train on 99456 samples, validate on 48626 samples\n",
      "Epoch 1/100\n",
      "99456/99456 [==============================] - 331s 3ms/step - loss: 1.0100 - acc: 0.5514 - val_loss: 1.0058 - val_acc: 0.5503\n",
      "Epoch 2/100\n",
      "99400/99456 [============================>.] - ETA: 0s - loss: 0.9766 - acc: 0.5537"
     ]
    }
   ],
   "source": [
    "callback = keras.callbacks.EarlyStopping(monitor='val_loss', patience=3)\n",
    "history = model.fit(X_train, y_train, epochs=EPOCHS, batch_size=BATCH_SIZE, callbacks=[callback], \n",
    "                    validation_data=(X_val, y_val), verbose=1)\n",
    "score, accuracy = model.evaluate(X_test, y_test, batch_size=BATCH_SIZE)\n",
    "print(\"Accuracy is {}%\".format(accuracy*100))"
   ]
  },
  {
   "cell_type": "code",
   "execution_count": 21,
   "metadata": {
    "pycharm": {
     "name": "#%%\n"
    }
   },
   "outputs": [
    {
     "data": {
      "image/png": "[encoded data removed]",
      "text/plain": [
       "<Figure size 1080x720 with 2 Axes>"
      ]
     },
     "metadata": {
      "needs_background": "light"
     },
     "output_type": "display_data"
    }
   ],
   "source": [
    "def plots(history):\n",
    "    plt.figure(figsize=(15,10))\n",
    "    plt.subplot(2,1,1)\n",
    "    plt.plot(history.history['loss'],'b--',lw=2,label='train_loss')\n",
    "    plt.plot(history.history['val_loss'],'g-',lw=2,label='val_loss')\n",
    "    plt.legend()\n",
    "    # plt.ylim([.5,1.3])\n",
    "    plt.xlabel('Number of epochs')\n",
    "    plt.ylabel('Loss')\n",
    "    plt.subplot(2,1,2)\n",
    "    plt.plot(history.history['acc'],'b--',lw=2,label='train_acc')\n",
    "    plt.plot(history.history['val_acc'],'g-',lw=2,label='val_acc')\n",
    "    plt.legend()\n",
    "    # plt.ylim([.2,1.0])\n",
    "    plt.xlabel('Number of epochs')\n",
    "    plt.ylabel('Accuracy')\n",
    "    plt.show()\n",
    "plots(history)"
   ]
  },
  {
   "cell_type": "markdown",
   "metadata": {
    "pycharm": {
     "name": "#%% md\n"
    }
   },
   "source": [
    "### Evaluate performance"
   ]
  },
  {
   "cell_type": "code",
   "execution_count": 22,
   "metadata": {
    "pycharm": {
     "name": "#%%\n"
    }
   },
   "outputs": [
    {
     "name": "stdout",
     "output_type": "stream",
     "text": [
      "             precision    recall  f1-score   support\n",
      "\n",
      "       down       0.09      0.37      0.14      2319\n",
      " stationary       0.80      0.60      0.68     25580\n",
      "         up       0.40      0.36      0.38     10848\n",
      "\n",
      "avg / total       0.64      0.52      0.57     38747\n",
      "\n",
      "[[  862  5237  3740]\n",
      " [  691 15277  3207]\n",
      " [  766  5066  3901]]\n"
     ]
    }
   ],
   "source": [
    "def get_report(model, X_test, y_test, X_train, y_train):\n",
    "    target_names = ['down', 'stationary', 'up']\n",
    "    y_pred = model.predict(X_test)\n",
    "    y_pred_bool = np.argmax(y_pred, axis=1)\n",
    "    y_test_bool = np.argmax(y_test, axis=1)\n",
    "    print(classification_report(y_pred_bool, y_test_bool, target_names=target_names))\n",
    "    print(confusion_matrix(y_test_bool, y_pred_bool, labels=[0,1,2]))\n",
    "get_report(model, X_test, y_test, X_train, y_train)"
   ]
  },
  {
   "cell_type": "code",
   "execution_count": null,
   "metadata": {
    "pycharm": {
     "name": "#%%\n"
    }
   },
   "outputs": [],
   "source": [
    "[all_files[i] for i in train_days]"
   ]
  },
  {
   "cell_type": "code",
   "execution_count": null,
   "metadata": {
    "pycharm": {
     "name": "#%%\n"
    }
   },
   "outputs": [],
   "source": []
  }
 ],
 "metadata": {
  "kernelspec": {
   "display_name": "Python 3",
   "language": "python",
   "name": "python3"
  },
  "language_info": {
   "codemirror_mode": {
    "name": "ipython",
    "version": 3
   },
   "file_extension": ".py",
   "mimetype": "text/x-python",
   "name": "python",
   "nbconvert_exporter": "python",
   "pygments_lexer": "ipython3",
   "version": "3.6.5"
  }
 },
 "nbformat": 4,
 "nbformat_minor": 2
}