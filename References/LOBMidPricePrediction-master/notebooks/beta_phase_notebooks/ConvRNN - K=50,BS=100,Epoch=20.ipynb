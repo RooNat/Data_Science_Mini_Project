{
 "cells": [
  {
   "cell_type": "code",
   "execution_count": 2,
   "metadata": {
    "pycharm": {
     "name": "#%%\n"
    }
   },
   "outputs": [],
   "source": [
    "import glob\n",
    "import os\n",
    "import numpy as np\n",
    "import pandas as pd\n",
    "from matplotlib import pyplot as plt\n",
    "from sklearn.model_selection import train_test_split\n",
    "from sklearn.metrics import classification_report, confusion_matrix\n",
    "from sklearn.preprocessing import OneHotEncoder\n",
    "from scipy.stats import zscore\n",
    "from tensorflow import keras"
   ]
  },
  {
   "cell_type": "code",
   "execution_count": 3,
   "metadata": {
    "pycharm": {
     "name": "#%%\n"
    }
   },
   "outputs": [],
   "source": [
    "# Constants\n",
    "# batch size for model\n",
    "BATCH_SIZE = 100\n",
    "# number of epochs\n",
    "EPOCHS = 20\n",
    "# proportion of validation data\n",
    "VALIDATION_SPLIT = 0.2\n",
    "# learning rate and epsilon for ADAM optimizer\n",
    "LEARNING_RATE = 0.01\n",
    "EPSILON = 1\n",
    "# path where data is stored\n",
    "PATH=\"/Users/tanvipotdar/Projects/thesis/data/INTC_2015-01-01_2015-01-31_10\"\n",
    "# prediction horizon\n",
    "K = 50 \n",
    "# threshold to decide which category midprice direction falls in (up, down, stationary)\n",
    "ALPHA = 0.001\n",
    "\n",
    "# Static objects\n",
    "# instantiate one hot encoder here so that all classes will always map to the same labels\n",
    "onehot_encoder = OneHotEncoder(sparse=False)"
   ]
  },
  {
   "cell_type": "markdown",
   "metadata": {
    "pycharm": {
     "name": "#%% md\n"
    }
   },
   "source": [
    "### Prepare the data"
   ]
  },
  {
   "cell_type": "code",
   "execution_count": 4,
   "metadata": {
    "scrolled": true,
    "pycharm": {
     "name": "#%%\n"
    }
   },
   "outputs": [
    {
     "data": {
      "text/html": [
       "<div>\n",
       "<style scoped>\n",
       "    .dataframe tbody tr th:only-of-type {\n",
       "        vertical-align: middle;\n",
       "    }\n",
       "\n",
       "    .dataframe tbody tr th {\n",
       "        vertical-align: top;\n",
       "    }\n",
       "\n",
       "    .dataframe thead th {\n",
       "        text-align: right;\n",
       "    }\n",
       "</style>\n",
       "<table border=\"1\" class=\"dataframe\">\n",
       "  <thead>\n",
       "    <tr style=\"text-align: right;\">\n",
       "      <th></th>\n",
       "      <th>ask_price_1</th>\n",
       "      <th>ask_size_1</th>\n",
       "      <th>bid_price_1</th>\n",
       "      <th>bid_size_1</th>\n",
       "      <th>ask_price_2</th>\n",
       "      <th>ask_size_2</th>\n",
       "      <th>bid_price_2</th>\n",
       "      <th>bid_size_2</th>\n",
       "      <th>ask_price_3</th>\n",
       "      <th>ask_size_3</th>\n",
       "      <th>...</th>\n",
       "      <th>bid_price_8</th>\n",
       "      <th>bid_size_8</th>\n",
       "      <th>ask_price_9</th>\n",
       "      <th>ask_size_9</th>\n",
       "      <th>bid_price_9</th>\n",
       "      <th>bid_size_9</th>\n",
       "      <th>ask_price_10</th>\n",
       "      <th>ask_size_10</th>\n",
       "      <th>bid_price_10</th>\n",
       "      <th>bid_size_10</th>\n",
       "    </tr>\n",
       "  </thead>\n",
       "  <tbody>\n",
       "    <tr>\n",
       "      <th>0</th>\n",
       "      <td>367300</td>\n",
       "      <td>4000</td>\n",
       "      <td>365200</td>\n",
       "      <td>400</td>\n",
       "      <td>367500</td>\n",
       "      <td>200</td>\n",
       "      <td>364800</td>\n",
       "      <td>300</td>\n",
       "      <td>367900</td>\n",
       "      <td>300</td>\n",
       "      <td>...</td>\n",
       "      <td>361800</td>\n",
       "      <td>200</td>\n",
       "      <td>372900</td>\n",
       "      <td>1000</td>\n",
       "      <td>361500</td>\n",
       "      <td>200</td>\n",
       "      <td>373400</td>\n",
       "      <td>2500</td>\n",
       "      <td>360800</td>\n",
       "      <td>200</td>\n",
       "    </tr>\n",
       "    <tr>\n",
       "      <th>1</th>\n",
       "      <td>367300</td>\n",
       "      <td>4000</td>\n",
       "      <td>365200</td>\n",
       "      <td>400</td>\n",
       "      <td>367500</td>\n",
       "      <td>200</td>\n",
       "      <td>364800</td>\n",
       "      <td>300</td>\n",
       "      <td>367900</td>\n",
       "      <td>300</td>\n",
       "      <td>...</td>\n",
       "      <td>361800</td>\n",
       "      <td>200</td>\n",
       "      <td>372900</td>\n",
       "      <td>1000</td>\n",
       "      <td>361500</td>\n",
       "      <td>200</td>\n",
       "      <td>373400</td>\n",
       "      <td>2500</td>\n",
       "      <td>360800</td>\n",
       "      <td>200</td>\n",
       "    </tr>\n",
       "    <tr>\n",
       "      <th>2</th>\n",
       "      <td>367300</td>\n",
       "      <td>4000</td>\n",
       "      <td>365200</td>\n",
       "      <td>100</td>\n",
       "      <td>367500</td>\n",
       "      <td>200</td>\n",
       "      <td>364800</td>\n",
       "      <td>300</td>\n",
       "      <td>367900</td>\n",
       "      <td>300</td>\n",
       "      <td>...</td>\n",
       "      <td>361800</td>\n",
       "      <td>200</td>\n",
       "      <td>372900</td>\n",
       "      <td>1000</td>\n",
       "      <td>361500</td>\n",
       "      <td>200</td>\n",
       "      <td>373400</td>\n",
       "      <td>2500</td>\n",
       "      <td>360800</td>\n",
       "      <td>200</td>\n",
       "    </tr>\n",
       "    <tr>\n",
       "      <th>3</th>\n",
       "      <td>367300</td>\n",
       "      <td>4000</td>\n",
       "      <td>365200</td>\n",
       "      <td>100</td>\n",
       "      <td>367500</td>\n",
       "      <td>200</td>\n",
       "      <td>364800</td>\n",
       "      <td>300</td>\n",
       "      <td>367900</td>\n",
       "      <td>300</td>\n",
       "      <td>...</td>\n",
       "      <td>362900</td>\n",
       "      <td>200</td>\n",
       "      <td>372900</td>\n",
       "      <td>1000</td>\n",
       "      <td>361800</td>\n",
       "      <td>200</td>\n",
       "      <td>373400</td>\n",
       "      <td>2500</td>\n",
       "      <td>361500</td>\n",
       "      <td>200</td>\n",
       "    </tr>\n",
       "    <tr>\n",
       "      <th>4</th>\n",
       "      <td>367300</td>\n",
       "      <td>4000</td>\n",
       "      <td>365200</td>\n",
       "      <td>100</td>\n",
       "      <td>367500</td>\n",
       "      <td>200</td>\n",
       "      <td>364800</td>\n",
       "      <td>300</td>\n",
       "      <td>367900</td>\n",
       "      <td>300</td>\n",
       "      <td>...</td>\n",
       "      <td>362900</td>\n",
       "      <td>200</td>\n",
       "      <td>372900</td>\n",
       "      <td>1000</td>\n",
       "      <td>361800</td>\n",
       "      <td>200</td>\n",
       "      <td>373400</td>\n",
       "      <td>2500</td>\n",
       "      <td>361500</td>\n",
       "      <td>200</td>\n",
       "    </tr>\n",
       "  </tbody>\n",
       "</table>\n",
       "<p>5 rows × 40 columns</p>\n",
       "</div>"
      ],
      "text/plain": [
       "   ask_price_1  ask_size_1  bid_price_1  bid_size_1  ask_price_2  ask_size_2  \\\n",
       "0       367300        4000       365200         400       367500         200   \n",
       "1       367300        4000       365200         400       367500         200   \n",
       "2       367300        4000       365200         100       367500         200   \n",
       "3       367300        4000       365200         100       367500         200   \n",
       "4       367300        4000       365200         100       367500         200   \n",
       "\n",
       "   bid_price_2  bid_size_2  ask_price_3  ask_size_3  ...  bid_price_8  \\\n",
       "0       364800         300       367900         300  ...       361800   \n",
       "1       364800         300       367900         300  ...       361800   \n",
       "2       364800         300       367900         300  ...       361800   \n",
       "3       364800         300       367900         300  ...       362900   \n",
       "4       364800         300       367900         300  ...       362900   \n",
       "\n",
       "   bid_size_8  ask_price_9  ask_size_9  bid_price_9  bid_size_9  ask_price_10  \\\n",
       "0         200       372900        1000       361500         200        373400   \n",
       "1         200       372900        1000       361500         200        373400   \n",
       "2         200       372900        1000       361500         200        373400   \n",
       "3         200       372900        1000       361800         200        373400   \n",
       "4         200       372900        1000       361800         200        373400   \n",
       "\n",
       "   ask_size_10  bid_price_10  bid_size_10  \n",
       "0         2500        360800          200  \n",
       "1         2500        360800          200  \n",
       "2         2500        360800          200  \n",
       "3         2500        361500          200  \n",
       "4         2500        361500          200  \n",
       "\n",
       "[5 rows x 40 columns]"
      ]
     },
     "execution_count": 4,
     "metadata": {},
     "output_type": "execute_result"
    }
   ],
   "source": [
    "def get_data(path, num_files_to_choose=np.inf):\n",
    "    all_files = glob.glob(path + \"/*orderbook_10.csv\")\n",
    "    all_files.sort()\n",
    "    i = min(num_files_to_choose, len(all_files))\n",
    "    orderbooks = []\n",
    "    for filename in all_files[:i]:\n",
    "        df = pd.read_csv(filename, index_col=None, header=None)\n",
    "        orderbooks.append(df)\n",
    "    orderbook = pd.concat(orderbooks, axis=0, ignore_index=True)\n",
    "    col_names = ['ask_price_', 'ask_size_', 'bid_price_', 'bid_size_']\n",
    "    nums = map(str, range(1,11))\n",
    "    orderbook.columns = [y + x for x in nums for y in col_names]\n",
    "    return orderbook\n",
    "data = get_data(path=PATH, num_files_to_choose=3)\n",
    "data.head()"
   ]
  },
  {
   "cell_type": "code",
   "execution_count": 5,
   "metadata": {
    "pycharm": {
     "name": "#%%\n"
    }
   },
   "outputs": [
    {
     "data": {
      "text/html": [
       "<div>\n",
       "<style scoped>\n",
       "    .dataframe tbody tr th:only-of-type {\n",
       "        vertical-align: middle;\n",
       "    }\n",
       "\n",
       "    .dataframe tbody tr th {\n",
       "        vertical-align: top;\n",
       "    }\n",
       "\n",
       "    .dataframe thead th {\n",
       "        text-align: right;\n",
       "    }\n",
       "</style>\n",
       "<table border=\"1\" class=\"dataframe\">\n",
       "  <thead>\n",
       "    <tr style=\"text-align: right;\">\n",
       "      <th></th>\n",
       "      <th>ask_price_1</th>\n",
       "      <th>ask_size_1</th>\n",
       "      <th>bid_price_1</th>\n",
       "      <th>bid_size_1</th>\n",
       "      <th>ask_price_2</th>\n",
       "      <th>ask_size_2</th>\n",
       "      <th>bid_price_2</th>\n",
       "      <th>bid_size_2</th>\n",
       "      <th>ask_price_3</th>\n",
       "      <th>ask_size_3</th>\n",
       "      <th>...</th>\n",
       "      <th>bid_price_8</th>\n",
       "      <th>bid_size_8</th>\n",
       "      <th>ask_price_9</th>\n",
       "      <th>ask_size_9</th>\n",
       "      <th>bid_price_9</th>\n",
       "      <th>bid_size_9</th>\n",
       "      <th>ask_price_10</th>\n",
       "      <th>ask_size_10</th>\n",
       "      <th>bid_price_10</th>\n",
       "      <th>bid_size_10</th>\n",
       "    </tr>\n",
       "  </thead>\n",
       "  <tbody>\n",
       "    <tr>\n",
       "      <th>0</th>\n",
       "      <td>1.641743</td>\n",
       "      <td>-0.076267</td>\n",
       "      <td>1.171577</td>\n",
       "      <td>-0.753204</td>\n",
       "      <td>1.665477</td>\n",
       "      <td>-1.888278</td>\n",
       "      <td>1.100263</td>\n",
       "      <td>-0.914844</td>\n",
       "      <td>1.736729</td>\n",
       "      <td>-1.84804</td>\n",
       "      <td>...</td>\n",
       "      <td>0.529661</td>\n",
       "      <td>-0.579836</td>\n",
       "      <td>2.781734</td>\n",
       "      <td>-0.951862</td>\n",
       "      <td>0.482117</td>\n",
       "      <td>-0.62744</td>\n",
       "      <td>2.876673</td>\n",
       "      <td>-0.219309</td>\n",
       "      <td>0.339465</td>\n",
       "      <td>-0.559228</td>\n",
       "    </tr>\n",
       "    <tr>\n",
       "      <th>1</th>\n",
       "      <td>1.641743</td>\n",
       "      <td>-0.076267</td>\n",
       "      <td>1.171577</td>\n",
       "      <td>-0.753204</td>\n",
       "      <td>1.665477</td>\n",
       "      <td>-1.888278</td>\n",
       "      <td>1.100263</td>\n",
       "      <td>-0.914844</td>\n",
       "      <td>1.736729</td>\n",
       "      <td>-1.84804</td>\n",
       "      <td>...</td>\n",
       "      <td>0.529661</td>\n",
       "      <td>-0.579836</td>\n",
       "      <td>2.781734</td>\n",
       "      <td>-0.951862</td>\n",
       "      <td>0.482117</td>\n",
       "      <td>-0.62744</td>\n",
       "      <td>2.876673</td>\n",
       "      <td>-0.219309</td>\n",
       "      <td>0.339465</td>\n",
       "      <td>-0.559228</td>\n",
       "    </tr>\n",
       "    <tr>\n",
       "      <th>2</th>\n",
       "      <td>1.641743</td>\n",
       "      <td>-0.076267</td>\n",
       "      <td>1.171577</td>\n",
       "      <td>-0.813901</td>\n",
       "      <td>1.665477</td>\n",
       "      <td>-1.888278</td>\n",
       "      <td>1.100263</td>\n",
       "      <td>-0.914844</td>\n",
       "      <td>1.736729</td>\n",
       "      <td>-1.84804</td>\n",
       "      <td>...</td>\n",
       "      <td>0.529661</td>\n",
       "      <td>-0.579836</td>\n",
       "      <td>2.781734</td>\n",
       "      <td>-0.951862</td>\n",
       "      <td>0.482117</td>\n",
       "      <td>-0.62744</td>\n",
       "      <td>2.876673</td>\n",
       "      <td>-0.219309</td>\n",
       "      <td>0.339465</td>\n",
       "      <td>-0.559228</td>\n",
       "    </tr>\n",
       "    <tr>\n",
       "      <th>3</th>\n",
       "      <td>1.641743</td>\n",
       "      <td>-0.076267</td>\n",
       "      <td>1.171577</td>\n",
       "      <td>-0.813901</td>\n",
       "      <td>1.665477</td>\n",
       "      <td>-1.888278</td>\n",
       "      <td>1.100263</td>\n",
       "      <td>-0.914844</td>\n",
       "      <td>1.736729</td>\n",
       "      <td>-1.84804</td>\n",
       "      <td>...</td>\n",
       "      <td>0.791232</td>\n",
       "      <td>-0.579836</td>\n",
       "      <td>2.781734</td>\n",
       "      <td>-0.951862</td>\n",
       "      <td>0.553455</td>\n",
       "      <td>-0.62744</td>\n",
       "      <td>2.876673</td>\n",
       "      <td>-0.219309</td>\n",
       "      <td>0.505915</td>\n",
       "      <td>-0.559228</td>\n",
       "    </tr>\n",
       "    <tr>\n",
       "      <th>4</th>\n",
       "      <td>1.641743</td>\n",
       "      <td>-0.076267</td>\n",
       "      <td>1.171577</td>\n",
       "      <td>-0.813901</td>\n",
       "      <td>1.665477</td>\n",
       "      <td>-1.888278</td>\n",
       "      <td>1.100263</td>\n",
       "      <td>-0.914844</td>\n",
       "      <td>1.736729</td>\n",
       "      <td>-1.84804</td>\n",
       "      <td>...</td>\n",
       "      <td>0.791232</td>\n",
       "      <td>-0.579836</td>\n",
       "      <td>2.781734</td>\n",
       "      <td>-0.951862</td>\n",
       "      <td>0.553455</td>\n",
       "      <td>-0.62744</td>\n",
       "      <td>2.876673</td>\n",
       "      <td>-0.219309</td>\n",
       "      <td>0.505915</td>\n",
       "      <td>-0.559228</td>\n",
       "    </tr>\n",
       "  </tbody>\n",
       "</table>\n",
       "<p>5 rows × 40 columns</p>\n",
       "</div>"
      ],
      "text/plain": [
       "   ask_price_1  ask_size_1  bid_price_1  bid_size_1  ask_price_2  ask_size_2  \\\n",
       "0     1.641743   -0.076267     1.171577   -0.753204     1.665477   -1.888278   \n",
       "1     1.641743   -0.076267     1.171577   -0.753204     1.665477   -1.888278   \n",
       "2     1.641743   -0.076267     1.171577   -0.813901     1.665477   -1.888278   \n",
       "3     1.641743   -0.076267     1.171577   -0.813901     1.665477   -1.888278   \n",
       "4     1.641743   -0.076267     1.171577   -0.813901     1.665477   -1.888278   \n",
       "\n",
       "   bid_price_2  bid_size_2  ask_price_3  ask_size_3  ...  bid_price_8  \\\n",
       "0     1.100263   -0.914844     1.736729    -1.84804  ...     0.529661   \n",
       "1     1.100263   -0.914844     1.736729    -1.84804  ...     0.529661   \n",
       "2     1.100263   -0.914844     1.736729    -1.84804  ...     0.529661   \n",
       "3     1.100263   -0.914844     1.736729    -1.84804  ...     0.791232   \n",
       "4     1.100263   -0.914844     1.736729    -1.84804  ...     0.791232   \n",
       "\n",
       "   bid_size_8  ask_price_9  ask_size_9  bid_price_9  bid_size_9  ask_price_10  \\\n",
       "0   -0.579836     2.781734   -0.951862     0.482117    -0.62744      2.876673   \n",
       "1   -0.579836     2.781734   -0.951862     0.482117    -0.62744      2.876673   \n",
       "2   -0.579836     2.781734   -0.951862     0.482117    -0.62744      2.876673   \n",
       "3   -0.579836     2.781734   -0.951862     0.553455    -0.62744      2.876673   \n",
       "4   -0.579836     2.781734   -0.951862     0.553455    -0.62744      2.876673   \n",
       "\n",
       "   ask_size_10  bid_price_10  bid_size_10  \n",
       "0    -0.219309      0.339465    -0.559228  \n",
       "1    -0.219309      0.339465    -0.559228  \n",
       "2    -0.219309      0.339465    -0.559228  \n",
       "3    -0.219309      0.505915    -0.559228  \n",
       "4    -0.219309      0.505915    -0.559228  \n",
       "\n",
       "[5 rows x 40 columns]"
      ]
     },
     "execution_count": 5,
     "metadata": {},
     "output_type": "execute_result"
    }
   ],
   "source": [
    "def normalise_data(data):\n",
    "    normalised_data = data.apply(zscore)\n",
    "    return normalised_data\n",
    "normalised_data = normalise_data(data)\n",
    "normalised_data.head()"
   ]
  },
  {
   "cell_type": "code",
   "execution_count": 6,
   "metadata": {
    "pycharm": {
     "name": "#%%\n"
    }
   },
   "outputs": [],
   "source": [
    "# smoothed labelling of the midprice/ K is the prediction horizon\n",
    "def smooth_midprice_using_k_lookahead(normalised_data, k):\n",
    "    normalised_data['midprice'] = (normalised_data.ask_price_1+normalised_data.bid_price_1)/2\n",
    "    # mean of previous k mid-prices\n",
    "    normalised_data['m_minus'] = normalised_data['midprice'].rolling(window=k).mean()\n",
    "    # mean of next k mid-prices\n",
    "    normalised_data['m_plus'] = normalised_data['midprice'][::-1].rolling(window=k).mean()[::-1]\n",
    "    return normalised_data\n",
    "normalised_data = smooth_midprice_using_k_lookahead(normalised_data, k=K)"
   ]
  },
  {
   "cell_type": "code",
   "execution_count": 7,
   "metadata": {
    "pycharm": {
     "name": "#%%\n"
    }
   },
   "outputs": [],
   "source": [
    "# label the smoothed mid-prices based on a threshold/ ALPHA is the threshold \n",
    "def create_midprice_labels(normalised_data):\n",
    "    normalised_data['change'] = (normalised_data.m_plus - normalised_data.m_minus)/normalised_data.m_minus\n",
    "    # assign categories up, down, stationary\n",
    "    normalised_data['label'] = pd.cut(normalised_data.change, bins=[-np.inf, -ALPHA, ALPHA, np.inf], \n",
    "                                    labels=['down', 'stationary', 'up'])\n",
    "    # drop all unlabelled values (will be first and last k values as they have no m_minus/m_plus value)\n",
    "    normalised_data.dropna(inplace=True)\n",
    "    return normalised_data\n",
    "normalised_data = create_midprice_labels(normalised_data)"
   ]
  },
  {
   "cell_type": "code",
   "execution_count": 8,
   "metadata": {
    "pycharm": {
     "name": "#%%\n"
    }
   },
   "outputs": [
    {
     "name": "stdout",
     "output_type": "stream",
     "text": [
      "Training input shape: (23017, 100, 40, 1)\n",
      "Test input shape: (7673, 100, 40, 1)\n",
      "Training output shape: (23017, 3)\n",
      "Test input shape: (7673, 3)\n"
     ]
    }
   ],
   "source": [
    "# split into train and test data\n",
    "N = len(normalised_data) - len(normalised_data)%100\n",
    "def reshape_and_categorise_data(normalised_data, n):\n",
    "    data = normalised_data[:n]\n",
    "    cols = data.columns.to_list()[:40]\n",
    "    input_data = data[cols]\n",
    "    input_array = input_data.to_numpy().reshape(n//100,100,40,1)\n",
    "\n",
    "    output_data = data.label.to_numpy()[::-100][::-1]\n",
    "    integer_encoded = output_data.reshape(len(output_data), 1)\n",
    "    output_array = onehot_encoder.fit_transform(integer_encoded)\n",
    "    X_train, X_test, y_train, y_test = train_test_split(input_array, output_array, shuffle=False)\n",
    "    return X_train, X_test, y_train, y_test\n",
    "X_train, X_test, y_train, y_test = reshape_and_categorise_data(normalised_data, N)\n",
    "print(\"Training input shape:\",X_train.shape)\n",
    "print(\"Test input shape:\", X_test.shape)\n",
    "print(\"Training output shape:\", y_train.shape)\n",
    "print(\"Test input shape:\", y_test.shape)"
   ]
  },
  {
   "cell_type": "code",
   "execution_count": 9,
   "metadata": {
    "pycharm": {
     "name": "#%%\n"
    }
   },
   "outputs": [
    {
     "name": "stdout",
     "output_type": "stream",
     "text": [
      "[['down']\n",
      " ['up']\n",
      " ['stationary']]\n"
     ]
    }
   ],
   "source": [
    "# mapping of labels to one hot encoding\n",
    "print(onehot_encoder.inverse_transform([[1,0,0],[0,0,1],[0,1,0]]))\n",
    "# Using np.argmax equates: 0-down, 1-stationary, 2-up"
   ]
  },
  {
   "cell_type": "markdown",
   "metadata": {
    "pycharm": {
     "name": "#%% md\n"
    }
   },
   "source": [
    "### Build and compile the model"
   ]
  },
  {
   "cell_type": "code",
   "execution_count": 10,
   "metadata": {
    "pycharm": {
     "name": "#%%\n"
    }
   },
   "outputs": [
    {
     "name": "stdout",
     "output_type": "stream",
     "text": [
      "WARNING:tensorflow:From /Users/tanvipotdar/pyenvs/lob/lib/python3.7/site-packages/tensorflow/python/ops/resource_variable_ops.py:435: colocate_with (from tensorflow.python.framework.ops) is deprecated and will be removed in a future version.\n",
      "Instructions for updating:\n",
      "Colocations handled automatically by placer.\n",
      "_________________________________________________________________\n",
      "Layer (type)                 Output Shape              Param #   \n",
      "=================================================================\n",
      "conv2d (Conv2D)              (None, 100, 20, 16)       48        \n",
      "_________________________________________________________________\n",
      "leaky_re_lu (LeakyReLU)      (None, 100, 20, 16)       0         \n",
      "_________________________________________________________________\n",
      "conv2d_1 (Conv2D)            (None, 97, 20, 16)        1040      \n",
      "_________________________________________________________________\n",
      "conv2d_2 (Conv2D)            (None, 94, 20, 16)        1040      \n",
      "_________________________________________________________________\n",
      "conv2d_3 (Conv2D)            (None, 94, 10, 16)        528       \n",
      "_________________________________________________________________\n",
      "leaky_re_lu_1 (LeakyReLU)    (None, 94, 10, 16)        0         \n",
      "_________________________________________________________________\n",
      "conv2d_4 (Conv2D)            (None, 91, 10, 16)        1040      \n",
      "_________________________________________________________________\n",
      "conv2d_5 (Conv2D)            (None, 88, 10, 16)        1040      \n",
      "_________________________________________________________________\n",
      "conv2d_6 (Conv2D)            (None, 88, 1, 16)         2576      \n",
      "_________________________________________________________________\n",
      "conv2d_7 (Conv2D)            (None, 85, 1, 32)         2080      \n",
      "_________________________________________________________________\n",
      "conv2d_8 (Conv2D)            (None, 82, 1, 32)         4128      \n",
      "_________________________________________________________________\n",
      "max_pooling2d (MaxPooling2D) (None, 27, 1, 32)         0         \n",
      "_________________________________________________________________\n",
      "time_distributed (TimeDistri (None, 27, 32)            0         \n",
      "_________________________________________________________________\n",
      "simple_rnn (SimpleRNN)       (None, 100)               13300     \n",
      "_________________________________________________________________\n",
      "dense (Dense)                (None, 3)                 303       \n",
      "=================================================================\n",
      "Total params: 27,123\n",
      "Trainable params: 27,123\n",
      "Non-trainable params: 0\n",
      "_________________________________________________________________\n"
     ]
    }
   ],
   "source": [
    "def create_model():\n",
    "    # convolutional layers\n",
    "    model = keras.Sequential()\n",
    "    model.add(keras.layers.Conv2D(filters=16, kernel_size=(1,2), input_shape=(100,40,1), strides=(1, 2)))\n",
    "    model.add(keras.layers.LeakyReLU(alpha=0.01))\n",
    "    model.add(keras.layers.Conv2D(filters=16, kernel_size=(4,1)))\n",
    "    model.add(keras.layers.Conv2D(filters=16, kernel_size=(4,1)))\n",
    "    model.add(keras.layers.Conv2D(filters=16, kernel_size=(1,2), strides=(1, 2)))\n",
    "    model.add(keras.layers.LeakyReLU(alpha=0.01))\n",
    "    model.add(keras.layers.Conv2D(filters=16, kernel_size=(4,1)))\n",
    "    model.add(keras.layers.Conv2D(filters=16, kernel_size=(4,1)))\n",
    "    model.add(keras.layers.Conv2D(filters=16, kernel_size=(1,10), input_shape=(100,10,1)))\n",
    "    model.add(keras.layers.Conv2D(filters=32, kernel_size=(4,1)))\n",
    "    model.add(keras.layers.Conv2D(filters=32, kernel_size=(4,1)))\n",
    "    model.add(keras.layers.MaxPooling2D(pool_size=(3,1)))\n",
    "    model.add(keras.layers.TimeDistributed(keras.layers.Flatten()))\n",
    "\n",
    "    # lstm layer\n",
    "    model.add(keras.layers.SimpleRNN(100))\n",
    "    model.add(keras.layers.Dense(3,activation='softmax'))\n",
    "    # compile model and summarize\n",
    "    adam = keras.optimizers.Adam(lr=LEARNING_RATE, epsilon=1)\n",
    "    model.compile(optimizer=adam, loss='categorical_crossentropy', metrics=['accuracy'])\n",
    "    model.summary()\n",
    "    return model\n",
    "model = create_model()"
   ]
  },
  {
   "cell_type": "code",
   "execution_count": 11,
   "metadata": {
    "pycharm": {
     "name": "#%%\n"
    }
   },
   "outputs": [
    {
     "name": "stdout",
     "output_type": "stream",
     "text": [
      "Train on 18413 samples, validate on 4604 samples\n",
      "WARNING:tensorflow:From /Users/tanvipotdar/pyenvs/lob/lib/python3.7/site-packages/tensorflow/python/ops/math_ops.py:3066: to_int32 (from tensorflow.python.ops.math_ops) is deprecated and will be removed in a future version.\n",
      "Instructions for updating:\n",
      "Use tf.cast instead.\n",
      "Epoch 1/20\n",
      "18413/18413 [==============================] - 69s 4ms/sample - loss: 1.0167 - acc: 0.5252 - val_loss: 1.1311 - val_acc: 0.2937\n",
      "Epoch 2/20\n",
      "18413/18413 [==============================] - 70s 4ms/sample - loss: 0.9448 - acc: 0.5722 - val_loss: 1.4125 - val_acc: 0.2174\n",
      "Epoch 3/20\n",
      "18413/18413 [==============================] - 72s 4ms/sample - loss: 0.9077 - acc: 0.5744 - val_loss: 1.4456 - val_acc: 0.2018\n",
      "Epoch 4/20\n",
      "18413/18413 [==============================] - 68s 4ms/sample - loss: 0.8841 - acc: 0.5908 - val_loss: 1.3052 - val_acc: 0.2813\n",
      "Epoch 5/20\n",
      "18413/18413 [==============================] - 67s 4ms/sample - loss: 0.8640 - acc: 0.6043 - val_loss: 1.4194 - val_acc: 0.2398\n",
      "Epoch 6/20\n",
      "18413/18413 [==============================] - 59s 3ms/sample - loss: 0.8467 - acc: 0.6210 - val_loss: 1.4015 - val_acc: 0.2370\n",
      "Epoch 7/20\n",
      "18413/18413 [==============================] - 41s 2ms/sample - loss: 0.8320 - acc: 0.6306 - val_loss: 1.2015 - val_acc: 0.3458\n",
      "Epoch 8/20\n",
      "18413/18413 [==============================] - 42s 2ms/sample - loss: 0.8116 - acc: 0.6461 - val_loss: 1.1794 - val_acc: 0.3642\n",
      "Epoch 9/20\n",
      "18413/18413 [==============================] - 42s 2ms/sample - loss: 0.7878 - acc: 0.6602 - val_loss: 1.0225 - val_acc: 0.5697\n",
      "Epoch 10/20\n",
      "18413/18413 [==============================] - 43s 2ms/sample - loss: 0.7607 - acc: 0.6749 - val_loss: 1.1199 - val_acc: 0.4611\n",
      "Epoch 11/20\n",
      "18413/18413 [==============================] - 43s 2ms/sample - loss: 0.7325 - acc: 0.6938 - val_loss: 1.0645 - val_acc: 0.5502\n",
      "Epoch 12/20\n",
      "18413/18413 [==============================] - 42s 2ms/sample - loss: 0.7091 - acc: 0.7072 - val_loss: 1.0555 - val_acc: 0.5771\n",
      "Epoch 13/20\n",
      "18413/18413 [==============================] - 42s 2ms/sample - loss: 0.6926 - acc: 0.7117 - val_loss: 1.1450 - val_acc: 0.5851\n",
      "Epoch 14/20\n",
      "18413/18413 [==============================] - 42s 2ms/sample - loss: 0.6729 - acc: 0.7226 - val_loss: 1.1062 - val_acc: 0.5921\n",
      "Epoch 15/20\n",
      "18413/18413 [==============================] - 42s 2ms/sample - loss: 0.6572 - acc: 0.7271 - val_loss: 1.1655 - val_acc: 0.5914\n",
      "Epoch 16/20\n",
      "18413/18413 [==============================] - 41s 2ms/sample - loss: 0.6493 - acc: 0.7310 - val_loss: 1.2255 - val_acc: 0.5387\n",
      "Epoch 17/20\n",
      "18413/18413 [==============================] - 43s 2ms/sample - loss: 0.6460 - acc: 0.7304 - val_loss: 1.2016 - val_acc: 0.5495\n",
      "Epoch 18/20\n",
      "18413/18413 [==============================] - 42s 2ms/sample - loss: 0.6301 - acc: 0.7392 - val_loss: 1.1669 - val_acc: 0.5626\n",
      "Epoch 19/20\n",
      "18413/18413 [==============================] - 43s 2ms/sample - loss: 0.6264 - acc: 0.7382 - val_loss: 1.1950 - val_acc: 0.5719\n",
      "Epoch 20/20\n",
      "18413/18413 [==============================] - 43s 2ms/sample - loss: 0.6141 - acc: 0.7457 - val_loss: 1.2428 - val_acc: 0.5441\n",
      "7673/7673 [==============================] - 6s 773us/sample - loss: 1.2875 - acc: 0.5188\n",
      "Accuracy is 51.8832266330719%\n"
     ]
    }
   ],
   "source": [
    "def fit_and_evaluate_model(model, X_train, X_test, y_train, y_test):\n",
    "    history = model.fit(X_train, y_train, epochs=EPOCHS, batch_size=BATCH_SIZE, validation_split=VALIDATION_SPLIT)\n",
    "    score, accuracy = model.evaluate(X_test, y_test, batch_size=BATCH_SIZE)\n",
    "    print(\"Accuracy is {}%\".format(accuracy*100))\n",
    "    return accuracy*100, history\n",
    "accuracy, history = fit_and_evaluate_model(model, X_train, X_test, y_train, y_test)"
   ]
  },
  {
   "cell_type": "code",
   "execution_count": 12,
   "metadata": {
    "pycharm": {
     "name": "#%%\n"
    }
   },
   "outputs": [
    {
     "data": {
      "image/png": "[encoded data removed]",
      "text/plain": [
       "<Figure size 1080x720 with 2 Axes>"
      ]
     },
     "metadata": {
      "needs_background": "light"
     },
     "output_type": "display_data"
    }
   ],
   "source": [
    "def plots(history):\n",
    "    plt.figure(figsize=(15,10))\n",
    "    plt.subplot(2,1,1)\n",
    "    plt.plot(history.history['loss'],'b--',lw=2,label='train_loss')\n",
    "    plt.plot(history.history['val_loss'],'g-',lw=2,label='val_loss')\n",
    "    plt.legend()\n",
    "    # plt.ylim([.5,1.3])\n",
    "    plt.xlabel('Number of epochs')\n",
    "    plt.ylabel('Loss')\n",
    "    plt.subplot(2,1,2)\n",
    "    plt.plot(history.history['acc'],'b--',lw=2,label='train_acc')\n",
    "    plt.plot(history.history['val_acc'],'g-',lw=2,label='val_acc')\n",
    "    plt.legend()\n",
    "    # plt.ylim([.2,1.0])\n",
    "    plt.xlabel('Number of epochs')\n",
    "    plt.ylabel('Accuracy')\n",
    "    plt.show()\n",
    "plots(history)"
   ]
  },
  {
   "cell_type": "markdown",
   "metadata": {
    "pycharm": {
     "name": "#%% md\n"
    }
   },
   "source": [
    "### Evaluate performance"
   ]
  },
  {
   "cell_type": "code",
   "execution_count": 13,
   "metadata": {
    "pycharm": {
     "name": "#%%\n"
    }
   },
   "outputs": [
    {
     "name": "stdout",
     "output_type": "stream",
     "text": [
      "              precision    recall  f1-score   support\n",
      "\n",
      "        down       0.01      0.04      0.02       502\n",
      "  stationary       0.85      0.72      0.78      5294\n",
      "          up       0.09      0.08      0.09      1877\n",
      "\n",
      "   micro avg       0.52      0.52      0.52      7673\n",
      "   macro avg       0.32      0.28      0.30      7673\n",
      "weighted avg       0.61      0.52      0.56      7673\n",
      "\n",
      "[[  20  412 1080]\n",
      " [  25 3804  640]\n",
      " [ 457 1078  157]]\n"
     ]
    }
   ],
   "source": [
    "def get_report(model, X_test, y_test, X_train, y_train):\n",
    "    target_names = ['down', 'stationary', 'up']\n",
    "    y_pred = model.predict(X_test)\n",
    "    y_pred_bool = np.argmax(y_pred, axis=1)\n",
    "    y_test_bool = np.argmax(y_test, axis=1)\n",
    "    print(classification_report(y_pred_bool, y_test_bool, target_names=target_names))\n",
    "    print(confusion_matrix(y_test_bool, y_pred_bool, labels=[0,1,2]))\n",
    "get_report(model, X_test, y_test, X_train, y_train)"
   ]
  },
  {
   "cell_type": "code",
   "execution_count": null,
   "metadata": {
    "pycharm": {
     "name": "#%%\n"
    }
   },
   "outputs": [],
   "source": []
  }
 ],
 "metadata": {
  "kernelspec": {
   "display_name": "Python 3",
   "language": "python",
   "name": "python3"
  }
 },
 "nbformat": 4,
 "nbformat_minor": 2
}