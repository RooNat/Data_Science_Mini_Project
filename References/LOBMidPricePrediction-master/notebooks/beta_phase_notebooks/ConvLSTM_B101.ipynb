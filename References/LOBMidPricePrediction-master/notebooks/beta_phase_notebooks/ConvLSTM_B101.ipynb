{
 "cells": [
  {
   "cell_type": "code",
   "execution_count": 1,
   "metadata": {
    "colab": {
     "base_uri": "https://localhost:8080/",
     "height": 122
    },
    "colab_type": "code",
    "id": "SSIXGC39y2jy",
    "outputId": "9cf68ee3-3e11-4b3d-cb64-dbb17433df6d",
    "pycharm": {
     "name": "#%%\n"
    }
   },
   "outputs": [],
   "source": [
    "# from google.colab import drive\n",
    "# drive.mount('/content/gdrive',force_remount=True)"
   ]
  },
  {
   "cell_type": "code",
   "execution_count": 2,
   "metadata": {
    "colab": {},
    "colab_type": "code",
    "id": "bG6d00YGy47T",
    "pycharm": {
     "name": "#%%\n"
    }
   },
   "outputs": [],
   "source": [
    "# !unzip -q \"/content/gdrive/My Drive/INTC_2015-01-01_2015-01-31_10.zip\" -d \"/content/gdrive/My Drive/thesis/data/\""
   ]
  },
  {
   "cell_type": "code",
   "execution_count": 3,
   "metadata": {
    "colab": {},
    "colab_type": "code",
    "id": "0vB-CUZLyusS",
    "pycharm": {
     "name": "#%%\n"
    }
   },
   "outputs": [
    {
     "name": "stderr",
     "output_type": "stream",
     "text": [
      "/Users/tanvi/pyenvs/lob/lib/python3.7/site-packages/tensorflow/python/framework/dtypes.py:516: FutureWarning: Passing (type, 1) or '1type' as a synonym of type is deprecated; in a future version of numpy, it will be understood as (type, (1,)) / '(1,)type'.\n",
      "  _np_qint8 = np.dtype([(\"qint8\", np.int8, 1)])\n",
      "/Users/tanvi/pyenvs/lob/lib/python3.7/site-packages/tensorflow/python/framework/dtypes.py:517: FutureWarning: Passing (type, 1) or '1type' as a synonym of type is deprecated; in a future version of numpy, it will be understood as (type, (1,)) / '(1,)type'.\n",
      "  _np_quint8 = np.dtype([(\"quint8\", np.uint8, 1)])\n",
      "/Users/tanvi/pyenvs/lob/lib/python3.7/site-packages/tensorflow/python/framework/dtypes.py:518: FutureWarning: Passing (type, 1) or '1type' as a synonym of type is deprecated; in a future version of numpy, it will be understood as (type, (1,)) / '(1,)type'.\n",
      "  _np_qint16 = np.dtype([(\"qint16\", np.int16, 1)])\n",
      "/Users/tanvi/pyenvs/lob/lib/python3.7/site-packages/tensorflow/python/framework/dtypes.py:519: FutureWarning: Passing (type, 1) or '1type' as a synonym of type is deprecated; in a future version of numpy, it will be understood as (type, (1,)) / '(1,)type'.\n",
      "  _np_quint16 = np.dtype([(\"quint16\", np.uint16, 1)])\n",
      "/Users/tanvi/pyenvs/lob/lib/python3.7/site-packages/tensorflow/python/framework/dtypes.py:520: FutureWarning: Passing (type, 1) or '1type' as a synonym of type is deprecated; in a future version of numpy, it will be understood as (type, (1,)) / '(1,)type'.\n",
      "  _np_qint32 = np.dtype([(\"qint32\", np.int32, 1)])\n",
      "/Users/tanvi/pyenvs/lob/lib/python3.7/site-packages/tensorflow/python/framework/dtypes.py:525: FutureWarning: Passing (type, 1) or '1type' as a synonym of type is deprecated; in a future version of numpy, it will be understood as (type, (1,)) / '(1,)type'.\n",
      "  np_resource = np.dtype([(\"resource\", np.ubyte, 1)])\n",
      "/Users/tanvi/pyenvs/lob/lib/python3.7/site-packages/tensorboard/compat/tensorflow_stub/dtypes.py:541: FutureWarning: Passing (type, 1) or '1type' as a synonym of type is deprecated; in a future version of numpy, it will be understood as (type, (1,)) / '(1,)type'.\n",
      "  _np_qint8 = np.dtype([(\"qint8\", np.int8, 1)])\n",
      "/Users/tanvi/pyenvs/lob/lib/python3.7/site-packages/tensorboard/compat/tensorflow_stub/dtypes.py:542: FutureWarning: Passing (type, 1) or '1type' as a synonym of type is deprecated; in a future version of numpy, it will be understood as (type, (1,)) / '(1,)type'.\n",
      "  _np_quint8 = np.dtype([(\"quint8\", np.uint8, 1)])\n",
      "/Users/tanvi/pyenvs/lob/lib/python3.7/site-packages/tensorboard/compat/tensorflow_stub/dtypes.py:543: FutureWarning: Passing (type, 1) or '1type' as a synonym of type is deprecated; in a future version of numpy, it will be understood as (type, (1,)) / '(1,)type'.\n",
      "  _np_qint16 = np.dtype([(\"qint16\", np.int16, 1)])\n",
      "/Users/tanvi/pyenvs/lob/lib/python3.7/site-packages/tensorboard/compat/tensorflow_stub/dtypes.py:544: FutureWarning: Passing (type, 1) or '1type' as a synonym of type is deprecated; in a future version of numpy, it will be understood as (type, (1,)) / '(1,)type'.\n",
      "  _np_quint16 = np.dtype([(\"quint16\", np.uint16, 1)])\n",
      "/Users/tanvi/pyenvs/lob/lib/python3.7/site-packages/tensorboard/compat/tensorflow_stub/dtypes.py:545: FutureWarning: Passing (type, 1) or '1type' as a synonym of type is deprecated; in a future version of numpy, it will be understood as (type, (1,)) / '(1,)type'.\n",
      "  _np_qint32 = np.dtype([(\"qint32\", np.int32, 1)])\n",
      "/Users/tanvi/pyenvs/lob/lib/python3.7/site-packages/tensorboard/compat/tensorflow_stub/dtypes.py:550: FutureWarning: Passing (type, 1) or '1type' as a synonym of type is deprecated; in a future version of numpy, it will be understood as (type, (1,)) / '(1,)type'.\n",
      "  np_resource = np.dtype([(\"resource\", np.ubyte, 1)])\n"
     ]
    }
   ],
   "source": [
    "import glob\n",
    "import json\n",
    "import os\n",
    "import numpy as np\n",
    "import pandas as pd\n",
    "from matplotlib import pyplot as plt\n",
    "from sklearn.model_selection import train_test_split\n",
    "from sklearn.metrics import classification_report, confusion_matrix\n",
    "from sklearn.preprocessing import OneHotEncoder\n",
    "from scipy.stats import zscore\n",
    "from tensorflow import keras"
   ]
  },
  {
   "cell_type": "code",
   "execution_count": 4,
   "metadata": {
    "colab": {},
    "colab_type": "code",
    "id": "_rSSZgMryusV",
    "pycharm": {
     "name": "#%%\n"
    }
   },
   "outputs": [],
   "source": [
    "# Constants\n",
    "# batch size for model\n",
    "BATCH_SIZE = 128\n",
    "\n",
    "# number of epochs\n",
    "EPOCHS = 100\n",
    "\n",
    "# learning rate and epsilon for ADAM optimizer\n",
    "LEARNING_RATE = 0.01\n",
    "EPSILON = 1\n",
    "\n",
    "# path where data is stored\n",
    "stock = \"INTC\"\n",
    "STOCK_PATH = \"{}_2015-01-01_2015-01-31_10\".format(stock)\n",
    "DATA_PATH = \"/Users/tanvi/projects/thesis/data/\"\n",
    "PATH = DATA_PATH+STOCK_PATH\n",
    "\n",
    "# bool flag to decide if data needs to be written\n",
    "write_data = True"
   ]
  },
  {
   "cell_type": "code",
   "execution_count": 5,
   "metadata": {
    "colab": {},
    "colab_type": "code",
    "id": "ad8sQTsGy-Qq",
    "pycharm": {
     "name": "#%%\n"
    }
   },
   "outputs": [],
   "source": [
    "# Static objects\n",
    "# instantiate one hot encoder here so that all classes will always map to the same labels\n",
    "onehot_encoder = OneHotEncoder(sparse=False)\n",
    "\n",
    "# column names\n",
    "levels = 10\n",
    "nums = map(str, range(1,levels+1))\n",
    "col_names = [y + x for x in nums for y in ['ask_price_', 'ask_size_', 'bid_price_', 'bid_size_']]\n",
    "\n",
    "# first 10 days are used to train, 6 for val and 4 for test (TSLA and INTC each have 20 working days of data)\n",
    "days = list(range(20))\n",
    "train_days = days[:10]\n",
    "val_days = days[10:16]\n",
    "test_days = days[16:20]"
   ]
  },
  {
   "cell_type": "markdown",
   "metadata": {
    "colab_type": "text",
    "id": "SG_Th8XxyusX",
    "pycharm": {
     "name": "#%% md\n"
    }
   },
   "source": [
    "## Preprocess the data"
   ]
  },
  {
   "cell_type": "code",
   "execution_count": 6,
   "metadata": {
    "colab": {
     "base_uri": "https://localhost:8080/",
     "height": 34
    },
    "colab_type": "code",
    "id": "MxYB43N-yusY",
    "outputId": "a961f318-987f-4aba-cddc-976099486104",
    "scrolled": true,
    "pycharm": {
     "name": "#%%\n"
    }
   },
   "outputs": [
    {
     "name": "stdout",
     "output_type": "stream",
     "text": [
      "Number of files: 20\n"
     ]
    }
   ],
   "source": [
    "all_files = glob.glob(PATH + \"/*orderbook_10.csv\")\n",
    "all_files.sort()\n",
    "print(\"Number of files:\",len(all_files))\n",
    "\n",
    "def read_data(days, data_type):\n",
    "    dfs = []\n",
    "    print(\"Reading {}\".format(data_type))\n",
    "    for filename in [all_files[i] for i in days]:\n",
    "        df = pd.read_csv(filename, index_col=None, header=None, names=col_names)\n",
    "        dfs.append(df)\n",
    "    data = pd.concat(dfs, axis=0, ignore_index=True)\n",
    "    return data"
   ]
  },
  {
   "cell_type": "code",
   "execution_count": 7,
   "metadata": {
    "pycharm": {
     "name": "#%%\n"
    }
   },
   "outputs": [],
   "source": [
    "def filter_data(data):\n",
    "    # filter out all data points where the midprice remains unchanged\n",
    "    normalised_data = data.apply(zscore)\n",
    "    normalised_data['midprice'] = (normalised_data.ask_price_1+normalised_data.bid_price_1)/2\n",
    "    normalised_data['change'] = normalised_data.midprice - normalised_data.midprice.shift()\n",
    "    filtered_data = normalised_data[normalised_data.change!=0]\n",
    "    filtered_data['label'] = np.where(filtered_data.change > 0, 'up', 'down')\n",
    "    return filtered_data"
   ]
  },
  {
   "cell_type": "code",
   "execution_count": 8,
   "metadata": {
    "colab": {},
    "colab_type": "code",
    "id": "fNWgFAtlyusd",
    "pycharm": {
     "name": "#%%\n"
    }
   },
   "outputs": [],
   "source": [
    "def reshape_and_categorise_data(data):    \n",
    "    # reshape input data into the shape of (batches, 1, 40, 1) as one input has 100 timesteps with 40 features\n",
    "    input_data = data[col_names]\n",
    "    input_array = input_data.to_numpy().reshape(len(input_data), 1, 40, 1)\n",
    "    output_data = data.label.to_numpy()\n",
    "    # encode labels to vectors\n",
    "    integer_encoded = output_data.reshape(len(output_data), 1)\n",
    "    output_array = onehot_encoder.fit_transform(integer_encoded)\n",
    "    return input_array, output_array"
   ]
  },
  {
   "cell_type": "code",
   "execution_count": 9,
   "metadata": {
    "colab": {},
    "colab_type": "code",
    "id": "5Sp8FHlryusf",
    "pycharm": {
     "name": "#%%\n"
    }
   },
   "outputs": [],
   "source": [
    "# data normalisation, smoothing and labelling\n",
    "def preprocess_data(data, data_type):\n",
    "    data = filter_data(data)\n",
    "    X, y = reshape_and_categorise_data(data)\n",
    "    print(\"{} input shape:\".format(data_type), X.shape)\n",
    "    print(\"{} output shape:\".format(data_type), y.shape)\n",
    "    return X, y"
   ]
  },
  {
   "cell_type": "code",
   "execution_count": 10,
   "metadata": {
    "pycharm": {
     "name": "#%%\n"
    }
   },
   "outputs": [
    {
     "name": "stdout",
     "output_type": "stream",
     "text": [
      "Reading Training\n"
     ]
    },
    {
     "name": "stderr",
     "output_type": "stream",
     "text": [
      "/Users/tanvi/pyenvs/lob/lib/python3.7/site-packages/ipykernel_launcher.py:7: SettingWithCopyWarning: \n",
      "A value is trying to be set on a copy of a slice from a DataFrame.\n",
      "Try using .loc[row_indexer,col_indexer] = value instead\n",
      "\n",
      "See the caveats in the documentation: http://pandas.pydata.org/pandas-docs/stable/user_guide/indexing.html#returning-a-view-versus-a-copy\n",
      "  import sys\n"
     ]
    },
    {
     "name": "stdout",
     "output_type": "stream",
     "text": [
      "Training input shape: (98041, 1, 40, 1)\n",
      "Training output shape: (98041, 2)\n"
     ]
    }
   ],
   "source": [
    "train_data = read_data(train_days, data_type=\"Training\")\n",
    "test_data = read_data(test_days, data_type=\"Validation\")\n",
    "val_data = read_data(val_days, data_type=\"Test\")\n",
    "\n",
    "X_train, y_train = preprocess_data(train_data, data_type=\"Training\")\n",
    "X_val, y_val = preprocess_data(val_data, data_type=\"Validation\")\n",
    "X_test, y_test = preprocess_data(test_data, data_type=\"Test\")"
   ]
  },
  {
   "cell_type": "code",
   "execution_count": 56,
   "metadata": {
    "colab": {
     "base_uri": "https://localhost:8080/",
     "height": 392
    },
    "colab_type": "code",
    "id": "5JljaJ0Ryush",
    "outputId": "24d37417-43f2-4b5b-df23-aadbe43f7870",
    "pycharm": {
     "name": "#%%\n"
    }
   },
   "outputs": [
    {
     "name": "stdout",
     "output_type": "stream",
     "text": [
      "Reading Training\n",
      "Reading Validation\n",
      "Reading Test\n"
     ]
    },
    {
     "name": "stderr",
     "output_type": "stream",
     "text": [
      "/Users/tanvi/pyenvs/lob/lib/python3.7/site-packages/ipykernel_launcher.py:7: SettingWithCopyWarning: \n",
      "A value is trying to be set on a copy of a slice from a DataFrame.\n",
      "Try using .loc[row_indexer,col_indexer] = value instead\n",
      "\n",
      "See the caveats in the documentation: http://pandas.pydata.org/pandas-docs/stable/user_guide/indexing.html#returning-a-view-versus-a-copy\n",
      "  import sys\n"
     ]
    },
    {
     "name": "stdout",
     "output_type": "stream",
     "text": [
      "Training input shape: (98041, 1, 40, 1)\n",
      "Training output shape: (98041, 2)\n"
     ]
    },
    {
     "ename": "TypeError",
     "evalue": "preprocess_data() got an unexpected keyword argument 'k'",
     "output_type": "error",
     "traceback": [
      "\u001B[0;31m---------------------------------------------------------------------------\u001B[0m",
      "\u001B[0;31mTypeError\u001B[0m                                 Traceback (most recent call last)",
      "\u001B[0;32m<ipython-input-56-7d7ed9d53796>\u001B[0m in \u001B[0;36m<module>\u001B[0;34m\u001B[0m\n\u001B[1;32m      5\u001B[0m \u001B[0;34m\u001B[0m\u001B[0m\n\u001B[1;32m      6\u001B[0m \u001B[0mX_train\u001B[0m\u001B[0;34m,\u001B[0m \u001B[0my_train\u001B[0m \u001B[0;34m=\u001B[0m \u001B[0mpreprocess_data\u001B[0m\u001B[0;34m(\u001B[0m\u001B[0mtrain_data\u001B[0m\u001B[0;34m,\u001B[0m \u001B[0mdata_type\u001B[0m\u001B[0;34m=\u001B[0m\u001B[0;34m\"Training\"\u001B[0m\u001B[0;34m)\u001B[0m\u001B[0;34m\u001B[0m\u001B[0;34m\u001B[0m\u001B[0m\n\u001B[0;32m----> 7\u001B[0;31m \u001B[0mX_val\u001B[0m\u001B[0;34m,\u001B[0m \u001B[0my_val\u001B[0m \u001B[0;34m=\u001B[0m \u001B[0mpreprocess_data\u001B[0m\u001B[0;34m(\u001B[0m\u001B[0mval_data\u001B[0m\u001B[0;34m,\u001B[0m \u001B[0mk\u001B[0m\u001B[0;34m=\u001B[0m\u001B[0mK\u001B[0m\u001B[0;34m,\u001B[0m \u001B[0mdata_type\u001B[0m\u001B[0;34m=\u001B[0m\u001B[0;34m\"Validation\"\u001B[0m\u001B[0;34m)\u001B[0m\u001B[0;34m\u001B[0m\u001B[0;34m\u001B[0m\u001B[0m\n\u001B[0m\u001B[1;32m      8\u001B[0m \u001B[0mX_test\u001B[0m\u001B[0;34m,\u001B[0m \u001B[0my_test\u001B[0m \u001B[0;34m=\u001B[0m \u001B[0mpreprocess_data\u001B[0m\u001B[0;34m(\u001B[0m\u001B[0mtest_data\u001B[0m\u001B[0;34m,\u001B[0m \u001B[0mk\u001B[0m\u001B[0;34m=\u001B[0m\u001B[0mK\u001B[0m\u001B[0;34m,\u001B[0m \u001B[0mdata_type\u001B[0m\u001B[0;34m=\u001B[0m\u001B[0;34m\"Test\"\u001B[0m\u001B[0;34m)\u001B[0m\u001B[0;34m\u001B[0m\u001B[0;34m\u001B[0m\u001B[0m\n\u001B[1;32m      9\u001B[0m \u001B[0;34m\u001B[0m\u001B[0m\n",
      "\u001B[0;31mTypeError\u001B[0m: preprocess_data() got an unexpected keyword argument 'k'"
     ]
    }
   ],
   "source": [
    "train_data = read_data(train_days, data_type=\"Training\")\n",
    "test_data = read_data(test_days, data_type=\"Validation\")\n",
    "val_data = read_data(val_days, data_type=\"Test\")\n",
    "\n",
    "X_train, y_train = preprocess_data(train_data, data_type=\"Training\")\n",
    "X_val, y_val = preprocess_data(val_data, data_type=\"Validation\")\n",
    "X_test, y_test = preprocess_data(test_data, data_type=\"Test\")"
   ]
  },
  {
   "cell_type": "code",
   "execution_count": 62,
   "metadata": {
    "colab": {
     "base_uri": "https://localhost:8080/",
     "height": 34
    },
    "colab_type": "code",
    "id": "yesGART0yusj",
    "outputId": "557d3880-ed48-4439-f80b-cf929aab36cf",
    "pycharm": {
     "name": "#%%\n"
    }
   },
   "outputs": [
    {
     "data": {
      "text/plain": [
       "{'0': 'down', '1': 'up'}"
      ]
     },
     "execution_count": 62,
     "metadata": {},
     "output_type": "execute_result"
    }
   ],
   "source": [
    "encodings = [[1,0],[0,1]]\n",
    "mapping = {str(np.argmax(key)):onehot_encoder.inverse_transform([key]).tolist()[0][0] for key in encodings}\n",
    "mapping"
   ]
  },
  {
   "cell_type": "markdown",
   "metadata": {
    "colab_type": "text",
    "id": "lsT0x1iSyusl",
    "pycharm": {
     "name": "#%% md\n"
    }
   },
   "source": [
    "### Build and compile the model"
   ]
  },
  {
   "cell_type": "code",
   "execution_count": 45,
   "metadata": {
    "colab": {
     "base_uri": "https://localhost:8080/",
     "height": 731
    },
    "colab_type": "code",
    "id": "d36pis6myusm",
    "outputId": "7dc77c0a-5502-4e9f-8b50-4caf2af1d72e",
    "pycharm": {
     "name": "#%%\n"
    }
   },
   "outputs": [
    {
     "name": "stdout",
     "output_type": "stream",
     "text": [
      "WARNING:tensorflow:From /Users/tanvi/pyenvs/lob/lib/python3.7/site-packages/tensorflow/python/ops/init_ops.py:1251: calling VarianceScaling.__init__ (from tensorflow.python.ops.init_ops) with dtype is deprecated and will be removed in a future version.\n",
      "Instructions for updating:\n",
      "Call initializer instance with the dtype argument instead of passing it to the constructor\n",
      "Model: \"sequential\"\n",
      "_________________________________________________________________\n",
      "Layer (type)                 Output Shape              Param #   \n",
      "=================================================================\n",
      "conv2d (Conv2D)              (None, 1, 20, 16)         48        \n",
      "_________________________________________________________________\n",
      "leaky_re_lu (LeakyReLU)      (None, 1, 20, 16)         0         \n",
      "_________________________________________________________________\n",
      "conv2d_1 (Conv2D)            (None, 1, 20, 16)         272       \n",
      "_________________________________________________________________\n",
      "conv2d_2 (Conv2D)            (None, 1, 20, 16)         272       \n",
      "_________________________________________________________________\n",
      "conv2d_3 (Conv2D)            (None, 1, 10, 16)         528       \n",
      "_________________________________________________________________\n",
      "leaky_re_lu_1 (LeakyReLU)    (None, 1, 10, 16)         0         \n",
      "_________________________________________________________________\n",
      "conv2d_4 (Conv2D)            (None, 1, 10, 16)         272       \n",
      "_________________________________________________________________\n",
      "conv2d_5 (Conv2D)            (None, 1, 10, 16)         272       \n",
      "_________________________________________________________________\n",
      "conv2d_6 (Conv2D)            (None, 1, 1, 16)          2576      \n",
      "_________________________________________________________________\n",
      "leaky_re_lu_2 (LeakyReLU)    (None, 1, 1, 16)          0         \n",
      "_________________________________________________________________\n",
      "conv2d_7 (Conv2D)            (None, 1, 1, 16)          272       \n",
      "_________________________________________________________________\n",
      "conv2d_8 (Conv2D)            (None, 1, 1, 16)          272       \n",
      "_________________________________________________________________\n",
      "max_pooling2d (MaxPooling2D) (None, 1, 1, 16)          0         \n",
      "_________________________________________________________________\n",
      "time_distributed (TimeDistri (None, 1, 16)             0         \n",
      "_________________________________________________________________\n",
      "lstm (LSTM)                  (None, 100)               46800     \n",
      "_________________________________________________________________\n",
      "dropout (Dropout)            (None, 100)               0         \n",
      "_________________________________________________________________\n",
      "dense (Dense)                (None, 2)                 202       \n",
      "=================================================================\n",
      "Total params: 51,786\n",
      "Trainable params: 51,786\n",
      "Non-trainable params: 0\n",
      "_________________________________________________________________\n"
     ]
    }
   ],
   "source": [
    "def create_model():\n",
    "    # convolutional layers\n",
    "    model = keras.Sequential()\n",
    "    model.add(keras.layers.Conv2D(filters=16, kernel_size=(1,2), input_shape=(1,40,1), strides=(1, 2)))\n",
    "    model.add(keras.layers.LeakyReLU(alpha=0.01))\n",
    "    model.add(keras.layers.Conv2D(filters=16, kernel_size=(1,1)))\n",
    "    model.add(keras.layers.Conv2D(filters=16, kernel_size=(1,1)))\n",
    "    \n",
    "    model.add(keras.layers.Conv2D(filters=16, kernel_size=(1,2), strides=(1, 2)))\n",
    "    model.add(keras.layers.LeakyReLU(alpha=0.01))\n",
    "    model.add(keras.layers.Conv2D(filters=16, kernel_size=(1,1)))\n",
    "    model.add(keras.layers.Conv2D(filters=16, kernel_size=(1,1)))\n",
    "    \n",
    "    model.add(keras.layers.Conv2D(filters=16, kernel_size=(1,10), input_shape=(1,10,1)))\n",
    "    model.add(keras.layers.LeakyReLU(alpha=0.01))\n",
    "    model.add(keras.layers.Conv2D(filters=16, kernel_size=(1,1)))\n",
    "    model.add(keras.layers.Conv2D(filters=16, kernel_size=(1,1)))\n",
    "    \n",
    "    model.add(keras.layers.MaxPooling2D(pool_size=(1,1)))\n",
    "    model.add(keras.layers.TimeDistributed(keras.layers.Flatten()))\n",
    "\n",
    "    # lstm layer\n",
    "    model.add(keras.layers.LSTM(100,kernel_regularizer=keras.regularizers.l2(0.01),return_sequences=False))\n",
    "    model.add(keras.layers.Dropout(0.50))\n",
    "    model.add(keras.layers.Dense(2,activation='softmax'))\n",
    "\n",
    "    # compile model and summarize\n",
    "    adam = keras.optimizers.Adam(lr=LEARNING_RATE, epsilon=1)\n",
    "    model.compile(optimizer=adam, loss='binary_crossentropy', metrics=['accuracy'])\n",
    "    model.summary()\n",
    "    return model\n",
    "model = create_model()"
   ]
  },
  {
   "cell_type": "code",
   "execution_count": 0,
   "metadata": {
    "colab": {
     "base_uri": "https://localhost:8080/",
     "height": 1000
    },
    "colab_type": "code",
    "id": "jQ5i_7ssyuso",
    "outputId": "96d930a3-78d5-42de-bfd0-ee37ae87a931",
    "pycharm": {
     "name": "#%%\n"
    }
   },
   "outputs": [
    {
     "name": "stdout",
     "output_type": "stream",
     "text": [
      "Batch size:128, Prediction horizon(K):50, Learning Rate:0.01\n",
      "Train on 99456 samples, validate on 48626 samples\n",
      "Epoch 1/100\n",
      "99456/99456 [==============================] - 269s 3ms/sample - loss: 1.3201 - acc: 0.5246 - val_loss: 1.2855 - val_acc: 0.5062\n",
      "Epoch 2/100\n",
      "99456/99456 [==============================] - 269s 3ms/sample - loss: 1.2286 - acc: 0.5392 - val_loss: 1.1686 - val_acc: 0.5521\n",
      "Epoch 3/100\n",
      "99456/99456 [==============================] - 268s 3ms/sample - loss: 1.1583 - acc: 0.5502 - val_loss: 1.1059 - val_acc: 0.5544\n",
      "Epoch 4/100\n",
      "99456/99456 [==============================] - 268s 3ms/sample - loss: 1.0975 - acc: 0.5502 - val_loss: 1.0525 - val_acc: 0.5531\n",
      "Epoch 5/100\n",
      "99456/99456 [==============================] - 269s 3ms/sample - loss: 1.0463 - acc: 0.5501 - val_loss: 1.0146 - val_acc: 0.5539\n",
      "Epoch 6/100\n",
      "99456/99456 [==============================] - 269s 3ms/sample - loss: 1.0102 - acc: 0.5537 - val_loss: 0.9935 - val_acc: 0.5534\n",
      "Epoch 7/100\n",
      "99456/99456 [==============================] - 269s 3ms/sample - loss: 0.9823 - acc: 0.5577 - val_loss: 0.9645 - val_acc: 0.5582\n",
      "Epoch 8/100\n",
      "99456/99456 [==============================] - 268s 3ms/sample - loss: 0.9517 - acc: 0.5696 - val_loss: 0.9362 - val_acc: 0.5656\n",
      "Epoch 9/100\n",
      "99456/99456 [==============================] - 266s 3ms/sample - loss: 0.8843 - acc: 0.6103 - val_loss: 0.8453 - val_acc: 0.6183\n",
      "Epoch 10/100\n",
      "99456/99456 [==============================] - 268s 3ms/sample - loss: 0.8321 - acc: 0.6353 - val_loss: 0.8142 - val_acc: 0.6268\n",
      "Epoch 11/100\n",
      "99456/99456 [==============================] - 268s 3ms/sample - loss: 0.8082 - acc: 0.6419 - val_loss: 0.8585 - val_acc: 0.6039\n",
      "Epoch 12/100\n",
      "99456/99456 [==============================] - 269s 3ms/sample - loss: 0.7950 - acc: 0.6446 - val_loss: 0.8169 - val_acc: 0.6164\n",
      "Epoch 13/100\n",
      "99456/99456 [==============================] - 268s 3ms/sample - loss: 0.7849 - acc: 0.6471 - val_loss: 0.7889 - val_acc: 0.6296\n",
      "Epoch 14/100\n",
      "99456/99456 [==============================] - 269s 3ms/sample - loss: 0.7780 - acc: 0.6482 - val_loss: 0.7830 - val_acc: 0.6301\n",
      "Epoch 15/100\n",
      "99456/99456 [==============================] - 271s 3ms/sample - loss: 0.7736 - acc: 0.6500 - val_loss: 0.7854 - val_acc: 0.6298\n",
      "Epoch 16/100\n",
      "99456/99456 [==============================] - 268s 3ms/sample - loss: 0.7693 - acc: 0.6523 - val_loss: 0.8069 - val_acc: 0.6228\n",
      "Epoch 17/100\n",
      "99456/99456 [==============================] - 267s 3ms/sample - loss: 0.7660 - acc: 0.6525 - val_loss: 0.7732 - val_acc: 0.6328\n",
      "Epoch 18/100\n",
      "99456/99456 [==============================] - 266s 3ms/sample - loss: 0.7629 - acc: 0.6524 - val_loss: 0.7772 - val_acc: 0.6361\n",
      "Epoch 19/100\n",
      "99456/99456 [==============================] - 267s 3ms/sample - loss: 0.7592 - acc: 0.6544 - val_loss: 0.7799 - val_acc: 0.6336\n",
      "Epoch 20/100\n",
      "99456/99456 [==============================] - 266s 3ms/sample - loss: 0.7558 - acc: 0.6564 - val_loss: 0.7635 - val_acc: 0.6397\n",
      "Epoch 21/100\n",
      "99456/99456 [==============================] - 267s 3ms/sample - loss: 0.7550 - acc: 0.6573 - val_loss: 0.7631 - val_acc: 0.6388\n",
      "Epoch 22/100\n",
      "99456/99456 [==============================] - 268s 3ms/sample - loss: 0.7516 - acc: 0.6570 - val_loss: 0.7863 - val_acc: 0.6338\n",
      "Epoch 23/100\n",
      "99456/99456 [==============================] - 268s 3ms/sample - loss: 0.7485 - acc: 0.6596 - val_loss: 0.7655 - val_acc: 0.6412\n",
      "Epoch 24/100\n",
      "99456/99456 [==============================] - 268s 3ms/sample - loss: 0.7461 - acc: 0.6619 - val_loss: 0.7666 - val_acc: 0.6400\n",
      "Epoch 25/100\n",
      "99456/99456 [==============================] - 267s 3ms/sample - loss: 0.7441 - acc: 0.6633 - val_loss: 0.7577 - val_acc: 0.6482\n",
      "Epoch 26/100\n",
      "99456/99456 [==============================] - 267s 3ms/sample - loss: 0.7410 - acc: 0.6661 - val_loss: 0.7537 - val_acc: 0.6542\n",
      "Epoch 27/100\n",
      "99456/99456 [==============================] - 266s 3ms/sample - loss: 0.7333 - acc: 0.6811 - val_loss: 0.7308 - val_acc: 0.6869\n",
      "Epoch 28/100\n",
      "99456/99456 [==============================] - 266s 3ms/sample - loss: 0.6760 - acc: 0.7303 - val_loss: 0.6835 - val_acc: 0.7160\n",
      "Epoch 29/100\n",
      "99456/99456 [==============================] - 267s 3ms/sample - loss: 0.6339 - acc: 0.7480 - val_loss: 0.6777 - val_acc: 0.7224\n",
      "Epoch 30/100\n",
      "99456/99456 [==============================] - 266s 3ms/sample - loss: 0.6195 - acc: 0.7566 - val_loss: 0.6486 - val_acc: 0.7371\n",
      "Epoch 31/100\n",
      "99456/99456 [==============================] - 266s 3ms/sample - loss: 0.6094 - acc: 0.7595 - val_loss: 0.6443 - val_acc: 0.7426\n",
      "Epoch 32/100\n",
      "99456/99456 [==============================] - 267s 3ms/sample - loss: 0.6015 - acc: 0.7638 - val_loss: 0.6327 - val_acc: 0.7466\n",
      "Epoch 33/100\n",
      "99456/99456 [==============================] - 267s 3ms/sample - loss: 0.5960 - acc: 0.7660 - val_loss: 0.6335 - val_acc: 0.7449\n",
      "Epoch 34/100\n",
      "99456/99456 [==============================] - 268s 3ms/sample - loss: 0.5917 - acc: 0.7677 - val_loss: 0.6418 - val_acc: 0.7429\n",
      "Epoch 35/100\n",
      "99456/99456 [==============================] - 268s 3ms/sample - loss: 0.5874 - acc: 0.7680 - val_loss: 0.6447 - val_acc: 0.7414\n",
      "Epoch 36/100\n",
      "99456/99456 [==============================] - 267s 3ms/sample - loss: 0.5814 - acc: 0.7697 - val_loss: 0.6037 - val_acc: 0.7612\n",
      "Epoch 37/100\n",
      "99456/99456 [==============================] - 274s 3ms/sample - loss: 0.5777 - acc: 0.7703 - val_loss: 0.6273 - val_acc: 0.7492\n",
      "Epoch 38/100\n",
      "99456/99456 [==============================] - 277s 3ms/sample - loss: 0.5739 - acc: 0.7726 - val_loss: 0.6140 - val_acc: 0.7558\n",
      "Epoch 39/100\n",
      "99456/99456 [==============================] - 280s 3ms/sample - loss: 0.5700 - acc: 0.7727 - val_loss: 0.6051 - val_acc: 0.7611\n",
      "Epoch 40/100\n",
      "99456/99456 [==============================] - 275s 3ms/sample - loss: 0.5680 - acc: 0.7749 - val_loss: 0.6051 - val_acc: 0.7575\n",
      "Epoch 41/100\n",
      "99456/99456 [==============================] - 281s 3ms/sample - loss: 0.5651 - acc: 0.7759 - val_loss: 0.6059 - val_acc: 0.7568\n",
      "Epoch 42/100\n",
      "99456/99456 [==============================] - 279s 3ms/sample - loss: 0.5628 - acc: 0.7775 - val_loss: 0.6109 - val_acc: 0.7579\n",
      "Epoch 43/100\n",
      "99456/99456 [==============================] - 269s 3ms/sample - loss: 0.5607 - acc: 0.7770 - val_loss: 0.6215 - val_acc: 0.7482\n",
      "Epoch 44/100\n",
      "99456/99456 [==============================] - 268s 3ms/sample - loss: 0.5593 - acc: 0.7791 - val_loss: 0.5916 - val_acc: 0.7644\n",
      "Epoch 45/100\n",
      "99456/99456 [==============================] - 269s 3ms/sample - loss: 0.5568 - acc: 0.7779 - val_loss: 0.6041 - val_acc: 0.7552\n",
      "Epoch 46/100\n",
      "99456/99456 [==============================] - 267s 3ms/sample - loss: 0.5541 - acc: 0.7791 - val_loss: 0.6076 - val_acc: 0.7555\n",
      "Epoch 47/100\n",
      "99456/99456 [==============================] - 270s 3ms/sample - loss: 0.5514 - acc: 0.7794 - val_loss: 0.6125 - val_acc: 0.7550\n",
      "Epoch 48/100\n",
      "99456/99456 [==============================] - 269s 3ms/sample - loss: 0.5508 - acc: 0.7808 - val_loss: 0.5996 - val_acc: 0.7605\n",
      "Epoch 49/100\n",
      "99456/99456 [==============================] - 266s 3ms/sample - loss: 0.5498 - acc: 0.7804 - val_loss: 0.5855 - val_acc: 0.7672\n",
      "Epoch 50/100\n",
      "99456/99456 [==============================] - 267s 3ms/sample - loss: 0.5476 - acc: 0.7822 - val_loss: 0.5998 - val_acc: 0.7607\n",
      "Epoch 51/100\n",
      "99456/99456 [==============================] - 266s 3ms/sample - loss: 0.5459 - acc: 0.7828 - val_loss: 0.5906 - val_acc: 0.7668\n",
      "Epoch 52/100\n",
      "99456/99456 [==============================] - 268s 3ms/sample - loss: 0.5434 - acc: 0.7834 - val_loss: 0.5828 - val_acc: 0.7690\n",
      "Epoch 53/100\n",
      "99456/99456 [==============================] - 268s 3ms/sample - loss: 0.5416 - acc: 0.7833 - val_loss: 0.5761 - val_acc: 0.7723\n",
      "Epoch 54/100\n",
      "99456/99456 [==============================] - 267s 3ms/sample - loss: 0.5396 - acc: 0.7850 - val_loss: 0.5797 - val_acc: 0.7709\n",
      "Epoch 55/100\n",
      "99456/99456 [==============================] - 267s 3ms/sample - loss: 0.5383 - acc: 0.7859 - val_loss: 0.6034 - val_acc: 0.7633\n",
      "Epoch 56/100\n",
      "99456/99456 [==============================] - 266s 3ms/sample - loss: 0.5380 - acc: 0.7851 - val_loss: 0.5811 - val_acc: 0.7688\n",
      "Epoch 57/100\n",
      "99456/99456 [==============================] - 266s 3ms/sample - loss: 0.5333 - acc: 0.7873 - val_loss: 0.5742 - val_acc: 0.7709\n",
      "Epoch 58/100\n",
      "99456/99456 [==============================] - 267s 3ms/sample - loss: 0.5320 - acc: 0.7880 - val_loss: 0.6017 - val_acc: 0.7598\n",
      "Epoch 59/100\n",
      "99456/99456 [==============================] - 267s 3ms/sample - loss: 0.5312 - acc: 0.7875 - val_loss: 0.5674 - val_acc: 0.7717\n",
      "Epoch 60/100\n",
      "99456/99456 [==============================] - 267s 3ms/sample - loss: 0.5280 - acc: 0.7881 - val_loss: 0.5840 - val_acc: 0.7660\n",
      "Epoch 61/100\n",
      "99456/99456 [==============================] - 268s 3ms/sample - loss: 0.5264 - acc: 0.7894 - val_loss: 0.5789 - val_acc: 0.7668\n",
      "Epoch 62/100\n",
      "99456/99456 [==============================] - 268s 3ms/sample - loss: 0.5257 - acc: 0.7902 - val_loss: 0.5651 - val_acc: 0.7720\n",
      "Epoch 63/100\n",
      "99456/99456 [==============================] - 267s 3ms/sample - loss: 0.5237 - acc: 0.7904 - val_loss: 0.5805 - val_acc: 0.7687\n",
      "Epoch 64/100\n",
      "99456/99456 [==============================] - 266s 3ms/sample - loss: 0.5219 - acc: 0.7907 - val_loss: 0.5671 - val_acc: 0.7719\n",
      "Epoch 65/100\n",
      "99456/99456 [==============================] - 266s 3ms/sample - loss: 0.5201 - acc: 0.7916 - val_loss: 0.5829 - val_acc: 0.7670\n",
      "Epoch 66/100\n",
      "99456/99456 [==============================] - 267s 3ms/sample - loss: 0.5208 - acc: 0.7910 - val_loss: 0.5778 - val_acc: 0.7716\n",
      "Epoch 67/100\n",
      "99456/99456 [==============================] - 267s 3ms/sample - loss: 0.5183 - acc: 0.7926 - val_loss: 0.5944 - val_acc: 0.7598\n",
      "Epoch 68/100\n",
      "99456/99456 [==============================] - 267s 3ms/sample - loss: 0.5173 - acc: 0.7929 - val_loss: 0.5722 - val_acc: 0.7718\n",
      "Epoch 69/100\n",
      "99456/99456 [==============================] - 272s 3ms/sample - loss: 0.5166 - acc: 0.7928 - val_loss: 0.5727 - val_acc: 0.7712\n",
      "Epoch 70/100\n",
      "99456/99456 [==============================] - 270s 3ms/sample - loss: 0.5153 - acc: 0.7936 - val_loss: 0.5650 - val_acc: 0.7733\n",
      "Epoch 71/100\n",
      "99456/99456 [==============================] - 265s 3ms/sample - loss: 0.5148 - acc: 0.7938 - val_loss: 0.5874 - val_acc: 0.7642\n",
      "Epoch 72/100\n",
      "99456/99456 [==============================] - 266s 3ms/sample - loss: 0.5140 - acc: 0.7939 - val_loss: 0.5688 - val_acc: 0.7743\n",
      "Epoch 73/100\n",
      "99456/99456 [==============================] - 267s 3ms/sample - loss: 0.5127 - acc: 0.7959 - val_loss: 0.5548 - val_acc: 0.7801\n",
      "Epoch 74/100\n",
      "99456/99456 [==============================] - 267s 3ms/sample - loss: 0.5113 - acc: 0.7953 - val_loss: 0.5746 - val_acc: 0.7713\n",
      "Epoch 75/100\n",
      "99456/99456 [==============================] - 267s 3ms/sample - loss: 0.5120 - acc: 0.7958 - val_loss: 0.5714 - val_acc: 0.7698\n",
      "Epoch 76/100\n",
      "17152/99456 [====>.........................] - ETA: 3:43 - loss: 0.4991 - acc: 0.8005"
     ]
    }
   ],
   "source": [
    "# callback = keras.callbacks.EarlyStopping(monitor='val_loss', patience=3)\n",
    "print(\"Batch size:{}, Learning Rate:{}\".format(BATCH_SIZE, LEARNING_RATE))\n",
    "history = model.fit(X_train, y_train, epochs=EPOCHS, batch_size=BATCH_SIZE, validation_data=(X_val, y_val), verbose=1)\n",
    "score, accuracy = model.evaluate(X_test, y_test, batch_size=BATCH_SIZE)\n",
    "print(\"Accuracy is {}%\".format(accuracy*100))"
   ]
  },
  {
   "cell_type": "markdown",
   "metadata": {
    "colab_type": "text",
    "id": "PkMtITd8yusu",
    "pycharm": {
     "name": "#%% md\n"
    }
   },
   "source": [
    "### Evaluate performance"
   ]
  },
  {
   "cell_type": "code",
   "execution_count": 0,
   "metadata": {
    "colab": {
     "base_uri": "https://localhost:8080/",
     "height": 606
    },
    "colab_type": "code",
    "id": "w_aRVyjGyusq",
    "outputId": "862520be-3fa9-4e62-b7cc-81ee229c5628",
    "pycharm": {
     "name": "#%%\n"
    }
   },
   "outputs": [
    {
     "data": {
      "image/png": "[encoded data removed]",
      "text/plain": [
       "<Figure size 1080x720 with 2 Axes>"
      ]
     },
     "metadata": {
      "tags": []
     },
     "output_type": "display_data"
    }
   ],
   "source": [
    "plt.figure(figsize=(15,10))\n",
    "plt.subplot(2,1,1)\n",
    "plt.plot(history.history['loss'],'b--',lw=2,label='train_loss')\n",
    "plt.plot(history.history['val_loss'],'g-',lw=2,label='val_loss')\n",
    "plt.legend()\n",
    "# plt.ylim([.5,1.3])\n",
    "plt.xlabel('Number of epochs')\n",
    "plt.ylabel('Loss')\n",
    "plt.subplot(2,1,2)\n",
    "plt.plot(history.history['accuracy'],'b--',lw=2,label='train_acc')\n",
    "plt.plot(history.history['val_accuracy'],'g-',lw=2,label='val_acc')\n",
    "plt.legend()\n",
    "# plt.ylim([.2,1.0])\n",
    "plt.xlabel('Number of epochs')\n",
    "plt.ylabel('Accuracy')\n",
    "plt.show()"
   ]
  },
  {
   "cell_type": "code",
   "execution_count": 0,
   "metadata": {
    "colab": {
     "base_uri": "https://localhost:8080/",
     "height": 238
    },
    "colab_type": "code",
    "id": "Caceyv8uyusu",
    "outputId": "6c626a6f-cbd0-4c64-c370-e4613f6c2d12",
    "pycharm": {
     "name": "#%%\n"
    }
   },
   "outputs": [
    {
     "name": "stdout",
     "output_type": "stream",
     "text": [
      "              precision    recall  f1-score   support\n",
      "\n",
      "        down       0.62      0.69      0.66      8831\n",
      "  stationary       0.74      0.79      0.77     17846\n",
      "          up       0.73      0.59      0.65     12070\n",
      "\n",
      "    accuracy                           0.71     38747\n",
      "   macro avg       0.70      0.69      0.69     38747\n",
      "weighted avg       0.71      0.71      0.71     38747\n",
      "\n",
      "[[ 6131  1939  1769]\n",
      " [ 1820 14162  3193]\n",
      " [  880  1745  7108]]\n"
     ]
    }
   ],
   "source": [
    "target_names = [mapping[str(i)] for i in range(2)]\n",
    "y_pred = model.predict(X_test)\n",
    "y_pred_bool = np.argmax(y_pred, axis=1)\n",
    "y_test_bool = np.argmax(y_test, axis=1)\n",
    "cm = confusion_matrix(y_test_bool, y_pred_bool, labels=[0,1])\n",
    "print(classification_report(y_pred_bool, y_test_bool, target_names=target_names))\n",
    "print(confusion_matrix(y_test_bool, y_pred_bool, labels=[0,1]))"
   ]
  },
  {
   "cell_type": "code",
   "execution_count": 0,
   "metadata": {
    "colab": {
     "base_uri": "https://localhost:8080/",
     "height": 295
    },
    "colab_type": "code",
    "id": "YdpojJoC0WT7",
    "outputId": "fb0a0336-11b3-41d9-d0b2-1a0c86cba820",
    "pycharm": {
     "name": "#%%\n"
    }
   },
   "outputs": [
    {
     "data": {
      "image/png": "[encoded data removed]",
      "text/plain": [
       "<Figure size 432x288 with 2 Axes>"
      ]
     },
     "metadata": {
      "tags": []
     },
     "output_type": "display_data"
    }
   ],
   "source": [
    "import seaborn as sns\n",
    "import matplotlib.pyplot as plt     \n",
    "\n",
    "ax= plt.subplot()\n",
    "sns.heatmap(cm, annot=True, ax = ax); #annot=True to annotate cells\n",
    "# labels, title and ticks\n",
    "ax.set_xlabel('Predicted labels');ax.set_ylabel('True labels'); \n",
    "ax.set_title('Confusion Matrix'); \n",
    "ax.xaxis.set_ticklabels(['down', 'stationary', 'up']); ax.yaxis.set_ticklabels(['down', 'stationary', 'up']);"
   ]
  },
  {
   "cell_type": "code",
   "execution_count": 0,
   "metadata": {
    "colab": {
     "base_uri": "https://localhost:8080/",
     "height": 34
    },
    "colab_type": "code",
    "id": "uJQaQDC02aal",
    "outputId": "82705d9e-5ae6-4fe2-8b8f-26c9ec8ad6c4",
    "pycharm": {
     "name": "#%%\n"
    }
   },
   "outputs": [
    {
     "data": {
      "text/plain": [
       "numpy.ndarray"
      ]
     },
     "execution_count": 76,
     "metadata": {
      "tags": []
     },
     "output_type": "execute_result"
    }
   ],
   "source": [
    "type(cm)"
   ]
  },
  {
   "cell_type": "code",
   "execution_count": 0,
   "metadata": {
    "colab": {},
    "colab_type": "code",
    "id": "BcELy6aH3iPw",
    "pycharm": {
     "name": "#%%\n"
    }
   },
   "outputs": [],
   "source": []
  }
 ],
 "metadata": {
  "colab": {
   "collapsed_sections": [],
   "machine_shape": "hm",
   "name": "ConvLSTM_101.ipynb",
   "provenance": [],
   "toc_visible": true
  },
  "kernelspec": {
   "display_name": "Python 3",
   "language": "python",
   "name": "python3"
  },
  "language_info": {
   "codemirror_mode": {
    "name": "ipython",
    "version": 3
   },
   "file_extension": ".py",
   "mimetype": "text/x-python",
   "name": "python",
   "nbconvert_exporter": "python",
   "pygments_lexer": "ipython3",
   "version": "3.7.3"
  }
 },
 "nbformat": 4,
 "nbformat_minor": 1
}