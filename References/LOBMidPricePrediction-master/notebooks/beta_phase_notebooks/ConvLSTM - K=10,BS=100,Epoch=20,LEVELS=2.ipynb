{
 "cells": [
  {
   "cell_type": "code",
   "execution_count": 1,
   "metadata": {
    "pycharm": {
     "name": "#%%\n"
    }
   },
   "outputs": [],
   "source": [
    "import glob\n",
    "import os\n",
    "import numpy as np\n",
    "import pandas as pd\n",
    "from matplotlib import pyplot as plt\n",
    "from sklearn.model_selection import train_test_split\n",
    "from sklearn.metrics import classification_report, confusion_matrix\n",
    "from sklearn.preprocessing import OneHotEncoder\n",
    "from scipy.stats import zscore\n",
    "from tensorflow import keras"
   ]
  },
  {
   "cell_type": "code",
   "execution_count": 2,
   "metadata": {
    "pycharm": {
     "name": "#%%\n"
    }
   },
   "outputs": [],
   "source": [
    "# Constants\n",
    "# batch size for model\n",
    "BATCH_SIZE = 32\n",
    "# number of epochs\n",
    "EPOCHS = 20\n",
    "# proportion of validation data\n",
    "VALIDATION_SPLIT = 0.2\n",
    "# learning rate and epsilon for ADAM optimizer\n",
    "LEARNING_RATE = 0.01\n",
    "EPSILON = 1\n",
    "# path where data is stored\n",
    "PATH=\"/Users/tanvipotdar/Projects/thesis/data/INTC_2015-01-01_2015-01-31_10\"\n",
    "# prediction horizon\n",
    "K = 50 \n",
    "# threshold to decide which category midprice direction falls in (up, down, stationary)\n",
    "ALPHA = 0.001\n",
    "\n",
    "# Static objects\n",
    "# instantiate one hot encoder here so that all classes will always map to the same labels\n",
    "onehot_encoder = OneHotEncoder(sparse=False)"
   ]
  },
  {
   "cell_type": "markdown",
   "metadata": {
    "pycharm": {
     "name": "#%% md\n"
    }
   },
   "source": [
    "### Prepare the data"
   ]
  },
  {
   "cell_type": "code",
   "execution_count": 3,
   "metadata": {
    "scrolled": true,
    "pycharm": {
     "name": "#%%\n"
    }
   },
   "outputs": [
    {
     "data": {
      "text/html": [
       "<div>\n",
       "<style scoped>\n",
       "    .dataframe tbody tr th:only-of-type {\n",
       "        vertical-align: middle;\n",
       "    }\n",
       "\n",
       "    .dataframe tbody tr th {\n",
       "        vertical-align: top;\n",
       "    }\n",
       "\n",
       "    .dataframe thead th {\n",
       "        text-align: right;\n",
       "    }\n",
       "</style>\n",
       "<table border=\"1\" class=\"dataframe\">\n",
       "  <thead>\n",
       "    <tr style=\"text-align: right;\">\n",
       "      <th></th>\n",
       "      <th>ask_price_1</th>\n",
       "      <th>ask_size_1</th>\n",
       "      <th>bid_price_1</th>\n",
       "      <th>bid_size_1</th>\n",
       "      <th>ask_price_2</th>\n",
       "      <th>ask_size_2</th>\n",
       "      <th>bid_price_2</th>\n",
       "      <th>bid_size_2</th>\n",
       "    </tr>\n",
       "  </thead>\n",
       "  <tbody>\n",
       "    <tr>\n",
       "      <th>0</th>\n",
       "      <td>367300</td>\n",
       "      <td>4000</td>\n",
       "      <td>365200</td>\n",
       "      <td>400</td>\n",
       "      <td>367500</td>\n",
       "      <td>200</td>\n",
       "      <td>364800</td>\n",
       "      <td>300</td>\n",
       "    </tr>\n",
       "    <tr>\n",
       "      <th>1</th>\n",
       "      <td>367300</td>\n",
       "      <td>4000</td>\n",
       "      <td>365200</td>\n",
       "      <td>400</td>\n",
       "      <td>367500</td>\n",
       "      <td>200</td>\n",
       "      <td>364800</td>\n",
       "      <td>300</td>\n",
       "    </tr>\n",
       "    <tr>\n",
       "      <th>2</th>\n",
       "      <td>367300</td>\n",
       "      <td>4000</td>\n",
       "      <td>365200</td>\n",
       "      <td>100</td>\n",
       "      <td>367500</td>\n",
       "      <td>200</td>\n",
       "      <td>364800</td>\n",
       "      <td>300</td>\n",
       "    </tr>\n",
       "    <tr>\n",
       "      <th>3</th>\n",
       "      <td>367300</td>\n",
       "      <td>4000</td>\n",
       "      <td>365200</td>\n",
       "      <td>100</td>\n",
       "      <td>367500</td>\n",
       "      <td>200</td>\n",
       "      <td>364800</td>\n",
       "      <td>300</td>\n",
       "    </tr>\n",
       "    <tr>\n",
       "      <th>4</th>\n",
       "      <td>367300</td>\n",
       "      <td>4000</td>\n",
       "      <td>365200</td>\n",
       "      <td>100</td>\n",
       "      <td>367500</td>\n",
       "      <td>200</td>\n",
       "      <td>364800</td>\n",
       "      <td>300</td>\n",
       "    </tr>\n",
       "  </tbody>\n",
       "</table>\n",
       "</div>"
      ],
      "text/plain": [
       "   ask_price_1  ask_size_1  bid_price_1  bid_size_1  ask_price_2  ask_size_2  \\\n",
       "0       367300        4000       365200         400       367500         200   \n",
       "1       367300        4000       365200         400       367500         200   \n",
       "2       367300        4000       365200         100       367500         200   \n",
       "3       367300        4000       365200         100       367500         200   \n",
       "4       367300        4000       365200         100       367500         200   \n",
       "\n",
       "   bid_price_2  bid_size_2  \n",
       "0       364800         300  \n",
       "1       364800         300  \n",
       "2       364800         300  \n",
       "3       364800         300  \n",
       "4       364800         300  "
      ]
     },
     "execution_count": 3,
     "metadata": {},
     "output_type": "execute_result"
    }
   ],
   "source": [
    "def get_data(path, num_files_to_choose=np.inf):\n",
    "    all_files = glob.glob(path + \"/*orderbook_10.csv\")\n",
    "    all_files.sort()\n",
    "    i = min(num_files_to_choose, len(all_files))\n",
    "    orderbooks = []\n",
    "    for filename in all_files[:i]:\n",
    "        df = pd.read_csv(filename, index_col=None, header=None, usecols=list(range(8)))\n",
    "        orderbooks.append(df)\n",
    "    orderbook = pd.concat(orderbooks, axis=0, ignore_index=True)\n",
    "    col_names = ['ask_price_', 'ask_size_', 'bid_price_', 'bid_size_']\n",
    "    nums = map(str, range(1,3))\n",
    "    orderbook.columns = [y + x for x in nums for y in col_names]\n",
    "    return orderbook\n",
    "data = get_data(path=PATH, num_files_to_choose=3)\n",
    "data.head()"
   ]
  },
  {
   "cell_type": "code",
   "execution_count": 4,
   "metadata": {
    "scrolled": true,
    "pycharm": {
     "name": "#%%\n"
    }
   },
   "outputs": [
    {
     "data": {
      "text/html": [
       "<div>\n",
       "<style scoped>\n",
       "    .dataframe tbody tr th:only-of-type {\n",
       "        vertical-align: middle;\n",
       "    }\n",
       "\n",
       "    .dataframe tbody tr th {\n",
       "        vertical-align: top;\n",
       "    }\n",
       "\n",
       "    .dataframe thead th {\n",
       "        text-align: right;\n",
       "    }\n",
       "</style>\n",
       "<table border=\"1\" class=\"dataframe\">\n",
       "  <thead>\n",
       "    <tr style=\"text-align: right;\">\n",
       "      <th></th>\n",
       "      <th>ask_price_1</th>\n",
       "      <th>ask_size_1</th>\n",
       "      <th>bid_price_1</th>\n",
       "      <th>bid_size_1</th>\n",
       "      <th>ask_price_2</th>\n",
       "      <th>ask_size_2</th>\n",
       "      <th>bid_price_2</th>\n",
       "      <th>bid_size_2</th>\n",
       "    </tr>\n",
       "  </thead>\n",
       "  <tbody>\n",
       "    <tr>\n",
       "      <th>0</th>\n",
       "      <td>1.641743</td>\n",
       "      <td>-0.076267</td>\n",
       "      <td>1.171577</td>\n",
       "      <td>-0.753204</td>\n",
       "      <td>1.665477</td>\n",
       "      <td>-1.888278</td>\n",
       "      <td>1.100263</td>\n",
       "      <td>-0.914844</td>\n",
       "    </tr>\n",
       "    <tr>\n",
       "      <th>1</th>\n",
       "      <td>1.641743</td>\n",
       "      <td>-0.076267</td>\n",
       "      <td>1.171577</td>\n",
       "      <td>-0.753204</td>\n",
       "      <td>1.665477</td>\n",
       "      <td>-1.888278</td>\n",
       "      <td>1.100263</td>\n",
       "      <td>-0.914844</td>\n",
       "    </tr>\n",
       "    <tr>\n",
       "      <th>2</th>\n",
       "      <td>1.641743</td>\n",
       "      <td>-0.076267</td>\n",
       "      <td>1.171577</td>\n",
       "      <td>-0.813901</td>\n",
       "      <td>1.665477</td>\n",
       "      <td>-1.888278</td>\n",
       "      <td>1.100263</td>\n",
       "      <td>-0.914844</td>\n",
       "    </tr>\n",
       "    <tr>\n",
       "      <th>3</th>\n",
       "      <td>1.641743</td>\n",
       "      <td>-0.076267</td>\n",
       "      <td>1.171577</td>\n",
       "      <td>-0.813901</td>\n",
       "      <td>1.665477</td>\n",
       "      <td>-1.888278</td>\n",
       "      <td>1.100263</td>\n",
       "      <td>-0.914844</td>\n",
       "    </tr>\n",
       "    <tr>\n",
       "      <th>4</th>\n",
       "      <td>1.641743</td>\n",
       "      <td>-0.076267</td>\n",
       "      <td>1.171577</td>\n",
       "      <td>-0.813901</td>\n",
       "      <td>1.665477</td>\n",
       "      <td>-1.888278</td>\n",
       "      <td>1.100263</td>\n",
       "      <td>-0.914844</td>\n",
       "    </tr>\n",
       "  </tbody>\n",
       "</table>\n",
       "</div>"
      ],
      "text/plain": [
       "   ask_price_1  ask_size_1  bid_price_1  bid_size_1  ask_price_2  ask_size_2  \\\n",
       "0     1.641743   -0.076267     1.171577   -0.753204     1.665477   -1.888278   \n",
       "1     1.641743   -0.076267     1.171577   -0.753204     1.665477   -1.888278   \n",
       "2     1.641743   -0.076267     1.171577   -0.813901     1.665477   -1.888278   \n",
       "3     1.641743   -0.076267     1.171577   -0.813901     1.665477   -1.888278   \n",
       "4     1.641743   -0.076267     1.171577   -0.813901     1.665477   -1.888278   \n",
       "\n",
       "   bid_price_2  bid_size_2  \n",
       "0     1.100263   -0.914844  \n",
       "1     1.100263   -0.914844  \n",
       "2     1.100263   -0.914844  \n",
       "3     1.100263   -0.914844  \n",
       "4     1.100263   -0.914844  "
      ]
     },
     "execution_count": 4,
     "metadata": {},
     "output_type": "execute_result"
    }
   ],
   "source": [
    "def normalise_data(data):\n",
    "    normalised_data = data.apply(zscore)\n",
    "    return normalised_data\n",
    "normalised_data = normalise_data(data)\n",
    "normalised_data.head()"
   ]
  },
  {
   "cell_type": "code",
   "execution_count": 5,
   "metadata": {
    "pycharm": {
     "name": "#%%\n"
    }
   },
   "outputs": [],
   "source": [
    "# smoothed labelling of the midprice/ K is the prediction horizon\n",
    "def smooth_midprice_using_k_lookahead(normalised_data, k):\n",
    "    normalised_data['midprice'] = (normalised_data.ask_price_1+normalised_data.bid_price_1)/2\n",
    "    # mean of previous k mid-prices\n",
    "    normalised_data['m_minus'] = normalised_data['midprice'].rolling(window=k).mean()\n",
    "    # mean of next k mid-prices\n",
    "    normalised_data['m_plus'] = normalised_data['midprice'][::-1].rolling(window=k).mean()[::-1]\n",
    "    return normalised_data\n",
    "normalised_data = smooth_midprice_using_k_lookahead(normalised_data, k=K)"
   ]
  },
  {
   "cell_type": "code",
   "execution_count": 6,
   "metadata": {
    "pycharm": {
     "name": "#%%\n"
    }
   },
   "outputs": [],
   "source": [
    "# label the smoothed mid-prices based on a threshold/ ALPHA is the threshold \n",
    "def create_midprice_labels(normalised_data):\n",
    "    normalised_data['change'] = (normalised_data.m_plus - normalised_data.m_minus)/normalised_data.m_minus\n",
    "    # assign categories up, down, stationary\n",
    "    normalised_data['label'] = pd.cut(normalised_data.change, bins=[-np.inf, -ALPHA, ALPHA, np.inf], \n",
    "                                    labels=['down', 'stationary', 'up'])\n",
    "    # drop all unlabelled values (will be first and last k values as they have no m_minus/m_plus value)\n",
    "    normalised_data.dropna(inplace=True)\n",
    "    return normalised_data\n",
    "normalised_data = create_midprice_labels(normalised_data)"
   ]
  },
  {
   "cell_type": "code",
   "execution_count": 7,
   "metadata": {
    "pycharm": {
     "name": "#%%\n"
    }
   },
   "outputs": [
    {
     "name": "stdout",
     "output_type": "stream",
     "text": [
      "Training input shape: (23017, 100, 8, 1)\n",
      "Test input shape: (7673, 100, 8, 1)\n",
      "Training output shape: (23017, 3)\n",
      "Test input shape: (7673, 3)\n"
     ]
    }
   ],
   "source": [
    "# split into train and test data\n",
    "N = len(normalised_data) - len(normalised_data)%100\n",
    "def reshape_and_categorise_data(normalised_data, n):\n",
    "    data = normalised_data[:n]\n",
    "    cols = data.columns.to_list()[:8]\n",
    "    input_data = data[cols]\n",
    "    input_array = input_data.to_numpy().reshape(n//100,100,8,1)\n",
    "\n",
    "    output_data = data.label.to_numpy()[::-100][::-1]\n",
    "    integer_encoded = output_data.reshape(len(output_data), 1)\n",
    "    output_array = onehot_encoder.fit_transform(integer_encoded)\n",
    "    X_train, X_test, y_train, y_test = train_test_split(input_array, output_array, shuffle=False)\n",
    "    return X_train, X_test, y_train, y_test\n",
    "X_train, X_test, y_train, y_test = reshape_and_categorise_data(normalised_data, N)\n",
    "print(\"Training input shape:\",X_train.shape)\n",
    "print(\"Test input shape:\", X_test.shape)\n",
    "print(\"Training output shape:\", y_train.shape)\n",
    "print(\"Test input shape:\", y_test.shape)"
   ]
  },
  {
   "cell_type": "code",
   "execution_count": 8,
   "metadata": {
    "pycharm": {
     "name": "#%%\n"
    }
   },
   "outputs": [
    {
     "name": "stdout",
     "output_type": "stream",
     "text": [
      "[(['down'], [1, 0, 0]), (['up'], [0, 0, 1]), (['stationary'], [0, 1, 0])]\n"
     ]
    }
   ],
   "source": [
    "# mapping of labels to one hot encoding\n",
    "encodings = [[1,0,0],[0,0,1],[0,1,0]]\n",
    "classes = onehot_encoder.inverse_transform(encodings)\n",
    "print(list(zip(classes.tolist(), encodings)))\n",
    "# Using np.argmax equates: 0-down, 1-stationary, 2-up"
   ]
  },
  {
   "cell_type": "markdown",
   "metadata": {
    "pycharm": {
     "name": "#%% md\n"
    }
   },
   "source": [
    "### Build and compile the model"
   ]
  },
  {
   "cell_type": "code",
   "execution_count": 9,
   "metadata": {
    "pycharm": {
     "name": "#%%\n"
    }
   },
   "outputs": [
    {
     "name": "stdout",
     "output_type": "stream",
     "text": [
      "WARNING:tensorflow:From /Users/tanvipotdar/pyenvs/lob/lib/python3.7/site-packages/tensorflow/python/ops/resource_variable_ops.py:435: colocate_with (from tensorflow.python.framework.ops) is deprecated and will be removed in a future version.\n",
      "Instructions for updating:\n",
      "Colocations handled automatically by placer.\n",
      "_________________________________________________________________\n",
      "Layer (type)                 Output Shape              Param #   \n",
      "=================================================================\n",
      "conv2d (Conv2D)              (None, 100, 4, 16)        48        \n",
      "_________________________________________________________________\n",
      "leaky_re_lu (LeakyReLU)      (None, 100, 4, 16)        0         \n",
      "_________________________________________________________________\n",
      "conv2d_1 (Conv2D)            (None, 97, 4, 16)         1040      \n",
      "_________________________________________________________________\n",
      "conv2d_2 (Conv2D)            (None, 94, 4, 16)         1040      \n",
      "_________________________________________________________________\n",
      "conv2d_3 (Conv2D)            (None, 94, 2, 16)         528       \n",
      "_________________________________________________________________\n",
      "leaky_re_lu_1 (LeakyReLU)    (None, 94, 2, 16)         0         \n",
      "_________________________________________________________________\n",
      "conv2d_4 (Conv2D)            (None, 91, 2, 16)         1040      \n",
      "_________________________________________________________________\n",
      "conv2d_5 (Conv2D)            (None, 88, 2, 16)         1040      \n",
      "_________________________________________________________________\n",
      "conv2d_6 (Conv2D)            (None, 88, 1, 16)         528       \n",
      "_________________________________________________________________\n",
      "conv2d_7 (Conv2D)            (None, 85, 1, 32)         2080      \n",
      "_________________________________________________________________\n",
      "conv2d_8 (Conv2D)            (None, 82, 1, 32)         4128      \n",
      "_________________________________________________________________\n",
      "max_pooling2d (MaxPooling2D) (None, 27, 1, 32)         0         \n",
      "_________________________________________________________________\n",
      "time_distributed (TimeDistri (None, 27, 32)            0         \n",
      "_________________________________________________________________\n",
      "lstm (LSTM)                  (None, 100)               53200     \n",
      "_________________________________________________________________\n",
      "dense (Dense)                (None, 3)                 303       \n",
      "=================================================================\n",
      "Total params: 64,975\n",
      "Trainable params: 64,975\n",
      "Non-trainable params: 0\n",
      "_________________________________________________________________\n"
     ]
    }
   ],
   "source": [
    "def create_model():\n",
    "    # convolutional layers\n",
    "    model = keras.Sequential()\n",
    "    model.add(keras.layers.Conv2D(filters=16, kernel_size=(1,2), input_shape=(100,8,1), strides=(1, 2)))\n",
    "    model.add(keras.layers.LeakyReLU(alpha=0.01))\n",
    "    model.add(keras.layers.Conv2D(filters=16, kernel_size=(4,1)))\n",
    "    model.add(keras.layers.Conv2D(filters=16, kernel_size=(4,1)))\n",
    "    model.add(keras.layers.Conv2D(filters=16, kernel_size=(1,2), strides=(1, 2)))\n",
    "    model.add(keras.layers.LeakyReLU(alpha=0.01))\n",
    "    model.add(keras.layers.Conv2D(filters=16, kernel_size=(4,1)))\n",
    "    model.add(keras.layers.Conv2D(filters=16, kernel_size=(4,1)))\n",
    "    model.add(keras.layers.Conv2D(filters=16, kernel_size=(1,2), input_shape=(100,2,1)))\n",
    "    model.add(keras.layers.Conv2D(filters=32, kernel_size=(4,1)))\n",
    "    model.add(keras.layers.Conv2D(filters=32, kernel_size=(4,1)))\n",
    "    model.add(keras.layers.MaxPooling2D(pool_size=(3,1)))\n",
    "    model.add(keras.layers.TimeDistributed(keras.layers.Flatten()))\n",
    "\n",
    "    # lstm layer\n",
    "    model.add(keras.layers.LSTM(100))\n",
    "    model.add(keras.layers.Dense(3,activation='softmax'))\n",
    "    # compile model and summarize\n",
    "    adam = keras.optimizers.Adam(lr=LEARNING_RATE, epsilon=1)\n",
    "    model.compile(optimizer=adam, loss='categorical_crossentropy', metrics=['accuracy'])\n",
    "    model.summary()\n",
    "    return model\n",
    "model = create_model()"
   ]
  },
  {
   "cell_type": "code",
   "execution_count": 10,
   "metadata": {
    "pycharm": {
     "name": "#%%\n"
    }
   },
   "outputs": [
    {
     "name": "stdout",
     "output_type": "stream",
     "text": [
      "Train on 18413 samples, validate on 4604 samples\n",
      "WARNING:tensorflow:From /Users/tanvipotdar/pyenvs/lob/lib/python3.7/site-packages/tensorflow/python/ops/math_ops.py:3066: to_int32 (from tensorflow.python.ops.math_ops) is deprecated and will be removed in a future version.\n",
      "Instructions for updating:\n",
      "Use tf.cast instead.\n",
      "Epoch 1/20\n",
      "18413/18413 [==============================] - 26s 1ms/sample - loss: 1.0159 - acc: 0.5336 - val_loss: 0.9743 - val_acc: 0.5825\n",
      "Epoch 2/20\n",
      "18413/18413 [==============================] - 26s 1ms/sample - loss: 0.9604 - acc: 0.5530 - val_loss: 1.0211 - val_acc: 0.5771\n",
      "Epoch 3/20\n",
      "18413/18413 [==============================] - 25s 1ms/sample - loss: 0.9152 - acc: 0.5657 - val_loss: 1.0875 - val_acc: 0.5256\n",
      "Epoch 4/20\n",
      "18413/18413 [==============================] - 26s 1ms/sample - loss: 0.8773 - acc: 0.5889 - val_loss: 1.1263 - val_acc: 0.4922\n",
      "Epoch 5/20\n",
      "18413/18413 [==============================] - 26s 1ms/sample - loss: 0.8355 - acc: 0.6210 - val_loss: 1.1475 - val_acc: 0.4728\n",
      "Epoch 6/20\n",
      "18413/18413 [==============================] - 25s 1ms/sample - loss: 0.7911 - acc: 0.6547 - val_loss: 1.1171 - val_acc: 0.5500\n",
      "Epoch 7/20\n",
      "18413/18413 [==============================] - 27s 1ms/sample - loss: 0.7471 - acc: 0.6813 - val_loss: 1.2471 - val_acc: 0.5374\n",
      "Epoch 8/20\n",
      "18413/18413 [==============================] - 32s 2ms/sample - loss: 0.7137 - acc: 0.7006 - val_loss: 1.1929 - val_acc: 0.5391\n",
      "Epoch 9/20\n",
      "18413/18413 [==============================] - 37s 2ms/sample - loss: 0.6899 - acc: 0.7123 - val_loss: 1.2897 - val_acc: 0.5089\n",
      "Epoch 10/20\n",
      "18413/18413 [==============================] - 39s 2ms/sample - loss: 0.6735 - acc: 0.7199 - val_loss: 1.3237 - val_acc: 0.4748\n",
      "Epoch 11/20\n",
      "18413/18413 [==============================] - 40s 2ms/sample - loss: 0.6647 - acc: 0.7189 - val_loss: 1.3429 - val_acc: 0.5311\n",
      "Epoch 12/20\n",
      "18413/18413 [==============================] - 41s 2ms/sample - loss: 0.6524 - acc: 0.7277 - val_loss: 1.2685 - val_acc: 0.5415\n",
      "Epoch 13/20\n",
      "18413/18413 [==============================] - 40s 2ms/sample - loss: 0.6385 - acc: 0.7373 - val_loss: 1.2875 - val_acc: 0.5428\n",
      "Epoch 14/20\n",
      "18413/18413 [==============================] - 41s 2ms/sample - loss: 0.6338 - acc: 0.7377 - val_loss: 1.3348 - val_acc: 0.5204\n",
      "Epoch 15/20\n",
      "18413/18413 [==============================] - 40s 2ms/sample - loss: 0.6220 - acc: 0.7443 - val_loss: 1.3062 - val_acc: 0.5406\n",
      "Epoch 16/20\n",
      "18413/18413 [==============================] - 40s 2ms/sample - loss: 0.6100 - acc: 0.7482 - val_loss: 1.2905 - val_acc: 0.5456\n",
      "Epoch 17/20\n",
      "18413/18413 [==============================] - 40s 2ms/sample - loss: 0.6070 - acc: 0.7501 - val_loss: 1.2820 - val_acc: 0.5476\n",
      "Epoch 18/20\n",
      "18413/18413 [==============================] - 45s 2ms/sample - loss: 0.5984 - acc: 0.7564 - val_loss: 1.3054 - val_acc: 0.5541\n",
      "Epoch 19/20\n",
      "18413/18413 [==============================] - 42s 2ms/sample - loss: 0.5900 - acc: 0.7576 - val_loss: 1.3710 - val_acc: 0.5261\n",
      "Epoch 20/20\n",
      "18413/18413 [==============================] - 46s 2ms/sample - loss: 0.5855 - acc: 0.7627 - val_loss: 1.3517 - val_acc: 0.5341\n",
      "7673/7673 [==============================] - 4s 504us/sample - loss: 1.3100 - acc: 0.5055\n",
      "Accuracy is 50.55388808250427%\n"
     ]
    }
   ],
   "source": [
    "def fit_and_evaluate_model(model, X_train, X_test, y_train, y_test):\n",
    "    history = model.fit(X_train, y_train, epochs=EPOCHS, batch_size=BATCH_SIZE, validation_split=VALIDATION_SPLIT)\n",
    "    score, accuracy = model.evaluate(X_test, y_test, batch_size=BATCH_SIZE)\n",
    "    print(\"Accuracy is {}%\".format(accuracy*100))\n",
    "    return accuracy*100, history\n",
    "accuracy, history = fit_and_evaluate_model(model, X_train, X_test, y_train, y_test)"
   ]
  },
  {
   "cell_type": "code",
   "execution_count": 11,
   "metadata": {
    "pycharm": {
     "name": "#%%\n"
    }
   },
   "outputs": [
    {
     "data": {
      "image/png": "[encoded data removed]",
      "text/plain": [
       "<Figure size 1080x720 with 2 Axes>"
      ]
     },
     "metadata": {
      "needs_background": "light"
     },
     "output_type": "display_data"
    }
   ],
   "source": [
    "def plots(history):\n",
    "    plt.figure(figsize=(15,10))\n",
    "    plt.subplot(2,1,1)\n",
    "    plt.plot(history.history['loss'],'b--',lw=2,label='train_loss')\n",
    "    plt.plot(history.history['val_loss'],'g-',lw=2,label='val_loss')\n",
    "    plt.legend()\n",
    "    # plt.ylim([.5,1.3])\n",
    "    plt.xlabel('Number of epochs')\n",
    "    plt.ylabel('Loss')\n",
    "    plt.subplot(2,1,2)\n",
    "    plt.plot(history.history['acc'],'b--',lw=2,label='train_acc')\n",
    "    plt.plot(history.history['val_acc'],'g-',lw=2,label='val_acc')\n",
    "    plt.legend()\n",
    "    # plt.ylim([.2,1.0])\n",
    "    plt.xlabel('Number of epochs')\n",
    "    plt.ylabel('Accuracy')\n",
    "    plt.show()\n",
    "plots(history)"
   ]
  },
  {
   "cell_type": "markdown",
   "metadata": {
    "pycharm": {
     "name": "#%% md\n"
    }
   },
   "source": [
    "### Evaluate performance"
   ]
  },
  {
   "cell_type": "code",
   "execution_count": 12,
   "metadata": {
    "pycharm": {
     "name": "#%%\n"
    }
   },
   "outputs": [
    {
     "name": "stdout",
     "output_type": "stream",
     "text": [
      "              precision    recall  f1-score   support\n",
      "\n",
      "        down       0.05      0.04      0.05      1701\n",
      "  stationary       0.81      0.76      0.79      4749\n",
      "          up       0.11      0.15      0.12      1223\n",
      "\n",
      "   micro avg       0.51      0.51      0.51      7673\n",
      "   macro avg       0.32      0.32      0.32      7673\n",
      "weighted avg       0.53      0.51      0.52      7673\n",
      "\n",
      "[[  73  660  779]\n",
      " [ 575 3628  266]\n",
      " [1053  461  178]]\n"
     ]
    }
   ],
   "source": [
    "def get_report(model, X_test, y_test, X_train, y_train):\n",
    "    target_names = ['down', 'stationary', 'up']\n",
    "    y_pred = model.predict(X_test)\n",
    "    y_pred_bool = np.argmax(y_pred, axis=1)\n",
    "    y_test_bool = np.argmax(y_test, axis=1)\n",
    "    print(classification_report(y_pred_bool, y_test_bool, target_names=target_names))\n",
    "    print(confusion_matrix(y_test_bool, y_pred_bool, labels=[0,1,2]))\n",
    "get_report(model, X_test, y_test, X_train, y_train)"
   ]
  },
  {
   "cell_type": "code",
   "execution_count": null,
   "metadata": {
    "pycharm": {
     "name": "#%%\n"
    }
   },
   "outputs": [],
   "source": []
  }
 ],
 "metadata": {
  "kernelspec": {
   "display_name": "Python 3",
   "language": "python",
   "name": "python3"
  },
  "language_info": {
   "codemirror_mode": {
    "name": "ipython",
    "version": 3
   },
   "file_extension": ".py",
   "mimetype": "text/x-python",
   "name": "python",
   "nbconvert_exporter": "python",
   "pygments_lexer": "ipython3",
   "version": "3.7.3"
  }
 },
 "nbformat": 4,
 "nbformat_minor": 2
}