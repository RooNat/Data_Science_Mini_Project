{
 "cells": [
  {
   "cell_type": "code",
   "execution_count": 1,
   "metadata": {
    "pycharm": {
     "name": "#%%\n"
    }
   },
   "outputs": [],
   "source": [
    "import glob\n",
    "import os\n",
    "import numpy as np\n",
    "import pandas as pd\n",
    "from matplotlib import pyplot as plt\n",
    "from sklearn.model_selection import train_test_split\n",
    "from sklearn.metrics import classification_report, confusion_matrix\n",
    "from sklearn.preprocessing import OneHotEncoder\n",
    "from scipy.stats import zscore\n",
    "from tensorflow import keras"
   ]
  },
  {
   "cell_type": "code",
   "execution_count": 2,
   "metadata": {
    "pycharm": {
     "name": "#%%\n"
    }
   },
   "outputs": [],
   "source": [
    "# Constants\n",
    "# batch size for model\n",
    "BATCH_SIZE = 100\n",
    "# number of epochs\n",
    "EPOCHS = 50\n",
    "# proportion of validation data\n",
    "VALIDATION_SPLIT = 0.2\n",
    "# learning rate and epsilon for ADAM optimizer\n",
    "LEARNING_RATE = 0.01\n",
    "EPSILON = 1\n",
    "# path where data is stored\n",
    "PATH=\"/Users/tanvipotdar/Projects/thesis/data/INTC_2015-01-01_2015-01-31_10\"\n",
    "# prediction horizon\n",
    "K = 10 \n",
    "# threshold to decide which category midprice direction falls in (up, down, stationary)\n",
    "ALPHA = 0.001\n",
    "\n",
    "# Static objects\n",
    "# instantiate one hot encoder here so that all classes will always map to the same labels\n",
    "onehot_encoder = OneHotEncoder(sparse=False)"
   ]
  },
  {
   "cell_type": "markdown",
   "metadata": {
    "pycharm": {
     "name": "#%% md\n"
    }
   },
   "source": [
    "## Prepare the data"
   ]
  },
  {
   "cell_type": "code",
   "execution_count": 3,
   "metadata": {
    "scrolled": true,
    "pycharm": {
     "name": "#%%\n"
    }
   },
   "outputs": [
    {
     "data": {
      "text/html": [
       "<div>\n",
       "<style scoped>\n",
       "    .dataframe tbody tr th:only-of-type {\n",
       "        vertical-align: middle;\n",
       "    }\n",
       "\n",
       "    .dataframe tbody tr th {\n",
       "        vertical-align: top;\n",
       "    }\n",
       "\n",
       "    .dataframe thead th {\n",
       "        text-align: right;\n",
       "    }\n",
       "</style>\n",
       "<table border=\"1\" class=\"dataframe\">\n",
       "  <thead>\n",
       "    <tr style=\"text-align: right;\">\n",
       "      <th></th>\n",
       "      <th>ask_price_1</th>\n",
       "      <th>ask_size_1</th>\n",
       "      <th>bid_price_1</th>\n",
       "      <th>bid_size_1</th>\n",
       "      <th>ask_price_2</th>\n",
       "      <th>ask_size_2</th>\n",
       "      <th>bid_price_2</th>\n",
       "      <th>bid_size_2</th>\n",
       "      <th>ask_price_3</th>\n",
       "      <th>ask_size_3</th>\n",
       "      <th>...</th>\n",
       "      <th>bid_price_8</th>\n",
       "      <th>bid_size_8</th>\n",
       "      <th>ask_price_9</th>\n",
       "      <th>ask_size_9</th>\n",
       "      <th>bid_price_9</th>\n",
       "      <th>bid_size_9</th>\n",
       "      <th>ask_price_10</th>\n",
       "      <th>ask_size_10</th>\n",
       "      <th>bid_price_10</th>\n",
       "      <th>bid_size_10</th>\n",
       "    </tr>\n",
       "  </thead>\n",
       "  <tbody>\n",
       "    <tr>\n",
       "      <th>0</th>\n",
       "      <td>367300</td>\n",
       "      <td>4000</td>\n",
       "      <td>365200</td>\n",
       "      <td>400</td>\n",
       "      <td>367500</td>\n",
       "      <td>200</td>\n",
       "      <td>364800</td>\n",
       "      <td>300</td>\n",
       "      <td>367900</td>\n",
       "      <td>300</td>\n",
       "      <td>...</td>\n",
       "      <td>361800</td>\n",
       "      <td>200</td>\n",
       "      <td>372900</td>\n",
       "      <td>1000</td>\n",
       "      <td>361500</td>\n",
       "      <td>200</td>\n",
       "      <td>373400</td>\n",
       "      <td>2500</td>\n",
       "      <td>360800</td>\n",
       "      <td>200</td>\n",
       "    </tr>\n",
       "    <tr>\n",
       "      <th>1</th>\n",
       "      <td>367300</td>\n",
       "      <td>4000</td>\n",
       "      <td>365200</td>\n",
       "      <td>400</td>\n",
       "      <td>367500</td>\n",
       "      <td>200</td>\n",
       "      <td>364800</td>\n",
       "      <td>300</td>\n",
       "      <td>367900</td>\n",
       "      <td>300</td>\n",
       "      <td>...</td>\n",
       "      <td>361800</td>\n",
       "      <td>200</td>\n",
       "      <td>372900</td>\n",
       "      <td>1000</td>\n",
       "      <td>361500</td>\n",
       "      <td>200</td>\n",
       "      <td>373400</td>\n",
       "      <td>2500</td>\n",
       "      <td>360800</td>\n",
       "      <td>200</td>\n",
       "    </tr>\n",
       "    <tr>\n",
       "      <th>2</th>\n",
       "      <td>367300</td>\n",
       "      <td>4000</td>\n",
       "      <td>365200</td>\n",
       "      <td>100</td>\n",
       "      <td>367500</td>\n",
       "      <td>200</td>\n",
       "      <td>364800</td>\n",
       "      <td>300</td>\n",
       "      <td>367900</td>\n",
       "      <td>300</td>\n",
       "      <td>...</td>\n",
       "      <td>361800</td>\n",
       "      <td>200</td>\n",
       "      <td>372900</td>\n",
       "      <td>1000</td>\n",
       "      <td>361500</td>\n",
       "      <td>200</td>\n",
       "      <td>373400</td>\n",
       "      <td>2500</td>\n",
       "      <td>360800</td>\n",
       "      <td>200</td>\n",
       "    </tr>\n",
       "    <tr>\n",
       "      <th>3</th>\n",
       "      <td>367300</td>\n",
       "      <td>4000</td>\n",
       "      <td>365200</td>\n",
       "      <td>100</td>\n",
       "      <td>367500</td>\n",
       "      <td>200</td>\n",
       "      <td>364800</td>\n",
       "      <td>300</td>\n",
       "      <td>367900</td>\n",
       "      <td>300</td>\n",
       "      <td>...</td>\n",
       "      <td>362900</td>\n",
       "      <td>200</td>\n",
       "      <td>372900</td>\n",
       "      <td>1000</td>\n",
       "      <td>361800</td>\n",
       "      <td>200</td>\n",
       "      <td>373400</td>\n",
       "      <td>2500</td>\n",
       "      <td>361500</td>\n",
       "      <td>200</td>\n",
       "    </tr>\n",
       "    <tr>\n",
       "      <th>4</th>\n",
       "      <td>367300</td>\n",
       "      <td>4000</td>\n",
       "      <td>365200</td>\n",
       "      <td>100</td>\n",
       "      <td>367500</td>\n",
       "      <td>200</td>\n",
       "      <td>364800</td>\n",
       "      <td>300</td>\n",
       "      <td>367900</td>\n",
       "      <td>300</td>\n",
       "      <td>...</td>\n",
       "      <td>362900</td>\n",
       "      <td>200</td>\n",
       "      <td>372900</td>\n",
       "      <td>1000</td>\n",
       "      <td>361800</td>\n",
       "      <td>200</td>\n",
       "      <td>373400</td>\n",
       "      <td>2500</td>\n",
       "      <td>361500</td>\n",
       "      <td>200</td>\n",
       "    </tr>\n",
       "  </tbody>\n",
       "</table>\n",
       "<p>5 rows × 40 columns</p>\n",
       "</div>"
      ],
      "text/plain": [
       "   ask_price_1  ask_size_1  bid_price_1  bid_size_1  ask_price_2  ask_size_2  \\\n",
       "0       367300        4000       365200         400       367500         200   \n",
       "1       367300        4000       365200         400       367500         200   \n",
       "2       367300        4000       365200         100       367500         200   \n",
       "3       367300        4000       365200         100       367500         200   \n",
       "4       367300        4000       365200         100       367500         200   \n",
       "\n",
       "   bid_price_2  bid_size_2  ask_price_3  ask_size_3  ...  bid_price_8  \\\n",
       "0       364800         300       367900         300  ...       361800   \n",
       "1       364800         300       367900         300  ...       361800   \n",
       "2       364800         300       367900         300  ...       361800   \n",
       "3       364800         300       367900         300  ...       362900   \n",
       "4       364800         300       367900         300  ...       362900   \n",
       "\n",
       "   bid_size_8  ask_price_9  ask_size_9  bid_price_9  bid_size_9  ask_price_10  \\\n",
       "0         200       372900        1000       361500         200        373400   \n",
       "1         200       372900        1000       361500         200        373400   \n",
       "2         200       372900        1000       361500         200        373400   \n",
       "3         200       372900        1000       361800         200        373400   \n",
       "4         200       372900        1000       361800         200        373400   \n",
       "\n",
       "   ask_size_10  bid_price_10  bid_size_10  \n",
       "0         2500        360800          200  \n",
       "1         2500        360800          200  \n",
       "2         2500        360800          200  \n",
       "3         2500        361500          200  \n",
       "4         2500        361500          200  \n",
       "\n",
       "[5 rows x 40 columns]"
      ]
     },
     "execution_count": 3,
     "metadata": {},
     "output_type": "execute_result"
    }
   ],
   "source": [
    "def get_data(path, num_files_to_choose=np.inf):\n",
    "    all_files = glob.glob(path + \"/*orderbook_10.csv\")\n",
    "    all_files.sort()\n",
    "    i = min(num_files_to_choose, len(all_files))\n",
    "    orderbooks = []\n",
    "    for filename in all_files[:i]:\n",
    "        df = pd.read_csv(filename, index_col=None, header=None)\n",
    "        orderbooks.append(df)\n",
    "    orderbook = pd.concat(orderbooks, axis=0, ignore_index=True)\n",
    "    col_names = ['ask_price_', 'ask_size_', 'bid_price_', 'bid_size_']\n",
    "    nums = map(str, range(1,11))\n",
    "    orderbook.columns = [y + x for x in nums for y in col_names]\n",
    "    return orderbook\n",
    "data = get_data(path=PATH, num_files_to_choose=3)\n",
    "data.head()"
   ]
  },
  {
   "cell_type": "code",
   "execution_count": 4,
   "metadata": {
    "pycharm": {
     "name": "#%%\n"
    }
   },
   "outputs": [
    {
     "data": {
      "text/html": [
       "<div>\n",
       "<style scoped>\n",
       "    .dataframe tbody tr th:only-of-type {\n",
       "        vertical-align: middle;\n",
       "    }\n",
       "\n",
       "    .dataframe tbody tr th {\n",
       "        vertical-align: top;\n",
       "    }\n",
       "\n",
       "    .dataframe thead th {\n",
       "        text-align: right;\n",
       "    }\n",
       "</style>\n",
       "<table border=\"1\" class=\"dataframe\">\n",
       "  <thead>\n",
       "    <tr style=\"text-align: right;\">\n",
       "      <th></th>\n",
       "      <th>ask_price_1</th>\n",
       "      <th>ask_size_1</th>\n",
       "      <th>bid_price_1</th>\n",
       "      <th>bid_size_1</th>\n",
       "      <th>ask_price_2</th>\n",
       "      <th>ask_size_2</th>\n",
       "      <th>bid_price_2</th>\n",
       "      <th>bid_size_2</th>\n",
       "      <th>ask_price_3</th>\n",
       "      <th>ask_size_3</th>\n",
       "      <th>...</th>\n",
       "      <th>bid_price_8</th>\n",
       "      <th>bid_size_8</th>\n",
       "      <th>ask_price_9</th>\n",
       "      <th>ask_size_9</th>\n",
       "      <th>bid_price_9</th>\n",
       "      <th>bid_size_9</th>\n",
       "      <th>ask_price_10</th>\n",
       "      <th>ask_size_10</th>\n",
       "      <th>bid_price_10</th>\n",
       "      <th>bid_size_10</th>\n",
       "    </tr>\n",
       "  </thead>\n",
       "  <tbody>\n",
       "    <tr>\n",
       "      <th>0</th>\n",
       "      <td>1.641743</td>\n",
       "      <td>-0.076267</td>\n",
       "      <td>1.171577</td>\n",
       "      <td>-0.753204</td>\n",
       "      <td>1.665477</td>\n",
       "      <td>-1.888278</td>\n",
       "      <td>1.100263</td>\n",
       "      <td>-0.914844</td>\n",
       "      <td>1.736729</td>\n",
       "      <td>-1.84804</td>\n",
       "      <td>...</td>\n",
       "      <td>0.529661</td>\n",
       "      <td>-0.579836</td>\n",
       "      <td>2.781734</td>\n",
       "      <td>-0.951862</td>\n",
       "      <td>0.482117</td>\n",
       "      <td>-0.62744</td>\n",
       "      <td>2.876673</td>\n",
       "      <td>-0.219309</td>\n",
       "      <td>0.339465</td>\n",
       "      <td>-0.559228</td>\n",
       "    </tr>\n",
       "    <tr>\n",
       "      <th>1</th>\n",
       "      <td>1.641743</td>\n",
       "      <td>-0.076267</td>\n",
       "      <td>1.171577</td>\n",
       "      <td>-0.753204</td>\n",
       "      <td>1.665477</td>\n",
       "      <td>-1.888278</td>\n",
       "      <td>1.100263</td>\n",
       "      <td>-0.914844</td>\n",
       "      <td>1.736729</td>\n",
       "      <td>-1.84804</td>\n",
       "      <td>...</td>\n",
       "      <td>0.529661</td>\n",
       "      <td>-0.579836</td>\n",
       "      <td>2.781734</td>\n",
       "      <td>-0.951862</td>\n",
       "      <td>0.482117</td>\n",
       "      <td>-0.62744</td>\n",
       "      <td>2.876673</td>\n",
       "      <td>-0.219309</td>\n",
       "      <td>0.339465</td>\n",
       "      <td>-0.559228</td>\n",
       "    </tr>\n",
       "    <tr>\n",
       "      <th>2</th>\n",
       "      <td>1.641743</td>\n",
       "      <td>-0.076267</td>\n",
       "      <td>1.171577</td>\n",
       "      <td>-0.813901</td>\n",
       "      <td>1.665477</td>\n",
       "      <td>-1.888278</td>\n",
       "      <td>1.100263</td>\n",
       "      <td>-0.914844</td>\n",
       "      <td>1.736729</td>\n",
       "      <td>-1.84804</td>\n",
       "      <td>...</td>\n",
       "      <td>0.529661</td>\n",
       "      <td>-0.579836</td>\n",
       "      <td>2.781734</td>\n",
       "      <td>-0.951862</td>\n",
       "      <td>0.482117</td>\n",
       "      <td>-0.62744</td>\n",
       "      <td>2.876673</td>\n",
       "      <td>-0.219309</td>\n",
       "      <td>0.339465</td>\n",
       "      <td>-0.559228</td>\n",
       "    </tr>\n",
       "    <tr>\n",
       "      <th>3</th>\n",
       "      <td>1.641743</td>\n",
       "      <td>-0.076267</td>\n",
       "      <td>1.171577</td>\n",
       "      <td>-0.813901</td>\n",
       "      <td>1.665477</td>\n",
       "      <td>-1.888278</td>\n",
       "      <td>1.100263</td>\n",
       "      <td>-0.914844</td>\n",
       "      <td>1.736729</td>\n",
       "      <td>-1.84804</td>\n",
       "      <td>...</td>\n",
       "      <td>0.791232</td>\n",
       "      <td>-0.579836</td>\n",
       "      <td>2.781734</td>\n",
       "      <td>-0.951862</td>\n",
       "      <td>0.553455</td>\n",
       "      <td>-0.62744</td>\n",
       "      <td>2.876673</td>\n",
       "      <td>-0.219309</td>\n",
       "      <td>0.505915</td>\n",
       "      <td>-0.559228</td>\n",
       "    </tr>\n",
       "    <tr>\n",
       "      <th>4</th>\n",
       "      <td>1.641743</td>\n",
       "      <td>-0.076267</td>\n",
       "      <td>1.171577</td>\n",
       "      <td>-0.813901</td>\n",
       "      <td>1.665477</td>\n",
       "      <td>-1.888278</td>\n",
       "      <td>1.100263</td>\n",
       "      <td>-0.914844</td>\n",
       "      <td>1.736729</td>\n",
       "      <td>-1.84804</td>\n",
       "      <td>...</td>\n",
       "      <td>0.791232</td>\n",
       "      <td>-0.579836</td>\n",
       "      <td>2.781734</td>\n",
       "      <td>-0.951862</td>\n",
       "      <td>0.553455</td>\n",
       "      <td>-0.62744</td>\n",
       "      <td>2.876673</td>\n",
       "      <td>-0.219309</td>\n",
       "      <td>0.505915</td>\n",
       "      <td>-0.559228</td>\n",
       "    </tr>\n",
       "  </tbody>\n",
       "</table>\n",
       "<p>5 rows × 40 columns</p>\n",
       "</div>"
      ],
      "text/plain": [
       "   ask_price_1  ask_size_1  bid_price_1  bid_size_1  ask_price_2  ask_size_2  \\\n",
       "0     1.641743   -0.076267     1.171577   -0.753204     1.665477   -1.888278   \n",
       "1     1.641743   -0.076267     1.171577   -0.753204     1.665477   -1.888278   \n",
       "2     1.641743   -0.076267     1.171577   -0.813901     1.665477   -1.888278   \n",
       "3     1.641743   -0.076267     1.171577   -0.813901     1.665477   -1.888278   \n",
       "4     1.641743   -0.076267     1.171577   -0.813901     1.665477   -1.888278   \n",
       "\n",
       "   bid_price_2  bid_size_2  ask_price_3  ask_size_3  ...  bid_price_8  \\\n",
       "0     1.100263   -0.914844     1.736729    -1.84804  ...     0.529661   \n",
       "1     1.100263   -0.914844     1.736729    -1.84804  ...     0.529661   \n",
       "2     1.100263   -0.914844     1.736729    -1.84804  ...     0.529661   \n",
       "3     1.100263   -0.914844     1.736729    -1.84804  ...     0.791232   \n",
       "4     1.100263   -0.914844     1.736729    -1.84804  ...     0.791232   \n",
       "\n",
       "   bid_size_8  ask_price_9  ask_size_9  bid_price_9  bid_size_9  ask_price_10  \\\n",
       "0   -0.579836     2.781734   -0.951862     0.482117    -0.62744      2.876673   \n",
       "1   -0.579836     2.781734   -0.951862     0.482117    -0.62744      2.876673   \n",
       "2   -0.579836     2.781734   -0.951862     0.482117    -0.62744      2.876673   \n",
       "3   -0.579836     2.781734   -0.951862     0.553455    -0.62744      2.876673   \n",
       "4   -0.579836     2.781734   -0.951862     0.553455    -0.62744      2.876673   \n",
       "\n",
       "   ask_size_10  bid_price_10  bid_size_10  \n",
       "0    -0.219309      0.339465    -0.559228  \n",
       "1    -0.219309      0.339465    -0.559228  \n",
       "2    -0.219309      0.339465    -0.559228  \n",
       "3    -0.219309      0.505915    -0.559228  \n",
       "4    -0.219309      0.505915    -0.559228  \n",
       "\n",
       "[5 rows x 40 columns]"
      ]
     },
     "execution_count": 4,
     "metadata": {},
     "output_type": "execute_result"
    }
   ],
   "source": [
    "def normalise_data(data):\n",
    "    normalised_data = data.apply(zscore)\n",
    "    return normalised_data\n",
    "normalised_data = normalise_data(data)\n",
    "normalised_data.head()"
   ]
  },
  {
   "cell_type": "code",
   "execution_count": 5,
   "metadata": {
    "pycharm": {
     "name": "#%%\n"
    }
   },
   "outputs": [],
   "source": [
    "# smoothed labelling of the midprice/ K is the prediction horizon\n",
    "def smooth_midprice_using_k_lookahead(normalised_data, k):\n",
    "    normalised_data['midprice'] = (normalised_data.ask_price_1+normalised_data.bid_price_1)/2\n",
    "    # mean of previous k mid-prices\n",
    "    normalised_data['m_minus'] = normalised_data['midprice'].rolling(window=k).mean()\n",
    "    # mean of next k mid-prices\n",
    "    normalised_data['m_plus'] = normalised_data['midprice'][::-1].rolling(window=k).mean()[::-1]\n",
    "    return normalised_data\n",
    "normalised_data = smooth_midprice_using_k_lookahead(normalised_data, k=K)"
   ]
  },
  {
   "cell_type": "code",
   "execution_count": 6,
   "metadata": {
    "pycharm": {
     "name": "#%%\n"
    }
   },
   "outputs": [],
   "source": [
    "# label the smoothed mid-prices based on a threshold/ ALPHA is the threshold \n",
    "def create_midprice_labels(normalised_data):\n",
    "    normalised_data['change'] = (normalised_data.m_plus - normalised_data.m_minus)/normalised_data.m_minus\n",
    "    # assign categories up, down, stationary\n",
    "    normalised_data['label'] = pd.cut(normalised_data.change, bins=[-np.inf, -ALPHA, ALPHA, np.inf], \n",
    "                                    labels=['down', 'stationary', 'up'])\n",
    "    # drop all unlabelled values (will be first and last k values as they have no m_minus/m_plus value)\n",
    "    normalised_data.dropna(inplace=True)\n",
    "    return normalised_data\n",
    "normalised_data = create_midprice_labels(normalised_data)"
   ]
  },
  {
   "cell_type": "code",
   "execution_count": 7,
   "metadata": {
    "pycharm": {
     "name": "#%%\n"
    }
   },
   "outputs": [
    {
     "name": "stdout",
     "output_type": "stream",
     "text": [
      "Training input shape: (23017, 100, 40, 1)\n",
      "Test input shape: (7673, 100, 40, 1)\n",
      "Training output shape: (23017, 3)\n",
      "Test input shape: (7673, 3)\n"
     ]
    }
   ],
   "source": [
    "# split into train and test data\n",
    "N = len(normalised_data) - len(normalised_data)%100\n",
    "def reshape_and_categorise_data(normalised_data, n):\n",
    "    data = normalised_data[:n]\n",
    "    cols = data.columns.to_list()[:40]\n",
    "    input_data = data[cols]\n",
    "    input_array = input_data.to_numpy().reshape(n//100,100,40,1)\n",
    "\n",
    "    output_data = data.label.to_numpy()[::-100][::-1]\n",
    "    integer_encoded = output_data.reshape(len(output_data), 1)\n",
    "    output_array = onehot_encoder.fit_transform(integer_encoded)\n",
    "    X_train, X_test, y_train, y_test = train_test_split(input_array, output_array, shuffle=False)\n",
    "    return X_train, X_test, y_train, y_test\n",
    "X_train, X_test, y_train, y_test = reshape_and_categorise_data(normalised_data, N)\n",
    "print(\"Training input shape:\",X_train.shape)\n",
    "print(\"Test input shape:\", X_test.shape)\n",
    "print(\"Training output shape:\", y_train.shape)\n",
    "print(\"Test input shape:\", y_test.shape)"
   ]
  },
  {
   "cell_type": "code",
   "execution_count": 8,
   "metadata": {
    "pycharm": {
     "name": "#%%\n"
    }
   },
   "outputs": [
    {
     "name": "stdout",
     "output_type": "stream",
     "text": [
      "{0: 'down', 2: 'up', 1: 'stationary'}\n"
     ]
    }
   ],
   "source": [
    "# mapping of labels to one hot encoding\n",
    "encodings = [[1,0,0],[0,0,1],[0,1,0]]\n",
    "onehot_encoder.inverse_transform([encodings[0]]).tolist()[0][0]\n",
    "mapping = {np.argmax(key):onehot_encoder.inverse_transform([key]).tolist()[0][0] for key in encodings}\n",
    "print(mapping)"
   ]
  },
  {
   "cell_type": "markdown",
   "metadata": {
    "pycharm": {
     "name": "#%% md\n"
    }
   },
   "source": [
    "## Build and compile the model"
   ]
  },
  {
   "cell_type": "code",
   "execution_count": 18,
   "metadata": {
    "pycharm": {
     "name": "#%%\n"
    }
   },
   "outputs": [
    {
     "name": "stdout",
     "output_type": "stream",
     "text": [
      "_________________________________________________________________\n",
      "Layer (type)                 Output Shape              Param #   \n",
      "=================================================================\n",
      "conv2d_12 (Conv2D)           (None, 97, 1, 16)         2576      \n",
      "_________________________________________________________________\n",
      "conv2d_13 (Conv2D)           (None, 97, 1, 16)         272       \n",
      "_________________________________________________________________\n",
      "conv2d_14 (Conv2D)           (None, 94, 1, 32)         2080      \n",
      "_________________________________________________________________\n",
      "max_pooling2d_6 (MaxPooling2 (None, 47, 1, 32)         0         \n",
      "_________________________________________________________________\n",
      "conv2d_15 (Conv2D)           (None, 45, 1, 32)         3104      \n",
      "_________________________________________________________________\n",
      "max_pooling2d_7 (MaxPooling2 (None, 22, 1, 32)         0         \n",
      "_________________________________________________________________\n",
      "time_distributed_2 (TimeDist (None, 22, 32)            0         \n",
      "_________________________________________________________________\n",
      "lstm_3 (LSTM)                (None, 100)               53200     \n",
      "_________________________________________________________________\n",
      "dropout_3 (Dropout)          (None, 100)               0         \n",
      "_________________________________________________________________\n",
      "dense_3 (Dense)              (None, 3)                 303       \n",
      "=================================================================\n",
      "Total params: 61,535\n",
      "Trainable params: 61,535\n",
      "Non-trainable params: 0\n",
      "_________________________________________________________________\n"
     ]
    }
   ],
   "source": [
    "def create_model():\n",
    "    # convolutional layers\n",
    "    model = keras.Sequential()\n",
    "    model.add(keras.layers.Conv2D(16, kernel_size=(4, 40), strides=(1, 1),data_format='channels_last',activation='relu',\n",
    "                     input_shape=(100,40,1)))\n",
    "    model.add(keras.layers.Conv2D(16, kernel_size=(1,1),strides=(1,1),data_format='channels_last',activation='relu'))\n",
    "    #model.add(MaxPooling2D(pool_size=(2,1), strides=2))\n",
    "    model.add(keras.layers.Conv2D(32,kernel_size=(4,1), strides=(1,1),data_format='channels_last',activation='relu'))\n",
    "    model.add(keras.layers.MaxPooling2D(pool_size=(2,1), strides=2))\n",
    "    model.add(keras.layers.Conv2D(32,kernel_size=(3,1), strides=(1,1),data_format='channels_last',activation='relu'))\n",
    "    model.add(keras.layers.MaxPooling2D(pool_size=(2,1), strides=2))\n",
    "    model.add(keras.layers.TimeDistributed(keras.layers.Flatten()))\n",
    "    model.add(keras.layers.LSTM(100,kernel_regularizer=keras.regularizers.l2(0.01),return_sequences=False,activation='relu'))\n",
    "    #model.add(BatchNormalization(momentum=0.9))\n",
    "    model.add(keras.layers.Dropout(0.20))\n",
    "    model.add(keras.layers.Dense(3, activation='softmax'))\n",
    "\n",
    "    # compile model and summarize\n",
    "    adam = keras.optimizers.Adam(lr=0.01, epsilon=1)\n",
    "    model.compile(optimizer=adam, loss='categorical_crossentropy', metrics=['accuracy'])\n",
    "    model.summary()\n",
    "    return model\n",
    "model = create_model()"
   ]
  },
  {
   "cell_type": "code",
   "execution_count": 19,
   "metadata": {
    "pycharm": {
     "name": "#%%\n"
    }
   },
   "outputs": [
    {
     "name": "stdout",
     "output_type": "stream",
     "text": [
      "Batch size:100, K:10\n",
      "Train on 18413 samples, validate on 4604 samples\n",
      "Epoch 1/50\n",
      "18413/18413 [==============================] - 18s 968us/sample - loss: 1.5367 - acc: 0.8216 - val_loss: 1.3857 - val_acc: 0.8792\n",
      "Epoch 2/50\n",
      "18413/18413 [==============================] - 16s 876us/sample - loss: 1.1502 - acc: 0.8673 - val_loss: 1.1788 - val_acc: 0.8792\n",
      "Epoch 3/50\n",
      "18413/18413 [==============================] - 16s 875us/sample - loss: 1.0628 - acc: 0.8673 - val_loss: 1.0881 - val_acc: 0.8792\n",
      "Epoch 4/50\n",
      "18413/18413 [==============================] - 16s 882us/sample - loss: 1.0206 - acc: 0.8673 - val_loss: 1.0339 - val_acc: 0.8792\n",
      "Epoch 5/50\n",
      "18413/18413 [==============================] - 17s 899us/sample - loss: 0.9861 - acc: 0.8673 - val_loss: 0.9869 - val_acc: 0.8792\n",
      "Epoch 6/50\n",
      "18413/18413 [==============================] - 15s 826us/sample - loss: 0.9539 - acc: 0.8672 - val_loss: 0.9528 - val_acc: 0.8792\n",
      "Epoch 7/50\n",
      "18413/18413 [==============================] - 16s 850us/sample - loss: 0.9246 - acc: 0.8673 - val_loss: 0.9188 - val_acc: 0.8792\n",
      "Epoch 8/50\n",
      "18413/18413 [==============================] - 16s 853us/sample - loss: 0.8954 - acc: 0.8674 - val_loss: 0.8867 - val_acc: 0.8792\n",
      "Epoch 9/50\n",
      "18413/18413 [==============================] - 16s 843us/sample - loss: 0.8692 - acc: 0.8672 - val_loss: 0.8563 - val_acc: 0.8792\n",
      "Epoch 10/50\n",
      "18413/18413 [==============================] - 16s 844us/sample - loss: 0.8409 - acc: 0.8673 - val_loss: 0.8251 - val_acc: 0.8792\n",
      "Epoch 11/50\n",
      "18413/18413 [==============================] - 15s 823us/sample - loss: 0.8158 - acc: 0.8673 - val_loss: 0.8010 - val_acc: 0.8792\n",
      "Epoch 12/50\n",
      "18413/18413 [==============================] - 16s 853us/sample - loss: 0.7921 - acc: 0.8673 - val_loss: 0.7722 - val_acc: 0.8792\n",
      "Epoch 13/50\n",
      "18413/18413 [==============================] - 16s 844us/sample - loss: 0.7690 - acc: 0.8673 - val_loss: 0.7498 - val_acc: 0.8792\n",
      "Epoch 14/50\n",
      "18413/18413 [==============================] - 16s 849us/sample - loss: 0.7486 - acc: 0.8673 - val_loss: 0.7276 - val_acc: 0.8792\n",
      "Epoch 15/50\n",
      "18413/18413 [==============================] - 16s 845us/sample - loss: 0.7275 - acc: 0.8673 - val_loss: 0.7074 - val_acc: 0.8792\n",
      "Epoch 16/50\n",
      "18413/18413 [==============================] - 16s 863us/sample - loss: 0.7093 - acc: 0.8673 - val_loss: 0.6879 - val_acc: 0.8792\n",
      "Epoch 17/50\n",
      "18413/18413 [==============================] - 15s 833us/sample - loss: 0.6912 - acc: 0.8673 - val_loss: 0.6730 - val_acc: 0.8792\n",
      "Epoch 18/50\n",
      "18413/18413 [==============================] - 16s 853us/sample - loss: 0.6747 - acc: 0.8673 - val_loss: 0.6562 - val_acc: 0.8792\n",
      "Epoch 19/50\n",
      "18413/18413 [==============================] - 16s 864us/sample - loss: 0.6601 - acc: 0.8673 - val_loss: 0.6407 - val_acc: 0.8792\n",
      "Epoch 20/50\n",
      "18413/18413 [==============================] - 16s 869us/sample - loss: 0.6446 - acc: 0.8673 - val_loss: 0.6275 - val_acc: 0.8792\n",
      "Epoch 21/50\n",
      "18413/18413 [==============================] - 16s 866us/sample - loss: 0.6307 - acc: 0.8673 - val_loss: 0.6152 - val_acc: 0.8792\n",
      "Epoch 22/50\n",
      "18413/18413 [==============================] - 15s 826us/sample - loss: 0.6189 - acc: 0.8674 - val_loss: 0.6040 - val_acc: 0.8792\n",
      "Epoch 23/50\n",
      "18413/18413 [==============================] - 16s 849us/sample - loss: 0.6079 - acc: 0.8673 - val_loss: 0.5953 - val_acc: 0.8792\n",
      "Epoch 24/50\n",
      "18413/18413 [==============================] - 16s 859us/sample - loss: 0.5962 - acc: 0.8674 - val_loss: 0.5835 - val_acc: 0.8792\n",
      "Epoch 25/50\n",
      "18413/18413 [==============================] - 16s 854us/sample - loss: 0.5852 - acc: 0.8673 - val_loss: 0.5742 - val_acc: 0.8792\n",
      "Epoch 26/50\n",
      "18413/18413 [==============================] - 16s 849us/sample - loss: 0.5750 - acc: 0.8674 - val_loss: 0.5645 - val_acc: 0.8792\n",
      "Epoch 27/50\n",
      "18413/18413 [==============================] - 16s 850us/sample - loss: 0.5662 - acc: 0.8673 - val_loss: 0.5541 - val_acc: 0.8792\n",
      "Epoch 28/50\n",
      "18413/18413 [==============================] - 18s 967us/sample - loss: 0.5547 - acc: 0.8674 - val_loss: 0.5479 - val_acc: 0.8792\n",
      "Epoch 29/50\n",
      "18413/18413 [==============================] - 21s 1ms/sample - loss: 0.5452 - acc: 0.8673 - val_loss: 0.5425 - val_acc: 0.8792\n",
      "Epoch 30/50\n",
      "18413/18413 [==============================] - 18s 996us/sample - loss: 0.5354 - acc: 0.8673 - val_loss: 0.5370 - val_acc: 0.8792\n",
      "Epoch 31/50\n",
      "18413/18413 [==============================] - 16s 876us/sample - loss: 0.5264 - acc: 0.8673 - val_loss: 0.5316 - val_acc: 0.8792\n",
      "Epoch 32/50\n",
      "18413/18413 [==============================] - 17s 899us/sample - loss: 0.5172 - acc: 0.8674 - val_loss: 0.5272 - val_acc: 0.8792\n",
      "Epoch 33/50\n",
      "18413/18413 [==============================] - 19s 1ms/sample - loss: 0.5087 - acc: 0.8675 - val_loss: 0.5235 - val_acc: 0.8792\n",
      "Epoch 34/50\n",
      "18413/18413 [==============================] - 19s 1ms/sample - loss: 0.5013 - acc: 0.8674 - val_loss: 0.5213 - val_acc: 0.8792\n",
      "Epoch 35/50\n",
      "18413/18413 [==============================] - 18s 977us/sample - loss: 0.4959 - acc: 0.8673 - val_loss: 0.5173 - val_acc: 0.8792\n",
      "Epoch 36/50\n",
      "18413/18413 [==============================] - 18s 982us/sample - loss: 0.4893 - acc: 0.8673 - val_loss: 0.5143 - val_acc: 0.8792\n",
      "Epoch 37/50\n",
      "18413/18413 [==============================] - 16s 884us/sample - loss: 0.4845 - acc: 0.8675 - val_loss: 0.5114 - val_acc: 0.8792\n",
      "Epoch 38/50\n",
      "18413/18413 [==============================] - 18s 981us/sample - loss: 0.4788 - acc: 0.8675 - val_loss: 0.5069 - val_acc: 0.8792\n",
      "Epoch 39/50\n",
      "18413/18413 [==============================] - 16s 879us/sample - loss: 0.4742 - acc: 0.8673 - val_loss: 0.5047 - val_acc: 0.8792\n",
      "Epoch 40/50\n",
      "18413/18413 [==============================] - 16s 871us/sample - loss: 0.4681 - acc: 0.8673 - val_loss: 0.5022 - val_acc: 0.8792\n",
      "Epoch 41/50\n",
      "18413/18413 [==============================] - 16s 878us/sample - loss: 0.4647 - acc: 0.8674 - val_loss: 0.4989 - val_acc: 0.8792\n",
      "Epoch 42/50\n",
      "18413/18413 [==============================] - 17s 920us/sample - loss: 0.4606 - acc: 0.8673 - val_loss: 0.4986 - val_acc: 0.8792\n",
      "Epoch 43/50\n",
      "18413/18413 [==============================] - 16s 869us/sample - loss: 0.4576 - acc: 0.8675 - val_loss: 0.5000 - val_acc: 0.8792\n",
      "Epoch 44/50\n",
      "18413/18413 [==============================] - 15s 839us/sample - loss: 0.4545 - acc: 0.8675 - val_loss: 0.4978 - val_acc: 0.8792\n",
      "Epoch 45/50\n",
      "18413/18413 [==============================] - 16s 850us/sample - loss: 0.4489 - acc: 0.8675 - val_loss: 0.5001 - val_acc: 0.8792\n",
      "Epoch 46/50\n",
      "18413/18413 [==============================] - 16s 848us/sample - loss: 0.4442 - acc: 0.8676 - val_loss: 0.4978 - val_acc: 0.8792\n",
      "Epoch 47/50\n",
      "18413/18413 [==============================] - 16s 857us/sample - loss: 0.4424 - acc: 0.8674 - val_loss: 0.4992 - val_acc: 0.8792\n",
      "Epoch 48/50\n",
      "18413/18413 [==============================] - 16s 856us/sample - loss: 0.4393 - acc: 0.8674 - val_loss: 0.4973 - val_acc: 0.8792\n",
      "Epoch 49/50\n",
      "18413/18413 [==============================] - 15s 841us/sample - loss: 0.4350 - acc: 0.8674 - val_loss: 0.4979 - val_acc: 0.8792\n",
      "Epoch 50/50\n",
      "18413/18413 [==============================] - 16s 865us/sample - loss: 0.4323 - acc: 0.8675 - val_loss: 0.5056 - val_acc: 0.8792\n",
      "7673/7673 [==============================] - 2s 262us/sample - loss: 0.5251 - acc: 0.8818\n",
      "Accuracy is 88.17933201789856%\n"
     ]
    }
   ],
   "source": [
    "def fit_and_evaluate_model(model, X_train, X_test, y_train, y_test):\n",
    "    print(\"Batch size:{}, K:{}\".format(BATCH_SIZE, K))\n",
    "    history = model.fit(X_train, y_train, epochs=EPOCHS, batch_size=BATCH_SIZE, validation_split=VALIDATION_SPLIT)\n",
    "    score, accuracy = model.evaluate(X_test, y_test, batch_size=BATCH_SIZE)\n",
    "    print(\"Accuracy is {}%\".format(accuracy*100))\n",
    "    return accuracy*100, history\n",
    "accuracy, history = fit_and_evaluate_model(model, X_train, X_test, y_train, y_test)"
   ]
  },
  {
   "cell_type": "code",
   "execution_count": 16,
   "metadata": {
    "pycharm": {
     "name": "#%%\n"
    }
   },
   "outputs": [
    {
     "data": {
      "image/png": "[encoded data removed]",
      "text/plain": [
       "<Figure size 1080x720 with 2 Axes>"
      ]
     },
     "metadata": {
      "needs_background": "light"
     },
     "output_type": "display_data"
    }
   ],
   "source": [
    "def plots(history):\n",
    "    plt.figure(figsize=(15,10))\n",
    "    plt.subplot(2,1,1)\n",
    "    plt.plot(history.history['loss'],'b--',lw=2,label='train_loss')\n",
    "    plt.plot(history.history['val_loss'],'g-',lw=2,label='val_loss')\n",
    "    plt.legend()\n",
    "    # plt.ylim([.5,1.3])\n",
    "    plt.xlabel('Number of epochs')\n",
    "    plt.ylabel('Loss')\n",
    "    plt.subplot(2,1,2)\n",
    "    plt.plot(history.history['acc'],'b--',lw=2,label='train_acc')\n",
    "    plt.plot(history.history['val_acc'],'g-',lw=2,label='val_acc')\n",
    "    plt.legend()\n",
    "    # plt.ylim([.2,1.0])\n",
    "    plt.xlabel('Number of epochs')\n",
    "    plt.ylabel('Accuracy')\n",
    "    plt.show()\n",
    "plots(history)"
   ]
  },
  {
   "cell_type": "markdown",
   "metadata": {
    "pycharm": {
     "name": "#%% md\n"
    }
   },
   "source": [
    "## Evaluate performance"
   ]
  },
  {
   "cell_type": "code",
   "execution_count": 17,
   "metadata": {
    "pycharm": {
     "name": "#%%\n"
    }
   },
   "outputs": [
    {
     "name": "stdout",
     "output_type": "stream",
     "text": [
      "              precision    recall  f1-score   support\n",
      "\n",
      "        down       0.00      0.00      0.00         0\n",
      "  stationary       1.00      0.88      0.94      7673\n",
      "          up       0.00      0.00      0.00         0\n",
      "\n",
      "   micro avg       0.88      0.88      0.88      7673\n",
      "   macro avg       0.33      0.29      0.31      7673\n",
      "weighted avg       1.00      0.88      0.94      7673\n",
      "\n",
      "[[   0  427    0]\n",
      " [   0 6766    0]\n",
      " [   0  480    0]]\n"
     ]
    }
   ],
   "source": [
    "def get_report(model, X_test, y_test, X_train, y_train):\n",
    "    target_names = [mapping[i] for i in range(3)]\n",
    "    y_pred = model.predict(X_test)\n",
    "    y_pred_bool = np.argmax(y_pred, axis=1)\n",
    "    y_test_bool = np.argmax(y_test, axis=1)\n",
    "    print(classification_report(y_pred_bool, y_test_bool, target_names=target_names))\n",
    "    print(confusion_matrix(y_test_bool, y_pred_bool, labels=[0,1,2]))\n",
    "get_report(model, X_test, y_test, X_train, y_train)"
   ]
  }
 ],
 "metadata": {
  "kernelspec": {
   "display_name": "Python 3",
   "language": "python",
   "name": "python3"
  },
  "language_info": {
   "codemirror_mode": {
    "name": "ipython",
    "version": 3
   },
   "file_extension": ".py",
   "mimetype": "text/x-python",
   "name": "python",
   "nbconvert_exporter": "python",
   "pygments_lexer": "ipython3",
   "version": "3.7.3"
  }
 },
 "nbformat": 4,
 "nbformat_minor": 2
}