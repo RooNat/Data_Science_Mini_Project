{
 "cells": [
  {
   "cell_type": "code",
   "execution_count": 35,
   "metadata": {
    "pycharm": {
     "name": "#%%\n"
    }
   },
   "outputs": [],
   "source": [
    "import tensorflow as tf\n",
    "import pandas as pd\n",
    "import time\n",
    "from sklearn.preprocessing import MinMaxScaler"
   ]
  },
  {
   "cell_type": "code",
   "execution_count": 36,
   "metadata": {
    "pycharm": {
     "name": "#%%\n"
    }
   },
   "outputs": [],
   "source": [
    "message_data = pd.read_csv('/Users/tanvipotdar/Projects/LOBster/data_tqap/INTC_2015-01-01_2015-01-31_10/INTC_2015-01-02_34200000_57600000_message_10.csv', names=['time', 'event_type', 'order_id','size', 'price', 'direction'])\n",
    "orderbook = pd.read_csv('/Users/tanvipotdar/Projects/LOBster/data_tqap/INTC_2015-01-01_2015-01-31_10/INTC_2015-01-02_34200000_57600000_orderbook_10.csv')\n",
    "message_data.time = message_data.time.apply(lambda x: time.strftime('%H:%M:%S', time.gmtime(x)))\n",
    "orderbook['time'] = message_data.time\n",
    "orderbook['midprice'] = (orderbook.ask_price_1+orderbook.bid_price_1)/2"
   ]
  },
  {
   "cell_type": "code",
   "execution_count": 37,
   "metadata": {
    "pycharm": {
     "name": "#%%\n"
    }
   },
   "outputs": [
    {
     "data": {
      "text/html": [
       "<div>\n",
       "<style scoped>\n",
       "    .dataframe tbody tr th:only-of-type {\n",
       "        vertical-align: middle;\n",
       "    }\n",
       "\n",
       "    .dataframe tbody tr th {\n",
       "        vertical-align: top;\n",
       "    }\n",
       "\n",
       "    .dataframe thead th {\n",
       "        text-align: right;\n",
       "    }\n",
       "</style>\n",
       "<table border=\"1\" class=\"dataframe\">\n",
       "  <thead>\n",
       "    <tr style=\"text-align: right;\">\n",
       "      <th></th>\n",
       "      <th>ask_price_1</th>\n",
       "      <th>ask_size_1</th>\n",
       "      <th>bid_price_1</th>\n",
       "      <th>bid_size_1</th>\n",
       "      <th>ask_price_2</th>\n",
       "      <th>ask_size_2</th>\n",
       "      <th>bid_price_2</th>\n",
       "      <th>bid_size_2</th>\n",
       "      <th>ask_price_3</th>\n",
       "      <th>ask_size_3</th>\n",
       "      <th>...</th>\n",
       "      <th>bid_price_8</th>\n",
       "      <th>bid_size_8</th>\n",
       "      <th>ask_price_9</th>\n",
       "      <th>ask_size_9</th>\n",
       "      <th>bid_price_9</th>\n",
       "      <th>bid_size_9</th>\n",
       "      <th>ask_price_10</th>\n",
       "      <th>ask_size_10</th>\n",
       "      <th>bid_price_10</th>\n",
       "      <th>bid_size_10</th>\n",
       "    </tr>\n",
       "    <tr>\n",
       "      <th>time</th>\n",
       "      <th></th>\n",
       "      <th></th>\n",
       "      <th></th>\n",
       "      <th></th>\n",
       "      <th></th>\n",
       "      <th></th>\n",
       "      <th></th>\n",
       "      <th></th>\n",
       "      <th></th>\n",
       "      <th></th>\n",
       "      <th></th>\n",
       "      <th></th>\n",
       "      <th></th>\n",
       "      <th></th>\n",
       "      <th></th>\n",
       "      <th></th>\n",
       "      <th></th>\n",
       "      <th></th>\n",
       "      <th></th>\n",
       "      <th></th>\n",
       "      <th></th>\n",
       "    </tr>\n",
       "  </thead>\n",
       "  <tbody>\n",
       "    <tr>\n",
       "      <th>09:30:00</th>\n",
       "      <td>367300</td>\n",
       "      <td>4000</td>\n",
       "      <td>365200</td>\n",
       "      <td>400</td>\n",
       "      <td>367500</td>\n",
       "      <td>200</td>\n",
       "      <td>364800</td>\n",
       "      <td>300</td>\n",
       "      <td>367900</td>\n",
       "      <td>300</td>\n",
       "      <td>...</td>\n",
       "      <td>361800</td>\n",
       "      <td>200</td>\n",
       "      <td>372900</td>\n",
       "      <td>1000</td>\n",
       "      <td>361500</td>\n",
       "      <td>200</td>\n",
       "      <td>373400</td>\n",
       "      <td>2500</td>\n",
       "      <td>360800</td>\n",
       "      <td>200</td>\n",
       "    </tr>\n",
       "    <tr>\n",
       "      <th>09:30:00</th>\n",
       "      <td>367300</td>\n",
       "      <td>4000</td>\n",
       "      <td>365200</td>\n",
       "      <td>100</td>\n",
       "      <td>367500</td>\n",
       "      <td>200</td>\n",
       "      <td>364800</td>\n",
       "      <td>300</td>\n",
       "      <td>367900</td>\n",
       "      <td>300</td>\n",
       "      <td>...</td>\n",
       "      <td>361800</td>\n",
       "      <td>200</td>\n",
       "      <td>372900</td>\n",
       "      <td>1000</td>\n",
       "      <td>361500</td>\n",
       "      <td>200</td>\n",
       "      <td>373400</td>\n",
       "      <td>2500</td>\n",
       "      <td>360800</td>\n",
       "      <td>200</td>\n",
       "    </tr>\n",
       "    <tr>\n",
       "      <th>09:30:00</th>\n",
       "      <td>367300</td>\n",
       "      <td>4000</td>\n",
       "      <td>365200</td>\n",
       "      <td>100</td>\n",
       "      <td>367500</td>\n",
       "      <td>200</td>\n",
       "      <td>364800</td>\n",
       "      <td>300</td>\n",
       "      <td>367900</td>\n",
       "      <td>300</td>\n",
       "      <td>...</td>\n",
       "      <td>362900</td>\n",
       "      <td>200</td>\n",
       "      <td>372900</td>\n",
       "      <td>1000</td>\n",
       "      <td>361800</td>\n",
       "      <td>200</td>\n",
       "      <td>373400</td>\n",
       "      <td>2500</td>\n",
       "      <td>361500</td>\n",
       "      <td>200</td>\n",
       "    </tr>\n",
       "    <tr>\n",
       "      <th>09:30:00</th>\n",
       "      <td>367300</td>\n",
       "      <td>4000</td>\n",
       "      <td>366700</td>\n",
       "      <td>100</td>\n",
       "      <td>367500</td>\n",
       "      <td>200</td>\n",
       "      <td>365200</td>\n",
       "      <td>100</td>\n",
       "      <td>367900</td>\n",
       "      <td>300</td>\n",
       "      <td>...</td>\n",
       "      <td>363000</td>\n",
       "      <td>100</td>\n",
       "      <td>372900</td>\n",
       "      <td>1000</td>\n",
       "      <td>362900</td>\n",
       "      <td>200</td>\n",
       "      <td>373400</td>\n",
       "      <td>2500</td>\n",
       "      <td>361800</td>\n",
       "      <td>200</td>\n",
       "    </tr>\n",
       "    <tr>\n",
       "      <th>09:30:00</th>\n",
       "      <td>367300</td>\n",
       "      <td>4000</td>\n",
       "      <td>366700</td>\n",
       "      <td>200</td>\n",
       "      <td>367500</td>\n",
       "      <td>200</td>\n",
       "      <td>365200</td>\n",
       "      <td>100</td>\n",
       "      <td>367900</td>\n",
       "      <td>300</td>\n",
       "      <td>...</td>\n",
       "      <td>363000</td>\n",
       "      <td>100</td>\n",
       "      <td>372900</td>\n",
       "      <td>1000</td>\n",
       "      <td>362900</td>\n",
       "      <td>200</td>\n",
       "      <td>373400</td>\n",
       "      <td>2500</td>\n",
       "      <td>361800</td>\n",
       "      <td>200</td>\n",
       "    </tr>\n",
       "  </tbody>\n",
       "</table>\n",
       "<p>5 rows × 40 columns</p>\n",
       "</div>"
      ],
      "text/plain": [
       "          ask_price_1  ask_size_1  bid_price_1  bid_size_1  ask_price_2  \\\n",
       "time                                                                      \n",
       "09:30:00       367300        4000       365200         400       367500   \n",
       "09:30:00       367300        4000       365200         100       367500   \n",
       "09:30:00       367300        4000       365200         100       367500   \n",
       "09:30:00       367300        4000       366700         100       367500   \n",
       "09:30:00       367300        4000       366700         200       367500   \n",
       "\n",
       "          ask_size_2  bid_price_2  bid_size_2  ask_price_3  ask_size_3  ...  \\\n",
       "time                                                                    ...   \n",
       "09:30:00         200       364800         300       367900         300  ...   \n",
       "09:30:00         200       364800         300       367900         300  ...   \n",
       "09:30:00         200       364800         300       367900         300  ...   \n",
       "09:30:00         200       365200         100       367900         300  ...   \n",
       "09:30:00         200       365200         100       367900         300  ...   \n",
       "\n",
       "          bid_price_8  bid_size_8  ask_price_9  ask_size_9  bid_price_9  \\\n",
       "time                                                                      \n",
       "09:30:00       361800         200       372900        1000       361500   \n",
       "09:30:00       361800         200       372900        1000       361500   \n",
       "09:30:00       362900         200       372900        1000       361800   \n",
       "09:30:00       363000         100       372900        1000       362900   \n",
       "09:30:00       363000         100       372900        1000       362900   \n",
       "\n",
       "          bid_size_9  ask_price_10  ask_size_10  bid_price_10  bid_size_10  \n",
       "time                                                                        \n",
       "09:30:00         200        373400         2500        360800          200  \n",
       "09:30:00         200        373400         2500        360800          200  \n",
       "09:30:00         200        373400         2500        361500          200  \n",
       "09:30:00         200        373400         2500        361800          200  \n",
       "09:30:00         200        373400         2500        361800          200  \n",
       "\n",
       "[5 rows x 40 columns]"
      ]
     },
     "execution_count": 37,
     "metadata": {},
     "output_type": "execute_result"
    }
   ],
   "source": [
    "orderbook.drop_duplicates(inplace=True)\n",
    "orderbook.set_index('time', inplace=True)\n",
    "x = orderbook.drop('midprice',axis=1)\n",
    "y = orderbook[['midprice']]\n",
    "x.head()"
   ]
  },
  {
   "cell_type": "code",
   "execution_count": 38,
   "metadata": {
    "pycharm": {
     "name": "#%%\n"
    }
   },
   "outputs": [
    {
     "name": "stderr",
     "output_type": "stream",
     "text": [
      "/Users/tanvipotdar/pyenvs/lob/lib/python3.7/site-packages/sklearn/preprocessing/data.py:334: DataConversionWarning: Data with input dtype int64 were all converted to float64 by MinMaxScaler.\n",
      "  return self.partial_fit(X, y)\n"
     ]
    },
    {
     "name": "stdout",
     "output_type": "stream",
     "text": [
      "[[0.58653846 0.08731632 0.39423077 ... 0.06422682 0.05769231 0.00470491]\n",
      " [0.58653846 0.08731632 0.39423077 ... 0.06422682 0.05769231 0.00470491]\n",
      " [0.58653846 0.08731632 0.39423077 ... 0.06422682 0.125      0.00470491]\n",
      " ...\n",
      " [0.84615385 0.06548178 0.83653846 ... 0.0280427  0.83653846 0.03222866]\n",
      " [0.84615385 0.06548178 0.83653846 ... 0.0280427  0.83653846 0.03222866]\n",
      " [0.84615385 0.06548178 0.83653846 ... 0.0280427  0.83653846 0.03222866]]\n"
     ]
    }
   ],
   "source": [
    "scaler = MinMaxScaler()\n",
    "x = scaler.fit_transform(x)\n",
    "y = scaler.fit_transform(y)\n",
    "x_train = x[:20000]\n",
    "y_train = y[:20000]\n",
    "x_test = x[20000:]\n",
    "y_test = y[20000:]\n",
    "print(x_train)"
   ]
  },
  {
   "cell_type": "code",
   "execution_count": 39,
   "metadata": {
    "pycharm": {
     "name": "#%%\n"
    }
   },
   "outputs": [],
   "source": [
    "model = tf.keras.Sequential()\n",
    "model.add(tf.keras.layers.Dense(12, kernel_initializer='normal', activation='relu'))\n",
    "model.add(tf.keras.layers.Dense(8, activation='relu'))\n",
    "model.add(tf.keras.layers.Dense(1, activation='linear'))\n",
    "model.compile(loss='mse', optimizer='adam', metrics=['mse','mae'])"
   ]
  },
  {
   "cell_type": "code",
   "execution_count": 40,
   "metadata": {
    "scrolled": true,
    "pycharm": {
     "name": "#%%\n"
    }
   },
   "outputs": [
    {
     "name": "stdout",
     "output_type": "stream",
     "text": [
      "Train on 16000 samples, validate on 4000 samples\n",
      "Epoch 1/10\n",
      "16000/16000 [==============================] - 17s 1ms/sample - loss: 9.3566e-04 - mean_squared_error: 9.3564e-04 - mean_absolute_error: 0.0053 - val_loss: 7.9739e-07 - val_mean_squared_error: 7.9739e-07 - val_mean_absolute_error: 7.1918e-04\n",
      "Epoch 2/10\n",
      "16000/16000 [==============================] - 16s 988us/sample - loss: 1.2550e-05 - mean_squared_error: 1.2550e-05 - mean_absolute_error: 0.0024 - val_loss: 1.4638e-06 - val_mean_squared_error: 1.4638e-06 - val_mean_absolute_error: 9.7244e-04\n",
      "Epoch 3/10\n",
      "16000/16000 [==============================] - 16s 991us/sample - loss: 1.0619e-05 - mean_squared_error: 1.0619e-05 - mean_absolute_error: 0.0022 - val_loss: 7.2871e-06 - val_mean_squared_error: 7.2871e-06 - val_mean_absolute_error: 0.0025\n",
      "Epoch 4/10\n",
      "16000/16000 [==============================] - 16s 988us/sample - loss: 9.5689e-06 - mean_squared_error: 9.5688e-06 - mean_absolute_error: 0.0020 - val_loss: 2.9071e-07 - val_mean_squared_error: 2.9071e-07 - val_mean_absolute_error: 3.9988e-04\n",
      "Epoch 5/10\n",
      "16000/16000 [==============================] - 16s 985us/sample - loss: 8.2883e-06 - mean_squared_error: 8.2883e-06 - mean_absolute_error: 0.0019 - val_loss: 1.5824e-06 - val_mean_squared_error: 1.5824e-06 - val_mean_absolute_error: 0.0010\n",
      "Epoch 6/10\n",
      "16000/16000 [==============================] - 16s 984us/sample - loss: 7.5489e-06 - mean_squared_error: 7.5489e-06 - mean_absolute_error: 0.0018 - val_loss: 4.0861e-07 - val_mean_squared_error: 4.0861e-07 - val_mean_absolute_error: 5.1865e-04\n",
      "Epoch 7/10\n",
      "16000/16000 [==============================] - 16s 994us/sample - loss: 7.1005e-06 - mean_squared_error: 7.1005e-06 - mean_absolute_error: 0.0017 - val_loss: 7.4208e-07 - val_mean_squared_error: 7.4208e-07 - val_mean_absolute_error: 7.2713e-04\n",
      "Epoch 8/10\n",
      "16000/16000 [==============================] - 16s 989us/sample - loss: 7.0348e-06 - mean_squared_error: 7.0347e-06 - mean_absolute_error: 0.0017 - val_loss: 4.6631e-07 - val_mean_squared_error: 4.6631e-07 - val_mean_absolute_error: 5.3031e-04\n",
      "Epoch 9/10\n",
      "16000/16000 [==============================] - 16s 991us/sample - loss: 6.2873e-06 - mean_squared_error: 6.2873e-06 - mean_absolute_error: 0.0016 - val_loss: 2.2687e-06 - val_mean_squared_error: 2.2687e-06 - val_mean_absolute_error: 0.0015\n",
      "Epoch 10/10\n",
      "16000/16000 [==============================] - 16s 986us/sample - loss: 6.3144e-06 - mean_squared_error: 6.3143e-06 - mean_absolute_error: 0.0016 - val_loss: 6.5540e-07 - val_mean_squared_error: 6.5540e-07 - val_mean_absolute_error: 6.6543e-04\n"
     ]
    }
   ],
   "source": [
    "history = model.fit(x_train, y_train, epochs=10, batch_size=1,  verbose=1, validation_split=0.2)"
   ]
  },
  {
   "cell_type": "code",
   "execution_count": 41,
   "metadata": {
    "pycharm": {
     "name": "#%%\n"
    }
   },
   "outputs": [
    {
     "data": {
      "image/png": "[encoded data removed]",
      "text/plain": [
       "<Figure size 432x288 with 1 Axes>"
      ]
     },
     "metadata": {
      "needs_background": "light"
     },
     "output_type": "display_data"
    }
   ],
   "source": [
    "import matplotlib.pyplot as plt\n",
    "plt.plot(history.history['loss'])\n",
    "plt.plot(history.history['val_loss'])\n",
    "plt.show()"
   ]
  },
  {
   "cell_type": "code",
   "execution_count": 42,
   "metadata": {
    "pycharm": {
     "name": "#%%\n"
    }
   },
   "outputs": [],
   "source": [
    "y_pred=model.predict(x_test)"
   ]
  },
  {
   "cell_type": "code",
   "execution_count": 43,
   "metadata": {
    "pycharm": {
     "name": "#%%\n"
    }
   },
   "outputs": [
    {
     "data": {
      "text/plain": [
       "0.00016013154892488898"
      ]
     },
     "execution_count": 43,
     "metadata": {},
     "output_type": "execute_result"
    }
   ],
   "source": [
    "from sklearn.metrics import mean_absolute_error, mean_squared_error\n",
    "mean_squared_error(y_pred, y_test)"
   ]
  },
  {
   "cell_type": "code",
   "execution_count": null,
   "metadata": {
    "pycharm": {
     "name": "#%%\n"
    }
   },
   "outputs": [],
   "source": []
  }
 ],
 "metadata": {
  "kernelspec": {
   "display_name": "Python 3",
   "language": "python",
   "name": "python3"
  },
  "language_info": {
   "codemirror_mode": {
    "name": "ipython",
    "version": 3
   },
   "file_extension": ".py",
   "mimetype": "text/x-python",
   "name": "python",
   "nbconvert_exporter": "python",
   "pygments_lexer": "ipython3",
   "version": "3.7.3"
  }
 },
 "nbformat": 4,
 "nbformat_minor": 2
}