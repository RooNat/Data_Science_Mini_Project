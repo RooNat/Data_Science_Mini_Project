{
 "cells": [
  {
   "cell_type": "code",
   "execution_count": 23,
   "metadata": {},
   "outputs": [],
   "source": [
    "import tensorflow as tf\n",
    "from tensorflow import keras\n",
    "import pandas as pd\n",
    "from datetime import datetime as dt\n",
    "import time\n",
    "import matplotlib.pyplot as plt\n",
    "from sklearn.preprocessing import MinMaxScaler\n",
    "from sklearn.metrics import r2_score"
   ]
  },
  {
   "cell_type": "code",
   "execution_count": 3,
   "metadata": {},
   "outputs": [],
   "source": [
    "message_data = pd.read_csv('/Users/tanvipotdar/Projects/LOBster/data_tqap/INTC_2015-01-01_2015-01-31_10/INTC_2015-01-02_34200000_57600000_message_10.csv', names=['time', 'event_type', 'order_id','size', 'price', 'direction'])\n",
    "orderbook = pd.read_csv('/Users/tanvipotdar/Projects/LOBster/data_tqap/INTC_2015-01-01_2015-01-31_10/INTC_2015-01-02_34200000_57600000_orderbook_10.csv')\n",
    "message_data.time = message_data.time.apply(lambda x: time.strftime('%H:%M:%S', time.gmtime(x)))"
   ]
  },
  {
   "cell_type": "code",
   "execution_count": 4,
   "metadata": {},
   "outputs": [],
   "source": [
    "orderbook['midprice'] = (orderbook.ask_price_1+orderbook.bid_price_1)/2\n",
    "orderbook['time'] = message_data.time"
   ]
  },
  {
   "cell_type": "code",
   "execution_count": 8,
   "metadata": {},
   "outputs": [
    {
     "data": {
      "text/html": [
       "<div>\n",
       "<style scoped>\n",
       "    .dataframe tbody tr th:only-of-type {\n",
       "        vertical-align: middle;\n",
       "    }\n",
       "\n",
       "    .dataframe tbody tr th {\n",
       "        vertical-align: top;\n",
       "    }\n",
       "\n",
       "    .dataframe thead th {\n",
       "        text-align: right;\n",
       "    }\n",
       "</style>\n",
       "<table border=\"1\" class=\"dataframe\">\n",
       "  <thead>\n",
       "    <tr style=\"text-align: right;\">\n",
       "      <th></th>\n",
       "      <th>midprice</th>\n",
       "    </tr>\n",
       "    <tr>\n",
       "      <th>time</th>\n",
       "      <th></th>\n",
       "    </tr>\n",
       "  </thead>\n",
       "  <tbody>\n",
       "    <tr>\n",
       "      <th>09:30:00</th>\n",
       "      <td>366250.0</td>\n",
       "    </tr>\n",
       "    <tr>\n",
       "      <th>09:30:00</th>\n",
       "      <td>367000.0</td>\n",
       "    </tr>\n",
       "    <tr>\n",
       "      <th>09:30:00</th>\n",
       "      <td>367050.0</td>\n",
       "    </tr>\n",
       "    <tr>\n",
       "      <th>09:30:00</th>\n",
       "      <td>366900.0</td>\n",
       "    </tr>\n",
       "    <tr>\n",
       "      <th>09:30:00</th>\n",
       "      <td>366850.0</td>\n",
       "    </tr>\n",
       "  </tbody>\n",
       "</table>\n",
       "</div>"
      ],
      "text/plain": [
       "          midprice\n",
       "time              \n",
       "09:30:00  366250.0\n",
       "09:30:00  367000.0\n",
       "09:30:00  367050.0\n",
       "09:30:00  366900.0\n",
       "09:30:00  366850.0"
      ]
     },
     "execution_count": 8,
     "metadata": {},
     "output_type": "execute_result"
    }
   ],
   "source": [
    "raw_data = orderbook[['time', 'midprice']].drop_duplicates().set_index('time')\n",
    "raw_data.head()"
   ]
  },
  {
   "cell_type": "code",
   "execution_count": 12,
   "metadata": {},
   "outputs": [
    {
     "data": {
      "text/html": [
       "<div>\n",
       "<style scoped>\n",
       "    .dataframe tbody tr th:only-of-type {\n",
       "        vertical-align: middle;\n",
       "    }\n",
       "\n",
       "    .dataframe tbody tr th {\n",
       "        vertical-align: top;\n",
       "    }\n",
       "\n",
       "    .dataframe thead th {\n",
       "        text-align: right;\n",
       "    }\n",
       "</style>\n",
       "<table border=\"1\" class=\"dataframe\">\n",
       "  <thead>\n",
       "    <tr style=\"text-align: right;\">\n",
       "      <th></th>\n",
       "      <th>midprice</th>\n",
       "    </tr>\n",
       "    <tr>\n",
       "      <th>time</th>\n",
       "      <th></th>\n",
       "    </tr>\n",
       "  </thead>\n",
       "  <tbody>\n",
       "    <tr>\n",
       "      <th>14:15:25</th>\n",
       "      <td>363450.0</td>\n",
       "    </tr>\n",
       "    <tr>\n",
       "      <th>14:15:26</th>\n",
       "      <td>363450.0</td>\n",
       "    </tr>\n",
       "    <tr>\n",
       "      <th>14:15:27</th>\n",
       "      <td>363450.0</td>\n",
       "    </tr>\n",
       "    <tr>\n",
       "      <th>14:15:28</th>\n",
       "      <td>363450.0</td>\n",
       "    </tr>\n",
       "    <tr>\n",
       "      <th>14:15:29</th>\n",
       "      <td>363450.0</td>\n",
       "    </tr>\n",
       "  </tbody>\n",
       "</table>\n",
       "</div>"
      ],
      "text/plain": [
       "          midprice\n",
       "time              \n",
       "14:15:25  363450.0\n",
       "14:15:26  363450.0\n",
       "14:15:27  363450.0\n",
       "14:15:28  363450.0\n",
       "14:15:29  363450.0"
      ]
     },
     "execution_count": 12,
     "metadata": {},
     "output_type": "execute_result"
    }
   ],
   "source": [
    "train = raw_data[:20000]\n",
    "test = raw_data[20001:]\n",
    "train.tail()"
   ]
  },
  {
   "cell_type": "code",
   "execution_count": 15,
   "metadata": {},
   "outputs": [],
   "source": [
    "scaler = MinMaxScaler()\n",
    "scaled_train = scaler.fit_transform(train)\n",
    "scaled_test = scaler.fit_transform(test)"
   ]
  },
  {
   "cell_type": "code",
   "execution_count": 19,
   "metadata": {},
   "outputs": [
    {
     "name": "stdout",
     "output_type": "stream",
     "text": [
      "WARNING:tensorflow:From /Users/tanvipotdar/pyenvs/lob/lib/python3.7/site-packages/tensorflow/python/ops/resource_variable_ops.py:435: colocate_with (from tensorflow.python.framework.ops) is deprecated and will be removed in a future version.\n",
      "Instructions for updating:\n",
      "Colocations handled automatically by placer.\n",
      "WARNING:tensorflow:From /Users/tanvipotdar/pyenvs/lob/lib/python3.7/site-packages/tensorflow/python/keras/utils/losses_utils.py:170: to_float (from tensorflow.python.ops.math_ops) is deprecated and will be removed in a future version.\n",
      "Instructions for updating:\n",
      "Use tf.cast instead.\n",
      "WARNING:tensorflow:From /Users/tanvipotdar/pyenvs/lob/lib/python3.7/site-packages/tensorflow/python/ops/math_ops.py:3066: to_int32 (from tensorflow.python.ops.math_ops) is deprecated and will be removed in a future version.\n",
      "Instructions for updating:\n",
      "Use tf.cast instead.\n",
      "Epoch 1/100\n",
      "19999/19999 [==============================] - 15s 761us/sample - loss: 1.2951e-04\n",
      "Epoch 2/100\n",
      "19999/19999 [==============================] - 15s 749us/sample - loss: 4.5669e-05\n",
      "Epoch 3/100\n",
      "19999/19999 [==============================] - 15s 739us/sample - loss: 6.0462e-05\n",
      "Epoch 4/100\n",
      "19999/19999 [==============================] - 14s 698us/sample - loss: 5.6644e-05\n",
      "Epoch 00004: early stopping\n"
     ]
    }
   ],
   "source": [
    "nn = keras.Sequential()\n",
    "nn.add(keras.layers.Dense(12, input_dim=1, activation='relu'))\n",
    "nn.add(keras.layers.Dense(1))\n",
    "nn.compile(loss='mean_squared_error', optimizer='adam')\n",
    "early_stop = keras.callbacks.EarlyStopping(monitor='loss', patience=2, verbose=1)\n",
    "history = nn.fit(scaled_train[:-1], scaled_train[1:], epochs=100, batch_size=1, \n",
    "                 verbose=1, callbacks=[early_stop], shuffle=False)"
   ]
  },
  {
   "cell_type": "code",
   "execution_count": 22,
   "metadata": {},
   "outputs": [
    {
     "name": "stdout",
     "output_type": "stream",
     "text": [
      "The R2 score on the Train set is:\t0.197\n",
      "The R2 score on the Train set is:\t-1.324\n"
     ]
    }
   ],
   "source": [
    "test_pred = nn.predict(scaled_test[:-1])\n",
    "train_pred = nn.predict(scaled_train[:-1])\n",
    "print(\"The R2 score on the Train set is:\\t{:0.3f}\".format(r2_score(scaled_train[1:], train_pred)))\n",
    "print(\"The R2 score on the Train set is:\\t{:0.3f}\".format(r2_score(scaled_test[1:], test_pred)))"
   ]
  },
  {
   "cell_type": "code",
   "execution_count": 31,
   "metadata": {},
   "outputs": [
    {
     "data": {
      "text/plain": [
       "array([[363451.44],\n",
       "       [363451.44],\n",
       "       [363451.44],\n",
       "       ...,\n",
       "       [363466.88],\n",
       "       [363451.44],\n",
       "       [363451.44]], dtype=float32)"
      ]
     },
     "execution_count": 31,
     "metadata": {},
     "output_type": "execute_result"
    }
   ],
   "source": [
    "scaler.inverse_transform(test_pred)"
   ]
  },
  {
   "cell_type": "code",
   "execution_count": 34,
   "metadata": {},
   "outputs": [
    {
     "data": {
      "text/plain": [
       "0.26217981537539514"
      ]
     },
     "execution_count": 34,
     "metadata": {},
     "output_type": "execute_result"
    }
   ],
   "source": [
    "from sklearn.metrics import mean_absolute_error\n",
    "mean_absolute_error(test_pred, scaled_test[1:])"
   ]
  },
  {
   "cell_type": "code",
   "execution_count": null,
   "metadata": {},
   "outputs": [],
   "source": []
  }
 ],
 "metadata": {
  "kernelspec": {
   "display_name": "Python 3",
   "language": "python",
   "name": "python3"
  },
  "language_info": {
   "codemirror_mode": {
    "name": "ipython",
    "version": 3
   },
   "file_extension": ".py",
   "mimetype": "text/x-python",
   "name": "python",
   "nbconvert_exporter": "python",
   "pygments_lexer": "ipython3",
   "version": "3.7.3"
  }
 },
 "nbformat": 4,
 "nbformat_minor": 2
}
