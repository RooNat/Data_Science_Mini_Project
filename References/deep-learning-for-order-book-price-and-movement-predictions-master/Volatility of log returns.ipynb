{
 "cells": [
  {
   "cell_type": "code",
   "execution_count": 1,
   "metadata": {
    "collapsed": true,
    "pycharm": {
     "name": "#%%\n"
    }
   },
   "outputs": [],
   "source": [
    "import pandas as pd\n",
    "from datetime import datetime, date\n",
    "import re\n",
    "from pandas import datetime as dt\n",
    "import numpy as np\n",
    "import seaborn as sns\n",
    "import matplotlib.pyplot as plt\n",
    "%matplotlib inline\n",
    "import warnings\n",
    "warnings.filterwarnings(action='ignore')"
   ]
  },
  {
   "cell_type": "code",
   "execution_count": 2,
   "metadata": {
    "pycharm": {
     "name": "#%%\n"
    }
   },
   "outputs": [
    {
     "data": {
      "text/plain": [
       "1    1521332236334\n",
       "2    1521332236375\n",
       "3    1521332236439\n",
       "4    1521332236986\n",
       "5    1521332236986\n",
       "6    1521332237087\n",
       "7    1521332237124\n",
       "8    1521332237233\n",
       "9    1521332237482\n",
       "Name: ExactTimeStamp, dtype: int64"
      ]
     },
     "execution_count": 2,
     "metadata": {},
     "output_type": "execute_result"
    }
   ],
   "source": [
    "trades = pd.read_csv('data/trades/ETHBTC-formatted_dates.csv')\n",
    "trades['ExactTimeStamp'][1:10]"
   ]
  },
  {
   "cell_type": "code",
   "execution_count": 3,
   "metadata": {
    "pycharm": {
     "name": "#%%\n"
    }
   },
   "outputs": [
    {
     "name": "stdout",
     "output_type": "stream",
     "text": [
      "First day 2018-03-18 00:17:16\n",
      "Last day 2018-04-26 17:42:24\n"
     ]
    }
   ],
   "source": [
    "firstTime = trades['ExactTimeStamp'][0]\n",
    "firstTimeAsDatetime = datetime.utcfromtimestamp(firstTime/1000.0);\n",
    "N = np.size(trades['ExactTimeStamp'])\n",
    "lastTime = trades['ExactTimeStamp'][N-1]\n",
    "lastTimeAsDatetime = datetime.utcfromtimestamp(lastTime/1000.0);\n",
    "print(\"First day \"+ firstTimeAsDatetime.strftime('%Y-%m-%d %H:%M:%S'))\n",
    "print(\"Last day \" + lastTimeAsDatetime.strftime('%Y-%m-%d %H:%M:%S'))"
   ]
  },
  {
   "cell_type": "markdown",
   "metadata": {
    "pycharm": {
     "name": "#%% md\n"
    }
   },
   "source": [
    "### Volatility of log returns:"
   ]
  },
  {
   "cell_type": "markdown",
   "metadata": {
    "pycharm": {
     "name": "#%% md\n"
    }
   },
   "source": [
    "$$\n",
    "\\begin{equation}\n",
    "\\sigma^2 = \\frac{1}{N-1}\\sum_{i=1}^N \\frac{(x_i - \\bar x)^2}{\\Delta t_i}\\,\n",
    "\\end{equation}\n",
    "$$\n",
    "\n",
    "where, $x_i = \\ln\\frac{S_i}{S_{i-1}}$ with $S_i$ the original prices, here $\\bar x$ is mean of $(x_i)_i$ and $\\Delta {t_i} = t_i - t_{i-1}$.\n",
    "\n",
    "The \"ExactTimeStamp\" is milliseconds since last UNIX epoch."
   ]
  },
  {
   "cell_type": "code",
   "execution_count": 4,
   "metadata": {
    "pycharm": {
     "name": "#%%\n"
    }
   },
   "outputs": [
    {
     "name": "stdout",
     "output_type": "stream",
     "text": [
      "Total samples before : 4710672\n",
      "Total samples after : 3144409\n"
     ]
    }
   ],
   "source": [
    "print(\"Total samples before :\", trades.shape[0])\n",
    "\n",
    "#deleting the equal ExactTimeStamps to avoid delta_t = 0\n",
    "trades.drop_duplicates('ExactTimeStamp', keep='first', inplace=True)\n",
    "\n",
    "print(\"Total samples after :\", trades.shape[0])"
   ]
  },
  {
   "cell_type": "code",
   "execution_count": 11,
   "metadata": {
    "pycharm": {
     "name": "#%%\n"
    }
   },
   "outputs": [
    {
     "name": "stdout",
     "output_type": "stream",
     "text": [
      "Vol is 0.30% per second\n",
      "Vol is 17.71% per hour\n",
      "Vol is 86.75% per day\n",
      "Vol is 1657.98% per year\n"
     ]
    }
   ],
   "source": [
    "def logReturns(S):\n",
    "    return np.log(S/S.shift(1));\n",
    "\n",
    "# assumes times come as unix times i.e. number of seconds from a date in the past\n",
    "def volFromTimeSeriesPerSecond(prices, timeStamps):\n",
    "    if (np.size(prices)<= 2):\n",
    "        raise ValueError('we need more prices than 2')\n",
    "    x = logReturns(prices)[1:]; # the value at the first index is NaN\n",
    "    xBar = np.mean(x);\n",
    "    deltaT = (timeStamps - timeStamps.shift(1))[1:]; # the value at the first index is NaN\n",
    "    deltaT = deltaT/1000.0;     \n",
    "    N = np.size(x);\n",
    "    return np.sqrt(sum((x-xBar)*(x-xBar)/deltaT)/(N-1));\n",
    "\n",
    "def volFromTimeSeriesPerHour(prices,timeStamps):\n",
    "    return volFromTimeSeriesPerSecond(prices, timeStamps)*np.sqrt(3600.0)\n",
    "\n",
    "def volFromTimeSeriesPerDay(prices,timeStamps):\n",
    "    return volFromTimeSeriesPerSecond(prices, timeStamps)*np.sqrt(3600.0*24)\n",
    "\n",
    "def volFromTimeSeriesPerYear(prices,timeStamps):\n",
    "    return volFromTimeSeriesPerSecond(prices, timeStamps)*np.sqrt(3600.0*24*365.25)\n",
    "\n",
    "\n",
    "print(\"Vol is %.2f%% per second\" % (100.0*volFromTimeSeriesPerSecond(trades['Price'], trades['ExactTimeStamp'])))\n",
    "print(\"Vol is %.2f%% per hour\" % (100.0*volFromTimeSeriesPerHour(trades['Price'], trades['ExactTimeStamp'])))\n",
    "print(\"Vol is %.2f%% per day\" % (100.0*volFromTimeSeriesPerDay(trades['Price'], trades['ExactTimeStamp'])))\n",
    "print(\"Vol is %.2f%% per year\" % (100.0*volFromTimeSeriesPerYear(trades['Price'], trades['ExactTimeStamp'])))\n"
   ]
  },
  {
   "cell_type": "markdown",
   "metadata": {
    "pycharm": {
     "name": "#%% md\n"
    }
   },
   "source": [
    "## Volatility per day:"
   ]
  },
  {
   "cell_type": "code",
   "execution_count": 59,
   "metadata": {
    "collapsed": true,
    "pycharm": {
     "name": "#%%\n"
    }
   },
   "outputs": [],
   "source": [
    "trades.drop_duplicates('ExactTimeStamp', keep='first', inplace=True)"
   ]
  },
  {
   "cell_type": "code",
   "execution_count": 60,
   "metadata": {
    "collapsed": true,
    "pycharm": {
     "name": "#%%\n"
    }
   },
   "outputs": [],
   "source": [
    "dates = trades.TimeStamp.unique().tolist()"
   ]
  },
  {
   "cell_type": "code",
   "execution_count": 61,
   "metadata": {
    "collapsed": true,
    "pycharm": {
     "name": "#%%\n"
    }
   },
   "outputs": [],
   "source": [
    "grouped = trades.set_index(['TimeStamp'])"
   ]
  },
  {
   "cell_type": "code",
   "execution_count": 62,
   "metadata": {
    "collapsed": true,
    "pycharm": {
     "name": "#%%\n"
    }
   },
   "outputs": [],
   "source": [
    "grouped['DailyVol'] = 0\n",
    "for date in dates:\n",
    "    grouped.loc[date, 'DailyVol'] = volFromTimeSeriesPerSecond(grouped.loc[date, 'Price'], grouped.loc[date, 'ExactTimeStamp'])"
   ]
  },
  {
   "cell_type": "code",
   "execution_count": null,
   "metadata": {
    "collapsed": true,
    "pycharm": {
     "name": "#%%\n"
    }
   },
   "outputs": [],
   "source": [
    "grouped.reset_index(inplace=True)\n",
    "grouped.TimeStamp = pd.to_datetime(grouped.TimeStamp)"
   ]
  },
  {
   "cell_type": "code",
   "execution_count": 74,
   "metadata": {
    "pycharm": {
     "name": "#%%\n"
    }
   },
   "outputs": [
    {
     "data": {
      "text/plain": [
       "<matplotlib.legend.Legend at 0x7fb4936ae0f0>"
      ]
     },
     "execution_count": 74,
     "metadata": {},
     "output_type": "execute_result"
    },
    {
     "data": {
      "image/png": "[encoded data removed]",
      "text/plain": [
       "<matplotlib.figure.Figure at 0x7fb493623208>"
      ]
     },
     "metadata": {},
     "output_type": "display_data"
    }
   ],
   "source": [
    "import matplotlib.pyplot as plt\n",
    "%matplotlib inline\n",
    "\n",
    "plt.figure(figsize=(10,6))\n",
    "plt.plot(grouped.TimeStamp, grouped.DailyVol, label='Daily Volatility')\n",
    "plt.legend()"
   ]
  },
  {
   "cell_type": "code",
   "execution_count": null,
   "metadata": {
    "collapsed": true,
    "pycharm": {
     "name": "#%%\n"
    }
   },
   "outputs": [],
   "source": []
  }
 ],
 "metadata": {
  "kernelspec": {
   "display_name": "Python 3",
   "language": "python",
   "name": "python3"
  },
  "language_info": {
   "codemirror_mode": {
    "name": "ipython",
    "version": 3
   },
   "file_extension": ".py",
   "mimetype": "text/x-python",
   "name": "python",
   "nbconvert_exporter": "python",
   "pygments_lexer": "ipython3",
   "version": "3.6.1"
  }
 },
 "nbformat": 4,
 "nbformat_minor": 2
}