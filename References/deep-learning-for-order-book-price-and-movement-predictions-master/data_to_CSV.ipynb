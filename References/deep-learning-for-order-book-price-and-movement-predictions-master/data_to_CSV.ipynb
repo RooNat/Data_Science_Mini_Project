{
 "nbformat": 4,
 "nbformat_minor": 0,
 "metadata": {
  "colab": {
   "name": "data to CSV.ipynb",
   "version": "0.3.2",
   "provenance": [],
   "collapsed_sections": []
  },
  "kernelspec": {
   "name": "python3",
   "display_name": "Python 3"
  },
  "accelerator": "GPU"
 },
 "cells": [
  {
   "metadata": {
    "id": "rrx6UkKHziT2",
    "colab_type": "code",
    "colab": {},
    "pycharm": {
     "name": "#%%\n"
    }
   },
   "cell_type": "code",
   "source": [
    "import numpy as np\n",
    "#import scipy as sc \n",
    "import pandas as pd\n",
    "#import keras"
   ],
   "execution_count": 0,
   "outputs": []
  },
  {
   "metadata": {
    "id": "S_cQy5Z2SsWY",
    "colab_type": "code",
    "colab": {},
    "pycharm": {
     "name": "#%%\n"
    }
   },
   "cell_type": "code",
   "source": [
    "import matplotlib.pyplot as plt"
   ],
   "execution_count": 0,
   "outputs": []
  },
  {
   "metadata": {
    "id": "RW50SvoMBO41",
    "colab_type": "code",
    "outputId": "dbedee61-4be4-410a-b6fe-0894bffdba9d",
    "colab": {
     "base_uri": "https://localhost:8080/",
     "height": 34
    },
    "pycharm": {
     "name": "#%%\n"
    }
   },
   "cell_type": "code",
   "source": [
    "import tensorflow as tf\n",
    "tf.test.gpu_device_name() #check if gpu is on"
   ],
   "execution_count": 0,
   "outputs": [
    {
     "output_type": "execute_result",
     "data": {
      "text/plain": [
       "'/device:GPU:0'"
      ]
     },
     "metadata": {
      "tags": []
     },
     "execution_count": 2
    }
   ]
  },
  {
   "metadata": {
    "id": "fPUjIK0ttmBZ",
    "colab_type": "code",
    "outputId": "be4bfbf8-609a-4810-fb88-89bb226931e3",
    "colab": {
     "base_uri": "https://localhost:8080/",
     "height": 34
    },
    "pycharm": {
     "name": "#%%\n"
    }
   },
   "cell_type": "code",
   "source": [
    "from google.colab import drive\n",
    "\n",
    "# This will prompt for authorization\n",
    "drive.mount('/content/drive')"
   ],
   "execution_count": 1,
   "outputs": [
    {
     "ename": "ModuleNotFoundError",
     "evalue": "No module named 'google.colab'",
     "output_type": "error",
     "traceback": [
      "\u001B[0;31m---------------------------------------------------------------------------\u001B[0m",
      "\u001B[0;31mModuleNotFoundError\u001B[0m                       Traceback (most recent call last)",
      "Cell \u001B[0;32mIn[1], line 1\u001B[0m\n\u001B[0;32m----> 1\u001B[0m \u001B[38;5;28;01mfrom\u001B[39;00m \u001B[38;5;21;01mgoogle\u001B[39;00m\u001B[38;5;21;01m.\u001B[39;00m\u001B[38;5;21;01mcolab\u001B[39;00m \u001B[38;5;28;01mimport\u001B[39;00m drive\n\u001B[1;32m      3\u001B[0m \u001B[38;5;66;03m# This will prompt for authorization\u001B[39;00m\n\u001B[1;32m      4\u001B[0m drive\u001B[38;5;241m.\u001B[39mmount(\u001B[38;5;124m'\u001B[39m\u001B[38;5;124m/content/drive\u001B[39m\u001B[38;5;124m'\u001B[39m)\n",
      "\u001B[0;31mModuleNotFoundError\u001B[0m: No module named 'google.colab'"
     ]
    }
   ]
  },
  {
   "metadata": {
    "id": "CNs-T9pFU_LT",
    "colab_type": "code",
    "colab": {},
    "pycharm": {
     "name": "#%%\n"
    }
   },
   "cell_type": "code",
   "source": [
    "def format_file(f_file, order):\n",
    "    import re\n",
    "    with open(f_file, 'r') as file :\n",
    "        filedata = file.read()\n",
    "        \n",
    "        if order=='yes':\n",
    "            \n",
    "            #format the first line suitable for use in Pandas\n",
    "            filedata = filedata.replace('TimeStamp,[Buy/Sell|Price|Volume]\\n',\n",
    "                                        'TimeStamp|Buy/Sell|Price|Volume\\n')   \n",
    "      \n",
    "        else:\n",
    "          \n",
    "            #format the first line suitable for use in Pandas\n",
    "            filedata = filedata.replace('TimeStamp,[ExactTimeStamp|BuyType|Price|ID|Volume]\\n',\n",
    "                                        'TimeStamp|ExactTimeStamp|BuyType|Price|ID|Volume\\n') \n",
    "            \n",
    "            \n",
    "    #change the ',' after timestamps to '|' to have same delimiter for all the columns \n",
    "    filedata = re.sub('((^[\\d]{10})([\\,]))', r'\\2|', filedata, flags=re.M)\n",
    "\n",
    "    #add newlines and a pipe at the end of each datapoint (each ExactTimeStamp)\n",
    "    filedata = filedata.replace(',', '\\n|')\n",
    "    \n",
    "    #write the file out again\n",
    "    with open(f_file, 'w') as file:\n",
    "        file.write(filedata)  "
   ],
   "execution_count": 0,
   "outputs": []
  },
  {
   "metadata": {
    "id": "kBOiRYIVaGx6",
    "colab_type": "code",
    "colab": {},
    "pycharm": {
     "name": "#%%\n"
    }
   },
   "cell_type": "code",
   "source": [
    "orders = '/content/drive/My Drive/Vega/MachineLearning/data/binance/orders/ETHBTC.csv'\n",
    "trades = '/content/drive/My Drive/Vega/MachineLearning/data/binance/trades/ETHBTC.csv'"
   ],
   "execution_count": 0,
   "outputs": []
  },
  {
   "metadata": {
    "id": "vE_uPq--jb6M",
    "colab_type": "code",
    "colab": {},
    "pycharm": {
     "name": "#%%\n"
    }
   },
   "cell_type": "code",
   "source": [
    "#format_file(orders, 'yes') #commented out so it doesnt run accidentally"
   ],
   "execution_count": 0,
   "outputs": []
  },
  {
   "metadata": {
    "id": "8szVpiCMlYzM",
    "colab_type": "code",
    "colab": {},
    "pycharm": {
     "name": "#%%\n"
    }
   },
   "cell_type": "code",
   "source": [
    "#format_file(trades, 'no')"
   ],
   "execution_count": 0,
   "outputs": []
  },
  {
   "metadata": {
    "id": "4VjtqSGJLErf",
    "colab_type": "code",
    "outputId": "ef98defd-7531-4f48-e73a-a41b93c92348",
    "colab": {
     "base_uri": "https://localhost:8080/",
     "height": 221
    },
    "pycharm": {
     "name": "#%%\n"
    }
   },
   "cell_type": "code",
   "source": [
    "orders = pd.read_csv(orders, delimiter='|') \n",
    "print(orders.shape)\n",
    "orders.head()"
   ],
   "execution_count": 0,
   "outputs": [
    {
     "output_type": "stream",
     "text": [
      "(19010149, 4)\n"
     ],
     "name": "stdout"
    },
    {
     "output_type": "execute_result",
     "data": {
      "text/html": [
       "<div>\n",
       "<style scoped>\n",
       "    .dataframe tbody tr th:only-of-type {\n",
       "        vertical-align: middle;\n",
       "    }\n",
       "\n",
       "    .dataframe tbody tr th {\n",
       "        vertical-align: top;\n",
       "    }\n",
       "\n",
       "    .dataframe thead th {\n",
       "        text-align: right;\n",
       "    }\n",
       "</style>\n",
       "<table border=\"1\" class=\"dataframe\">\n",
       "  <thead>\n",
       "    <tr style=\"text-align: right;\">\n",
       "      <th></th>\n",
       "      <th>TimeStamp</th>\n",
       "      <th>Buy/Sell</th>\n",
       "      <th>Price</th>\n",
       "      <th>Volume</th>\n",
       "    </tr>\n",
       "  </thead>\n",
       "  <tbody>\n",
       "    <tr>\n",
       "      <th>0</th>\n",
       "      <td>1.521332e+09</td>\n",
       "      <td>B</td>\n",
       "      <td>0.069430</td>\n",
       "      <td>0.864</td>\n",
       "    </tr>\n",
       "    <tr>\n",
       "      <th>1</th>\n",
       "      <td>NaN</td>\n",
       "      <td>B</td>\n",
       "      <td>0.069429</td>\n",
       "      <td>0.327</td>\n",
       "    </tr>\n",
       "    <tr>\n",
       "      <th>2</th>\n",
       "      <td>NaN</td>\n",
       "      <td>B</td>\n",
       "      <td>0.069416</td>\n",
       "      <td>0.090</td>\n",
       "    </tr>\n",
       "    <tr>\n",
       "      <th>3</th>\n",
       "      <td>NaN</td>\n",
       "      <td>B</td>\n",
       "      <td>0.069406</td>\n",
       "      <td>0.084</td>\n",
       "    </tr>\n",
       "    <tr>\n",
       "      <th>4</th>\n",
       "      <td>NaN</td>\n",
       "      <td>B</td>\n",
       "      <td>0.069404</td>\n",
       "      <td>0.269</td>\n",
       "    </tr>\n",
       "  </tbody>\n",
       "</table>\n",
       "</div>"
      ],
      "text/plain": [
       "      TimeStamp Buy/Sell     Price  Volume\n",
       "0  1.521332e+09        B  0.069430   0.864\n",
       "1           NaN        B  0.069429   0.327\n",
       "2           NaN        B  0.069416   0.090\n",
       "3           NaN        B  0.069406   0.084\n",
       "4           NaN        B  0.069404   0.269"
      ]
     },
     "metadata": {
      "tags": []
     },
     "execution_count": 9
    }
   ]
  },
  {
   "metadata": {
    "id": "kTwyb2gPls1w",
    "colab_type": "code",
    "outputId": "d23a428e-32f7-4a8f-e3a2-38d3592b2068",
    "colab": {
     "base_uri": "https://localhost:8080/",
     "height": 221
    },
    "pycharm": {
     "name": "#%%\n"
    }
   },
   "cell_type": "code",
   "source": [
    "trades = pd.read_csv(trades, delimiter='|')\n",
    "print(trades.shape)\n",
    "trades.head()"
   ],
   "execution_count": 0,
   "outputs": [
    {
     "output_type": "stream",
     "text": [
      "(4710672, 6)\n"
     ],
     "name": "stdout"
    },
    {
     "output_type": "execute_result",
     "data": {
      "text/html": [
       "<div>\n",
       "<style scoped>\n",
       "    .dataframe tbody tr th:only-of-type {\n",
       "        vertical-align: middle;\n",
       "    }\n",
       "\n",
       "    .dataframe tbody tr th {\n",
       "        vertical-align: top;\n",
       "    }\n",
       "\n",
       "    .dataframe thead th {\n",
       "        text-align: right;\n",
       "    }\n",
       "</style>\n",
       "<table border=\"1\" class=\"dataframe\">\n",
       "  <thead>\n",
       "    <tr style=\"text-align: right;\">\n",
       "      <th></th>\n",
       "      <th>TimeStamp</th>\n",
       "      <th>ExactTimeStamp</th>\n",
       "      <th>BuyType</th>\n",
       "      <th>Price</th>\n",
       "      <th>ID</th>\n",
       "      <th>Volume</th>\n",
       "    </tr>\n",
       "  </thead>\n",
       "  <tbody>\n",
       "    <tr>\n",
       "      <th>0</th>\n",
       "      <td>1.521332e+09</td>\n",
       "      <td>1521332236315</td>\n",
       "      <td>False</td>\n",
       "      <td>0.069726</td>\n",
       "      <td>44207735</td>\n",
       "      <td>0.100</td>\n",
       "    </tr>\n",
       "    <tr>\n",
       "      <th>1</th>\n",
       "      <td>NaN</td>\n",
       "      <td>1521332236334</td>\n",
       "      <td>False</td>\n",
       "      <td>0.069726</td>\n",
       "      <td>44207736</td>\n",
       "      <td>0.030</td>\n",
       "    </tr>\n",
       "    <tr>\n",
       "      <th>2</th>\n",
       "      <td>NaN</td>\n",
       "      <td>1521332236375</td>\n",
       "      <td>True</td>\n",
       "      <td>0.069707</td>\n",
       "      <td>44207737</td>\n",
       "      <td>0.920</td>\n",
       "    </tr>\n",
       "    <tr>\n",
       "      <th>3</th>\n",
       "      <td>NaN</td>\n",
       "      <td>1521332236439</td>\n",
       "      <td>False</td>\n",
       "      <td>0.069726</td>\n",
       "      <td>44207738</td>\n",
       "      <td>0.050</td>\n",
       "    </tr>\n",
       "    <tr>\n",
       "      <th>4</th>\n",
       "      <td>NaN</td>\n",
       "      <td>1521332236986</td>\n",
       "      <td>True</td>\n",
       "      <td>0.069707</td>\n",
       "      <td>44207739</td>\n",
       "      <td>1.153</td>\n",
       "    </tr>\n",
       "  </tbody>\n",
       "</table>\n",
       "</div>"
      ],
      "text/plain": [
       "      TimeStamp  ExactTimeStamp  BuyType     Price        ID  Volume\n",
       "0  1.521332e+09   1521332236315    False  0.069726  44207735   0.100\n",
       "1           NaN   1521332236334    False  0.069726  44207736   0.030\n",
       "2           NaN   1521332236375     True  0.069707  44207737   0.920\n",
       "3           NaN   1521332236439    False  0.069726  44207738   0.050\n",
       "4           NaN   1521332236986     True  0.069707  44207739   1.153"
      ]
     },
     "metadata": {
      "tags": []
     },
     "execution_count": 10
    }
   ]
  },
  {
   "metadata": {
    "id": "-wmTQVtB__4u",
    "colab_type": "code",
    "colab": {},
    "pycharm": {
     "name": "#%%\n"
    }
   },
   "cell_type": "code",
   "source": [
    "trades.TimeStamp.fillna(method='ffill', axis=0, inplace=True)\n",
    "trades.to_csv('/content/drive/My Drive/Vega/MachineLearning/data/binance/trades/ETHBTC-modified_2.csv', index=False)"
   ],
   "execution_count": 0,
   "outputs": []
  },
  {
   "metadata": {
    "id": "hzzgrz-ygwKI",
    "colab_type": "code",
    "colab": {},
    "pycharm": {
     "name": "#%%\n"
    }
   },
   "cell_type": "code",
   "source": [
    "orders.TimeStamp.fillna(method='ffill', axis=0, inplace=True)\n",
    "orders.to_csv('/content/drive/My Drive/Vega/MachineLearning/data/binance/orders/ETHBTC-modified.csv', index=False)"
   ],
   "execution_count": 0,
   "outputs": []
  },
  {
   "metadata": {
    "id": "I9JprGQM9Kea",
    "colab_type": "code",
    "colab": {},
    "pycharm": {
     "name": "#%%\n"
    }
   },
   "cell_type": "code",
   "source": [],
   "execution_count": 0,
   "outputs": []
  }
 ]
}